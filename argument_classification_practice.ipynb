{
 "cells": [
  {
   "cell_type": "markdown",
   "metadata": {},
   "source": [
    "Import all the super important and useful libraries"
   ]
  },
  {
   "cell_type": "code",
   "execution_count": 1,
   "metadata": {},
   "outputs": [],
   "source": [
    "import pandas as pd\n",
    "import numpy as np\n",
    "import nltk\n",
    "from sklearn.neural_network import MLPRegressor\n",
    "from sklearn.preprocessing import MinMaxScaler"
   ]
  },
  {
   "cell_type": "markdown",
   "metadata": {},
   "source": [
    "Read in the four datasets"
   ]
  },
  {
   "cell_type": "code",
   "execution_count": 2,
   "metadata": {},
   "outputs": [],
   "source": [
    "raw_data_dp = pd.read_csv('data/dp-slider-means.csv')\n",
    "raw_data_evo = pd.read_csv('data/evo-slider-means.csv')\n",
    "raw_data_gc = pd.read_csv('data/gc-slider-means.csv')\n",
    "raw_data_gm = pd.read_csv('data/gm-slider-means.csv')"
   ]
  },
  {
   "cell_type": "markdown",
   "metadata": {},
   "source": [
    "Show the amount of rows and columns for each dataset"
   ]
  },
  {
   "cell_type": "code",
   "execution_count": 3,
   "metadata": {},
   "outputs": [
    {
     "name": "stdout",
     "output_type": "stream",
     "text": [
      "The data contains 8 columns\n",
      "Amount of rows:\n",
      " total: 5375 \n",
      " dp: 987 \n",
      " evo: 1252\n",
      " gc: 1590\n",
      " gm: 1546\n"
     ]
    }
   ],
   "source": [
    "n_rows = len(raw_data_dp) + len(raw_data_evo) + len(raw_data_gc) + len(raw_data_gm)\n",
    "\n",
    "print(\"The data contains {0} columns\".format(len(raw_data_dp.columns)))\n",
    "print(\"Amount of rows:\\n total: {0} \\n dp: {1} \\n evo: {2}\\n gc: {3}\\n gm: {4}\".format(n_rows, len(raw_data_dp),\n",
    "                                                                                       len(raw_data_evo), \n",
    "                                                                         len(raw_data_gc), len(raw_data_gm)))"
   ]
  },
  {
   "cell_type": "markdown",
   "metadata": {},
   "source": [
    "Combine all four datasets into one data frame"
   ]
  },
  {
   "cell_type": "code",
   "execution_count": 4,
   "metadata": {},
   "outputs": [],
   "source": [
    "frames = [raw_data_dp, raw_data_evo, raw_data_gc, raw_data_gm]"
   ]
  },
  {
   "cell_type": "code",
   "execution_count": 5,
   "metadata": {},
   "outputs": [],
   "source": [
    "raw_data = pd.concat(frames, axis = 0)"
   ]
  },
  {
   "cell_type": "code",
   "execution_count": 6,
   "metadata": {},
   "outputs": [
    {
     "name": "stdout",
     "output_type": "stream",
     "text": [
      "The combined dataset now contains 5375 rows and 8 columns\n"
     ]
    }
   ],
   "source": [
    "print(\"The combined dataset now contains {0} rows and {1} columns\".format(len(raw_data), len(raw_data.columns)))"
   ]
  },
  {
   "cell_type": "markdown",
   "metadata": {},
   "source": [
    "Inspect the first 5 rows of the new dataset"
   ]
  },
  {
   "cell_type": "code",
   "execution_count": 7,
   "metadata": {},
   "outputs": [
    {
     "data": {
      "text/html": [
       "<div>\n",
       "<style scoped>\n",
       "    .dataframe tbody tr th:only-of-type {\n",
       "        vertical-align: middle;\n",
       "    }\n",
       "\n",
       "    .dataframe tbody tr th {\n",
       "        vertical-align: top;\n",
       "    }\n",
       "\n",
       "    .dataframe thead th {\n",
       "        text-align: right;\n",
       "    }\n",
       "</style>\n",
       "<table border=\"1\" class=\"dataframe\">\n",
       "  <thead>\n",
       "    <tr style=\"text-align: right;\">\n",
       "      <th></th>\n",
       "      <th>Unnamed: 0</th>\n",
       "      <th>ItemId</th>\n",
       "      <th>GoodSliderMean</th>\n",
       "      <th>GoodSliderDev</th>\n",
       "      <th>Connective.x</th>\n",
       "      <th>PairType.x</th>\n",
       "      <th>ResponseInitial.x</th>\n",
       "      <th>Phrase.x</th>\n",
       "    </tr>\n",
       "  </thead>\n",
       "  <tbody>\n",
       "    <tr>\n",
       "      <th>0</th>\n",
       "      <td>658</td>\n",
       "      <td>ab5810d83f23243ddce713ac23d775cd</td>\n",
       "      <td>1.000</td>\n",
       "      <td>NaN</td>\n",
       "      <td>so</td>\n",
       "      <td>P1_P2</td>\n",
       "      <td>false</td>\n",
       "      <td>Sorry for the length of the post, but I hope i...</td>\n",
       "    </tr>\n",
       "    <tr>\n",
       "      <th>1</th>\n",
       "      <td>871</td>\n",
       "      <td>e0a35a65ce12b2457e8ff1f9b8cec749</td>\n",
       "      <td>1.000</td>\n",
       "      <td>0.000000</td>\n",
       "      <td>no_connective</td>\n",
       "      <td>P1_P2</td>\n",
       "      <td>true</td>\n",
       "      <td>I am all for the death penalty.</td>\n",
       "    </tr>\n",
       "    <tr>\n",
       "      <th>2</th>\n",
       "      <td>931</td>\n",
       "      <td>f16863ac9454707946061848c7e9a3e5</td>\n",
       "      <td>1.000</td>\n",
       "      <td>0.000000</td>\n",
       "      <td>no_connective</td>\n",
       "      <td>P1_P2</td>\n",
       "      <td>true</td>\n",
       "      <td>I am pro death penalty.</td>\n",
       "    </tr>\n",
       "    <tr>\n",
       "      <th>3</th>\n",
       "      <td>936</td>\n",
       "      <td>f1f99c6b1f3f14025a3c01cb8a13b10b</td>\n",
       "      <td>1.000</td>\n",
       "      <td>NaN</td>\n",
       "      <td>no_connective</td>\n",
       "      <td>P1_P2</td>\n",
       "      <td>false</td>\n",
       "      <td>I can't believe that you just said \"So what if...</td>\n",
       "    </tr>\n",
       "    <tr>\n",
       "      <th>4</th>\n",
       "      <td>11</td>\n",
       "      <td>029bc4e01ac943f87837556b32d5627a</td>\n",
       "      <td>0.999</td>\n",
       "      <td>0.001414</td>\n",
       "      <td>so</td>\n",
       "      <td>QR</td>\n",
       "      <td>false</td>\n",
       "      <td>So what does he have to do with a debate like ...</td>\n",
       "    </tr>\n",
       "  </tbody>\n",
       "</table>\n",
       "</div>"
      ],
      "text/plain": [
       "   Unnamed: 0                            ItemId  GoodSliderMean  \\\n",
       "0         658  ab5810d83f23243ddce713ac23d775cd           1.000   \n",
       "1         871  e0a35a65ce12b2457e8ff1f9b8cec749           1.000   \n",
       "2         931  f16863ac9454707946061848c7e9a3e5           1.000   \n",
       "3         936  f1f99c6b1f3f14025a3c01cb8a13b10b           1.000   \n",
       "4          11  029bc4e01ac943f87837556b32d5627a           0.999   \n",
       "\n",
       "   GoodSliderDev   Connective.x PairType.x ResponseInitial.x  \\\n",
       "0            NaN             so      P1_P2             false   \n",
       "1       0.000000  no_connective      P1_P2              true   \n",
       "2       0.000000  no_connective      P1_P2              true   \n",
       "3            NaN  no_connective      P1_P2             false   \n",
       "4       0.001414             so         QR             false   \n",
       "\n",
       "                                            Phrase.x  \n",
       "0  Sorry for the length of the post, but I hope i...  \n",
       "1                    I am all for the death penalty.  \n",
       "2                            I am pro death penalty.  \n",
       "3  I can't believe that you just said \"So what if...  \n",
       "4  So what does he have to do with a debate like ...  "
      ]
     },
     "execution_count": 7,
     "metadata": {},
     "output_type": "execute_result"
    }
   ],
   "source": [
    "raw_data.head()"
   ]
  },
  {
   "cell_type": "markdown",
   "metadata": {},
   "source": [
    "We are only interested in the argument score and the argument itself, so only keep that"
   ]
  },
  {
   "cell_type": "code",
   "execution_count": 8,
   "metadata": {},
   "outputs": [],
   "source": [
    "raw_data = raw_data[[\"GoodSliderMean\", \"Phrase.x\"]]"
   ]
  },
  {
   "cell_type": "markdown",
   "metadata": {},
   "source": [
    "Now, we only have the arguments and its annotated score"
   ]
  },
  {
   "cell_type": "code",
   "execution_count": 9,
   "metadata": {},
   "outputs": [
    {
     "data": {
      "text/html": [
       "<div>\n",
       "<style scoped>\n",
       "    .dataframe tbody tr th:only-of-type {\n",
       "        vertical-align: middle;\n",
       "    }\n",
       "\n",
       "    .dataframe tbody tr th {\n",
       "        vertical-align: top;\n",
       "    }\n",
       "\n",
       "    .dataframe thead th {\n",
       "        text-align: right;\n",
       "    }\n",
       "</style>\n",
       "<table border=\"1\" class=\"dataframe\">\n",
       "  <thead>\n",
       "    <tr style=\"text-align: right;\">\n",
       "      <th></th>\n",
       "      <th>GoodSliderMean</th>\n",
       "      <th>Phrase.x</th>\n",
       "    </tr>\n",
       "  </thead>\n",
       "  <tbody>\n",
       "    <tr>\n",
       "      <th>0</th>\n",
       "      <td>1.000</td>\n",
       "      <td>Sorry for the length of the post, but I hope i...</td>\n",
       "    </tr>\n",
       "    <tr>\n",
       "      <th>1</th>\n",
       "      <td>1.000</td>\n",
       "      <td>I am all for the death penalty.</td>\n",
       "    </tr>\n",
       "    <tr>\n",
       "      <th>2</th>\n",
       "      <td>1.000</td>\n",
       "      <td>I am pro death penalty.</td>\n",
       "    </tr>\n",
       "    <tr>\n",
       "      <th>3</th>\n",
       "      <td>1.000</td>\n",
       "      <td>I can't believe that you just said \"So what if...</td>\n",
       "    </tr>\n",
       "    <tr>\n",
       "      <th>4</th>\n",
       "      <td>0.999</td>\n",
       "      <td>So what does he have to do with a debate like ...</td>\n",
       "    </tr>\n",
       "  </tbody>\n",
       "</table>\n",
       "</div>"
      ],
      "text/plain": [
       "   GoodSliderMean                                           Phrase.x\n",
       "0           1.000  Sorry for the length of the post, but I hope i...\n",
       "1           1.000                    I am all for the death penalty.\n",
       "2           1.000                            I am pro death penalty.\n",
       "3           1.000  I can't believe that you just said \"So what if...\n",
       "4           0.999  So what does he have to do with a debate like ..."
      ]
     },
     "execution_count": 9,
     "metadata": {},
     "output_type": "execute_result"
    }
   ],
   "source": [
    "raw_data.head()"
   ]
  },
  {
   "cell_type": "markdown",
   "metadata": {},
   "source": [
    "The data is now ordered by topic and by argument score, so shuffle it before using it for classification"
   ]
  },
  {
   "cell_type": "code",
   "execution_count": 10,
   "metadata": {},
   "outputs": [],
   "source": [
    "raw_data = raw_data.sample(frac = 1)"
   ]
  },
  {
   "cell_type": "markdown",
   "metadata": {},
   "source": [
    "The data is now properly shuffled"
   ]
  },
  {
   "cell_type": "code",
   "execution_count": 11,
   "metadata": {},
   "outputs": [
    {
     "data": {
      "text/html": [
       "<div>\n",
       "<style scoped>\n",
       "    .dataframe tbody tr th:only-of-type {\n",
       "        vertical-align: middle;\n",
       "    }\n",
       "\n",
       "    .dataframe tbody tr th {\n",
       "        vertical-align: top;\n",
       "    }\n",
       "\n",
       "    .dataframe thead th {\n",
       "        text-align: right;\n",
       "    }\n",
       "</style>\n",
       "<table border=\"1\" class=\"dataframe\">\n",
       "  <thead>\n",
       "    <tr style=\"text-align: right;\">\n",
       "      <th></th>\n",
       "      <th>GoodSliderMean</th>\n",
       "      <th>Phrase.x</th>\n",
       "    </tr>\n",
       "  </thead>\n",
       "  <tbody>\n",
       "    <tr>\n",
       "      <th>1032</th>\n",
       "      <td>0.328000</td>\n",
       "      <td>If anti-gunners are looking for a pro-gun Bell...</td>\n",
       "    </tr>\n",
       "    <tr>\n",
       "      <th>906</th>\n",
       "      <td>0.439750</td>\n",
       "      <td>See, that's one of the flaws that I see in red...</td>\n",
       "    </tr>\n",
       "    <tr>\n",
       "      <th>1208</th>\n",
       "      <td>0.097500</td>\n",
       "      <td>so do we trash the whole thing, or what?</td>\n",
       "    </tr>\n",
       "    <tr>\n",
       "      <th>362</th>\n",
       "      <td>0.667333</td>\n",
       "      <td>But weeks later, Mexican authorities still hav...</td>\n",
       "    </tr>\n",
       "    <tr>\n",
       "      <th>877</th>\n",
       "      <td>0.330750</td>\n",
       "      <td>If not they would just put them down, like you...</td>\n",
       "    </tr>\n",
       "  </tbody>\n",
       "</table>\n",
       "</div>"
      ],
      "text/plain": [
       "      GoodSliderMean                                           Phrase.x\n",
       "1032        0.328000  If anti-gunners are looking for a pro-gun Bell...\n",
       "906         0.439750  See, that's one of the flaws that I see in red...\n",
       "1208        0.097500           so do we trash the whole thing, or what?\n",
       "362         0.667333  But weeks later, Mexican authorities still hav...\n",
       "877         0.330750  If not they would just put them down, like you..."
      ]
     },
     "execution_count": 11,
     "metadata": {},
     "output_type": "execute_result"
    }
   ],
   "source": [
    "raw_data.head()"
   ]
  },
  {
   "cell_type": "code",
   "execution_count": 12,
   "metadata": {},
   "outputs": [],
   "source": [
    "sentences = raw_data[\"Phrase.x\"].values"
   ]
  },
  {
   "cell_type": "code",
   "execution_count": 13,
   "metadata": {},
   "outputs": [
    {
     "name": "stdout",
     "output_type": "stream",
     "text": [
      "Negatives: 0.493953488372093, Positives: 0.5060465116279069\n"
     ]
    }
   ],
   "source": [
    "labels = raw_data[\"GoodSliderMean\"].values\n",
    "negatives = labels[labels < 0.55]\n",
    "positives = labels[labels >= 0.55]\n",
    "print(\"Negatives: {0}, Positives: {1}\".format(len(negatives) / len(raw_data), len(positives) / len(raw_data)))\n",
    "\n",
    "labels[labels < 0.6] = 0\n",
    "labels[labels >= 0.6] = 1\n",
    "                                                 \n"
   ]
  },
  {
   "cell_type": "markdown",
   "metadata": {},
   "source": [
    "Define a function that encodes the sentences into usable vectors for classification"
   ]
  },
  {
   "cell_type": "code",
   "execution_count": 14,
   "metadata": {},
   "outputs": [],
   "source": [
    "def encode_sentences(sentences):\n",
    "    scaler = MinMaxScaler() \n",
    "    dataset = []\n",
    "    for i in range(len(sentences)):\n",
    "        # tokenize the sentence\n",
    "        tokens = nltk.word_tokenize(sentences[i])\n",
    "        # tag the all the tokens\n",
    "        pos_tokens = nltk.pos_tag(tokens)\n",
    "        # for each pos tag, count how many times it occurs in the sentence\n",
    "        pos_dict = generate_count_dict()\n",
    "        for tag in pos_tokens:\n",
    "            if tag[1] in pos_dict:\n",
    "                pos_dict[tag[1]] = 1\n",
    "        # get the pos tag counts as features \n",
    "        feature_vector = list(pos_dict.values())\n",
    "        # compute the average word length of the sentence\n",
    "        n_chars = 0\n",
    "        avg_len = 0\n",
    "        for token in tokens:\n",
    "            if(token not in \".,?!\"):\n",
    "                n_chars += len(token)\n",
    "        avg_len = n_chars / len(tokens)\n",
    "        \n",
    "        feature_vector.append(avg_len)\n",
    "        dataset.append(feature_vector)\n",
    "    #dataset = pd.DataFrame(dataset)\n",
    "    #dataset[len(feature_vector) - 1] = dataset[len(feature_vector) - 1] / max(dataset[len(feature_vector) - 1])\n",
    "    #return dataset.values\n",
    "    return dataset\n",
    "    "
   ]
  },
  {
   "cell_type": "code",
   "execution_count": 15,
   "metadata": {},
   "outputs": [],
   "source": [
    "def generate_count_dict():\n",
    "    tags = ['IN', 'PRP', 'VBP', 'TO', 'VB', 'JJ', 'NN', 'VBZ', 'VBN', 'DT', 'NNP', 'VBD', '.',\n",
    "           'CC', 'CD', 'EX', 'FW', 'JJR', 'JJS', 'LS', 'WP', 'WP$', 'WRB']\n",
    "    dic = dict.fromkeys(tags, 0)\n",
    "    return dic\n",
    "    "
   ]
  },
  {
   "cell_type": "code",
   "execution_count": 16,
   "metadata": {},
   "outputs": [],
   "source": [
    "dataset = encode_sentences(sentences)"
   ]
  },
  {
   "cell_type": "code",
   "execution_count": 17,
   "metadata": {},
   "outputs": [],
   "source": [
    "N = len(dataset)\n",
    "Xtrain = dataset[0:int(0.8*len(dataset))]\n",
    "Ytrain = labels[0:int(0.8*len(dataset))]\n",
    "\n",
    "Xtest = dataset[int(0.8*len(dataset)):]\n",
    "Ytest = labels[int(0.8*len(dataset)):]"
   ]
  },
  {
   "cell_type": "markdown",
   "metadata": {},
   "source": [
    "Fit a MLP on the dataset"
   ]
  },
  {
   "cell_type": "code",
   "execution_count": 18,
   "metadata": {},
   "outputs": [],
   "source": [
    "from sklearn.linear_model import LogisticRegression\n",
    "from sklearn.svm import LinearSVC\n",
    "from sklearn.neural_network import MLPClassifier\n",
    "mlp = MLPClassifier()\n",
    "lm = LogisticRegression()\n",
    "svm =  LinearSVC()"
   ]
  },
  {
   "cell_type": "code",
   "execution_count": 19,
   "metadata": {},
   "outputs": [
    {
     "data": {
      "text/plain": [
       "LinearSVC(C=1.0, class_weight=None, dual=True, fit_intercept=True,\n",
       "     intercept_scaling=1, loss='squared_hinge', max_iter=1000,\n",
       "     multi_class='ovr', penalty='l2', random_state=None, tol=0.0001,\n",
       "     verbose=0)"
      ]
     },
     "execution_count": 19,
     "metadata": {},
     "output_type": "execute_result"
    }
   ],
   "source": [
    "mlp.fit(Xtrain, Ytrain)\n",
    "lm.fit(Xtrain, Ytrain)\n",
    "svm.fit(Xtrain, Ytrain)\n"
   ]
  },
  {
   "cell_type": "markdown",
   "metadata": {},
   "source": [
    "See how well the classifiers score"
   ]
  },
  {
   "cell_type": "code",
   "execution_count": 20,
   "metadata": {},
   "outputs": [
    {
     "name": "stdout",
     "output_type": "stream",
     "text": [
      "0.6353488372093024\n",
      "0.6316279069767442\n",
      "0.6241860465116279\n"
     ]
    }
   ],
   "source": [
    "print(mlp.score(Xtest, Ytest))\n",
    "print(lm.score(Xtest, Ytest))\n",
    "print(svm.score(Xtest, Ytest))"
   ]
  },
  {
   "cell_type": "markdown",
   "metadata": {},
   "source": [
    "Define a function that splits text into argument sentences and non-argument/bad argument sentences"
   ]
  },
  {
   "cell_type": "code",
   "execution_count": 21,
   "metadata": {},
   "outputs": [],
   "source": [
    "def filter_post(text):\n",
    "    sentences = text.split('.')[:-1] \n",
    "    encoded_sentences = encode_sentences(sentences)\n",
    "    filtered_text = []\n",
    "    removed_sentences = []\n",
    "    for i in range(len(encoded_sentences)):\n",
    "        prediction = mlp.predict([encoded_sentences[i]])\n",
    "        if(prediction == 1):\n",
    "            filtered_text.append(sentences[i])\n",
    "        else:\n",
    "            removed_sentences.append(sentences[i])\n",
    "\n",
    "    print(\"{0} filtered from the input text!\".format(len(removed_sentences)))\n",
    "    return filtered_text, removed_sentences\n",
    "        \n",
    "    "
   ]
  },
  {
   "cell_type": "markdown",
   "metadata": {},
   "source": [
    "Clas"
   ]
  },
  {
   "cell_type": "code",
   "execution_count": 22,
   "metadata": {},
   "outputs": [
    {
     "name": "stdout",
     "output_type": "stream",
     "text": [
      "7 filtered from the input text!\n"
     ]
    }
   ],
   "source": [
    "OP_post = \"The classic example of this would be a person’s Grandparents that grew up in a different time where it was not considered a bad thing to classify and ultimately look down on a person based on their perceived racial category. Many of not most of the time this person has had limited sustained contact with people of other races and is at times arrogantly used to making broad statements about members of certain racial categories. Most people people don’t have any problems referring their grandparents as racists. Their way of thinking didn’t and doesn’t automatically prevent them from being a good parent, spouse, grandparent, citizen, etc. The difficulty today is that people are unwilling to come to terms with the fact that they have racist beliefs, often inherited from older generations that can subtly (and not so subtly) come out in their interactions with people of different races. Racist to them equal someone that is evil and it feels bad to be labeled that way. Ultimately being a racist is a negative quality that many otherwise good people have. Being racist can and does cause harm to others and people should be proactive in changing their racist beliefs as a method of self improvement. There certainly are evil people who maliciously harbor racial hatred against others that are racists too. We often consider them more representative of the term Racist than your Grandparents or instance but this is just a matter of degree.If a person calls you a racist there is always the possibility that they are right. This should be an opportunity for self reflection rather than an automatic denial.\"\n",
    "\n",
    "text, filtered = filter_post(OP_post)"
   ]
  },
  {
   "cell_type": "code",
   "execution_count": 23,
   "metadata": {},
   "outputs": [
    {
     "data": {
      "text/plain": [
       "['The classic example of this would be a person’s Grandparents that grew up in a different time where it was not considered a bad thing to classify and ultimately look down on a person based on their perceived racial category',\n",
       " ' The difficulty today is that people are unwilling to come to terms with the fact that they have racist beliefs, often inherited from older generations that can subtly (and not so subtly) come out in their interactions with people of different races',\n",
       " ' Racist to them equal someone that is evil and it feels bad to be labeled that way',\n",
       " ' Ultimately being a racist is a negative quality that many otherwise good people have',\n",
       " ' Being racist can and does cause harm to others and people should be proactive in changing their racist beliefs as a method of self improvement']"
      ]
     },
     "execution_count": 23,
     "metadata": {},
     "output_type": "execute_result"
    }
   ],
   "source": [
    "text"
   ]
  },
  {
   "cell_type": "code",
   "execution_count": 24,
   "metadata": {},
   "outputs": [
    {
     "data": {
      "text/plain": [
       "[' Many of not most of the time this person has had limited sustained contact with people of other races and is at times arrogantly used to making broad statements about members of certain racial categories',\n",
       " ' Most people people don’t have any problems referring their grandparents as racists',\n",
       " ' Their way of thinking didn’t and doesn’t automatically prevent them from being a good parent, spouse, grandparent, citizen, etc',\n",
       " ' There certainly are evil people who maliciously harbor racial hatred against others that are racists too',\n",
       " ' We often consider them more representative of the term Racist than your Grandparents or instance but this is just a matter of degree',\n",
       " 'If a person calls you a racist there is always the possibility that they are right',\n",
       " ' This should be an opportunity for self reflection rather than an automatic denial']"
      ]
     },
     "execution_count": 24,
     "metadata": {},
     "output_type": "execute_result"
    }
   ],
   "source": [
    "filtered"
   ]
  },
  {
   "cell_type": "code",
   "execution_count": 25,
   "metadata": {},
   "outputs": [
    {
     "name": "stdout",
     "output_type": "stream",
     "text": [
      "8 filtered from the input text!\n"
     ]
    }
   ],
   "source": [
    "counter = \"Ok so I'm not if I should be changing your view on if racists are evil, or if racists are good people. Personally I don't believe racists are good people, I also don't believe they are bad or evil people either, UNLESS they use their ignorance to either do harm or not do anything. For example someone doesn't like black people and refuses to hire them at their work, or refuses to help a black person who is in need.By that same token it's the same with people who don't like kids for instance. You're not good, bad, or evil, UNLESS you use it to harm or not help. Like people who don't like kids and refuse to help children in need, or hurt children. Racial biases, stereotypes, and prejudices exist in the older generations for sure, and no I wouldn't say it is evil, but I wouldn't classify them as good people either. My grandmother is a racist and I don't classify her as good, because it's ignorant as fuck. I also don't classify her as evil for holding beliefs that she hasn't promoted or done harm with. Doesn't mean I have to like her or associate with her for example.\"\n",
    "text, filtered = filter_post(counter)"
   ]
  },
  {
   "cell_type": "code",
   "execution_count": 26,
   "metadata": {},
   "outputs": [
    {
     "data": {
      "text/plain": [
       "[\" Personally I don't believe racists are good people, I also don't believe they are bad or evil people either, UNLESS they use their ignorance to either do harm or not do anything\",\n",
       " \" For example someone doesn't like black people and refuses to hire them at their work, or refuses to help a black person who is in need\"]"
      ]
     },
     "execution_count": 26,
     "metadata": {},
     "output_type": "execute_result"
    }
   ],
   "source": [
    "text"
   ]
  },
  {
   "cell_type": "code",
   "execution_count": 27,
   "metadata": {},
   "outputs": [
    {
     "data": {
      "text/plain": [
       "[\"Ok so I'm not if I should be changing your view on if racists are evil, or if racists are good people\",\n",
       " \"By that same token it's the same with people who don't like kids for instance\",\n",
       " \" You're not good, bad, or evil, UNLESS you use it to harm or not help\",\n",
       " \" Like people who don't like kids and refuse to help children in need, or hurt children\",\n",
       " \" Racial biases, stereotypes, and prejudices exist in the older generations for sure, and no I wouldn't say it is evil, but I wouldn't classify them as good people either\",\n",
       " \" My grandmother is a racist and I don't classify her as good, because it's ignorant as fuck\",\n",
       " \" I also don't classify her as evil for holding beliefs that she hasn't promoted or done harm with\",\n",
       " \" Doesn't mean I have to like her or associate with her for example\"]"
      ]
     },
     "execution_count": 27,
     "metadata": {},
     "output_type": "execute_result"
    }
   ],
   "source": [
    "filtered"
   ]
  },
  {
   "cell_type": "code",
   "execution_count": null,
   "metadata": {},
   "outputs": [],
   "source": []
  },
  {
   "cell_type": "code",
   "execution_count": null,
   "metadata": {},
   "outputs": [],
   "source": []
  },
  {
   "cell_type": "code",
   "execution_count": null,
   "metadata": {},
   "outputs": [],
   "source": []
  },
  {
   "cell_type": "code",
   "execution_count": null,
   "metadata": {},
   "outputs": [],
   "source": []
  },
  {
   "cell_type": "code",
   "execution_count": null,
   "metadata": {},
   "outputs": [],
   "source": []
  },
  {
   "cell_type": "code",
   "execution_count": null,
   "metadata": {},
   "outputs": [],
   "source": []
  },
  {
   "cell_type": "code",
   "execution_count": null,
   "metadata": {},
   "outputs": [],
   "source": []
  },
  {
   "cell_type": "code",
   "execution_count": null,
   "metadata": {},
   "outputs": [],
   "source": []
  }
 ],
 "metadata": {
  "kernelspec": {
   "display_name": "Python 3",
   "language": "python",
   "name": "python3"
  },
  "language_info": {
   "codemirror_mode": {
    "name": "ipython",
    "version": 3
   },
   "file_extension": ".py",
   "mimetype": "text/x-python",
   "name": "python",
   "nbconvert_exporter": "python",
   "pygments_lexer": "ipython3",
   "version": "3.6.2"
  }
 },
 "nbformat": 4,
 "nbformat_minor": 2
}
