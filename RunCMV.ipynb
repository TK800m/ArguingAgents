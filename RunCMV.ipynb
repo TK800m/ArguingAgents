{
 "cells": [
  {
   "cell_type": "code",
   "execution_count": 1,
   "metadata": {},
   "outputs": [
    {
     "name": "stdout",
     "output_type": "stream",
     "text": [
      "1\n",
      "https://old.reddit.com/r/changemyview/comments/9pb55h/cmv_2018_uci_masters_champion_dr_rachel_mckinnon/e80ec84/\n",
      "https://old.reddit.com/r/DeltaLog/comments/9pbf2q/deltas_awarded_in_cmv_2018_uci_masters_champion/\" rel=\"nofollow\n",
      "4\n",
      "['/u/ItsPandatory']\n",
      "['\"A biological man 100% has an advantage over women. Every objectively measured record at the olympics...\"']\n"
     ]
    }
   ],
   "source": [
    "from CMVscraper_script_delta2 import *\n",
    "\n",
    "#OPname, OPtxt, CommentText, commentName, URL, TOPIC, deltalink, deltabot= search(\"people\")\n",
    "OPname, OPtxt, CommentText, commentName, URL, TOPIC, deltalink, deltabot= urlSearch(\"4\")\n",
    "\n",
    "if deltalink != None and len(deltalink) >0:\n",
    "    deltaNames, deltaComments = getDeltaNames(deltalink, deltabot, CommentText)\n",
    "\n"
   ]
  },
  {
   "cell_type": "code",
   "execution_count": null,
   "metadata": {},
   "outputs": [],
   "source": []
  },
  {
   "cell_type": "code",
   "execution_count": 2,
   "metadata": {},
   "outputs": [
    {
     "name": "stdout",
     "output_type": "stream",
     "text": [
      "CMV: People that use the terms \"soy boy\" or \"cuck\" are highly insecure about their own masculinity.\n",
      "https://old.reddit.com/r/changemyview/comments/9op9bu/cmv_people_that_use_the_terms_soy_boy_or_cuck_are/\n",
      "True\n"
     ]
    }
   ],
   "source": [
    "OPname, OPtxt, CommentText, commentName, URL, TOPIC, deltalink, deltabot= search(\"people\")\n",
    "\n",
    "print(TOPIC)\n",
    "print(URL)\n",
    "print(deltabot)"
   ]
  },
  {
   "cell_type": "code",
   "execution_count": 3,
   "metadata": {},
   "outputs": [
    {
     "name": "stdout",
     "output_type": "stream",
     "text": [
      "Whenever I hear those terms I can't stop myself from imagining that person as a highly insecure person that tries to prove to themselves how masculine they are by making fun of people that remind themselves of their own self-perceived flaws.Especially because the only people that are seemingly using those terms are incels, MGTOWs, red pillers and others who's whole world view is based on insecure delusions. And because I have never met a confident person in my life that would use such terms, but lots of complete losers that feel that it gives them some kind of power.CMV: Guys that are using those terms unironically as a way to make fun of men that aren't hypermasculine are insecure about their own masculinity. \n"
     ]
    }
   ],
   "source": [
    "print(OPtxt)"
   ]
  },
  {
   "cell_type": "code",
   "execution_count": 4,
   "metadata": {},
   "outputs": [
    {
     "ename": "NameError",
     "evalue": "name 'flesch_kincaid_OP' is not defined",
     "output_type": "error",
     "traceback": [
      "\u001b[1;31m---------------------------------------------------------------------------\u001b[0m",
      "\u001b[1;31mNameError\u001b[0m                                 Traceback (most recent call last)",
      "\u001b[1;32m<ipython-input-4-69c0fa9e3842>\u001b[0m in \u001b[0;36m<module>\u001b[1;34m()\u001b[0m\n\u001b[1;32m----> 1\u001b[1;33m \u001b[0mkinOP\u001b[0m \u001b[1;33m=\u001b[0m \u001b[0mflesch_kincaid_OP\u001b[0m\u001b[1;33m(\u001b[0m\u001b[0mOPtxt\u001b[0m\u001b[1;33m)\u001b[0m\u001b[1;33m\u001b[0m\u001b[0m\n\u001b[0m\u001b[0;32m      2\u001b[0m \u001b[0mkinComm\u001b[0m\u001b[1;33m=\u001b[0m \u001b[0mflesch_kincaid_comm\u001b[0m\u001b[1;33m(\u001b[0m\u001b[0mCommentText\u001b[0m\u001b[1;33m)\u001b[0m\u001b[1;33m\u001b[0m\u001b[0m\n\u001b[0;32m      3\u001b[0m \u001b[0measyOP\u001b[0m \u001b[1;33m=\u001b[0m \u001b[0mflesch_ease_OP\u001b[0m\u001b[1;33m(\u001b[0m\u001b[0mOPtxt\u001b[0m\u001b[1;33m)\u001b[0m\u001b[1;33m\u001b[0m\u001b[0m\n\u001b[0;32m      4\u001b[0m \u001b[0measyComm\u001b[0m \u001b[1;33m=\u001b[0m \u001b[0mflesch_ease_comm\u001b[0m\u001b[1;33m(\u001b[0m\u001b[0mCommentText\u001b[0m\u001b[1;33m)\u001b[0m\u001b[1;33m\u001b[0m\u001b[0m\n\u001b[0;32m      5\u001b[0m \u001b[1;33m\u001b[0m\u001b[0m\n",
      "\u001b[1;31mNameError\u001b[0m: name 'flesch_kincaid_OP' is not defined"
     ]
    }
   ],
   "source": [
    "kinOP = flesch_kincaid_OP(OPtxt)\n",
    "kinComm= flesch_kincaid_comm(CommentText)\n",
    "easyOP = flesch_ease_OP(OPtxt)\n",
    "easyComm = flesch_ease_comm(CommentText)\n",
    "\n",
    "#for some reason doesnt work but does below\n",
    "#(similar, saveCloseComm) = similarEase(easyOP, easyComm, CommentText, commentName)\n",
    "#print(similar)"
   ]
  },
  {
   "cell_type": "code",
   "execution_count": null,
   "metadata": {},
   "outputs": [],
   "source": [
    "from textDifficulty import *\n",
    "import numpy as np\n",
    "def similarEase(easyOP, easyComm, CommentText, commentName, OPname):\n",
    "    similar = []\n",
    "    saveCloseComm = []\n",
    "\n",
    "    for i in range(len(easyComm)):\n",
    "        test = abs(easyOP - easyComm[i])\n",
    "        if test <10:\n",
    "            similar =np.append(similar,easyComm[i])\n",
    "            saveCloseComm = np.append(saveCloseComm,i)\n",
    "            \n",
    "    return (similar, saveCloseComm)\n",
    "\n",
    "(similar, locsimilar) = similarEase(easyOP, easyComm, CommentText, commentName, OPname)"
   ]
  },
  {
   "cell_type": "code",
   "execution_count": null,
   "metadata": {},
   "outputs": [],
   "source": [
    "#sort the list of similar\n",
    "similar, locsimilar = zip(*sorted(zip(similar, locsimilar)))\n",
    "print(similar)\n",
    "print(locsimilar)"
   ]
  },
  {
   "cell_type": "code",
   "execution_count": null,
   "metadata": {},
   "outputs": [],
   "source": []
  },
  {
   "cell_type": "code",
   "execution_count": null,
   "metadata": {},
   "outputs": [],
   "source": []
  }
 ],
 "metadata": {
  "kernelspec": {
   "display_name": "Python 3",
   "language": "python",
   "name": "python3"
  },
  "language_info": {
   "codemirror_mode": {
    "name": "ipython",
    "version": 3
   },
   "file_extension": ".py",
   "mimetype": "text/x-python",
   "name": "python",
   "nbconvert_exporter": "python",
   "pygments_lexer": "ipython3",
   "version": "3.6.5"
  }
 },
 "nbformat": 4,
 "nbformat_minor": 2
}
