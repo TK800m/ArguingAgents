{
 "cells": [
  {
   "cell_type": "code",
   "execution_count": 6,
   "metadata": {},
   "outputs": [],
   "source": [
    "from CMVwebscraper import *\n",
    "from textDifficulty import *\n",
    "\n"
   ]
  },
  {
   "cell_type": "code",
   "execution_count": 7,
   "metadata": {},
   "outputs": [
    {
     "ename": "ValueError",
     "evalue": "not enough values to unpack (expected 7, got 6)",
     "output_type": "error",
     "traceback": [
      "\u001b[1;31m---------------------------------------------------------------------------\u001b[0m",
      "\u001b[1;31mValueError\u001b[0m                                Traceback (most recent call last)",
      "\u001b[1;32m<ipython-input-7-2c60dcd6411d>\u001b[0m in \u001b[0;36m<module>\u001b[1;34m()\u001b[0m\n\u001b[1;32m----> 1\u001b[1;33m \u001b[0mOPname\u001b[0m\u001b[1;33m,\u001b[0m \u001b[0mOPtxt\u001b[0m\u001b[1;33m,\u001b[0m \u001b[0mCommentText\u001b[0m\u001b[1;33m,\u001b[0m \u001b[0mcommentName\u001b[0m\u001b[1;33m,\u001b[0m \u001b[0mURL\u001b[0m\u001b[1;33m,\u001b[0m \u001b[0mTOPIC\u001b[0m\u001b[1;33m,\u001b[0m \u001b[0mdeltabot\u001b[0m \u001b[1;33m=\u001b[0m \u001b[0msearch\u001b[0m\u001b[1;33m(\u001b[0m\u001b[1;34m\"dragonflys\"\u001b[0m\u001b[1;33m)\u001b[0m\u001b[1;33m\u001b[0m\u001b[0m\n\u001b[0m\u001b[0;32m      2\u001b[0m \u001b[0mprint\u001b[0m\u001b[1;33m(\u001b[0m\u001b[0mTOPIC\u001b[0m\u001b[1;33m)\u001b[0m\u001b[1;33m\u001b[0m\u001b[0m\n\u001b[0;32m      3\u001b[0m \u001b[0mprint\u001b[0m\u001b[1;33m(\u001b[0m\u001b[0mURL\u001b[0m\u001b[1;33m)\u001b[0m\u001b[1;33m\u001b[0m\u001b[0m\n\u001b[0;32m      4\u001b[0m \u001b[0mprint\u001b[0m\u001b[1;33m(\u001b[0m\u001b[0mdeltabot\u001b[0m\u001b[1;33m)\u001b[0m\u001b[1;33m\u001b[0m\u001b[0m\n",
      "\u001b[1;31mValueError\u001b[0m: not enough values to unpack (expected 7, got 6)"
     ]
    }
   ],
   "source": [
    "OPname, OPtxt, CommentText, commentName, URL, TOPIC, deltabot = search(\"dragonflys\")\n",
    "print(TOPIC)\n",
    "print(URL)\n",
    "print(deltabot)"
   ]
  },
  {
   "cell_type": "code",
   "execution_count": null,
   "metadata": {},
   "outputs": [],
   "source": [
    "print(OPtxt)"
   ]
  },
  {
   "cell_type": "code",
   "execution_count": null,
   "metadata": {},
   "outputs": [],
   "source": [
    "kinOP = flesch_kincaid_OP(OPtxt)\n",
    "kinComm= flesch_kincaid_comm(CommentText)\n",
    "easyOP = flesch_ease_OP(OPtxt)\n",
    "easyComm = flesch_ease_comm(CommentText)\n",
    "\n",
    "#for some reason doesnt work but does below\n",
    "#(similar, saveCloseComm) = similarEase(easyOP, easyComm, CommentText, commentName)\n",
    "#print(similar)"
   ]
  },
  {
   "cell_type": "code",
   "execution_count": null,
   "metadata": {},
   "outputs": [],
   "source": [
    "from textDifficulty import *\n",
    "import numpy as np\n",
    "def similarEase(easyOP, easyComm, CommentText, commentName, OPname):\n",
    "    similar = []\n",
    "    saveCloseComm = []\n",
    "\n",
    "    for i in range(len(easyComm)):\n",
    "        test = abs(easyOP - easyComm[i])\n",
    "        if test <10:\n",
    "            similar =np.append(similar,easyComm[i])\n",
    "            saveCloseComm = np.append(saveCloseComm,i)\n",
    "            \n",
    "    return (similar, saveCloseComm)\n",
    "\n",
    "(similar, locsimilar) = similarEase(easyOP, easyComm, CommentText, commentName, OPname)"
   ]
  },
  {
   "cell_type": "code",
   "execution_count": null,
   "metadata": {},
   "outputs": [],
   "source": [
    "#sort the list of similar\n",
    "similar, locsimilar = zip(*sorted(zip(similar, locsimilar)))\n",
    "print(similar)\n",
    "print(locsimilar)"
   ]
  },
  {
   "cell_type": "code",
   "execution_count": null,
   "metadata": {},
   "outputs": [],
   "source": [
    "if commentName[0] == \"DeltaBot\":\n",
    "    print(\"yes\")\n",
    "else:\n",
    "    print(\"no\")"
   ]
  },
  {
   "cell_type": "code",
   "execution_count": null,
   "metadata": {},
   "outputs": [],
   "source": []
  },
  {
   "cell_type": "code",
   "execution_count": null,
   "metadata": {},
   "outputs": [],
   "source": []
  }
 ],
 "metadata": {
  "kernelspec": {
   "display_name": "Python 3",
   "language": "python",
   "name": "python3"
  },
  "language_info": {
   "codemirror_mode": {
    "name": "ipython",
    "version": 3
   },
   "file_extension": ".py",
   "mimetype": "text/x-python",
   "name": "python",
   "nbconvert_exporter": "python",
   "pygments_lexer": "ipython3",
   "version": "3.6.5"
  }
 },
 "nbformat": 4,
 "nbformat_minor": 2
}
