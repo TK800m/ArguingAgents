{
 "cells": [
  {
   "cell_type": "code",
   "execution_count": 3,
   "metadata": {},
   "outputs": [],
   "source": [
    "from CMVscraper_script_delta import *\n",
    "import pandas as pd\n",
    "\n",
    "#OPname, OPtxt, CommentText, commentName, URL, TOPIC, deltalink, deltabot= search(\"people\")\n",
    "\n",
    "\n",
    "def makeDF(post_range):\n",
    "    my_data_log = []\n",
    "    for num in post_range:\n",
    "        print(num)\n",
    "        if num != 138:\n",
    "            OPname, OPtxt, CommentText, commentName, URL, TOPIC, deltalink, deltabot= urlSearch(num)\n",
    "            if deltalink != None and len(deltalink) >0:\n",
    "                print(\"found a delta in: \"+ URL)\n",
    "                deltaNames, deltaComments = getDeltaNames(deltalink, deltabot, CommentText)\n",
    "                deltapost = find_delta_txt(deltaNames, deltaComments, CommentText, commentName)\n",
    "                easyOP = flesch_ease_OP(OPtxt)\n",
    "                easyComm = []\n",
    "                for x in range(len(deltapost)):\n",
    "                    easyComm.append(flesch_ease_comm(CommentText))\n",
    "                my_data_log.append([OPname, OPtxt, commentName,CommentText,  URL, TOPIC, deltalink, deltaNames, deltapost, easyOP, easyComm])\n",
    "\n",
    "    filename= 'cmv_database145.csv'\n",
    "    pd.DataFrame(my_data_log, columns=['op_name','op_text','comment_name', 'comment_text', 'url', 'topic', 'delta_link', 'delta_names', 'delta_text', 'op_easy_score', 'delta_easy_score']).to_csv(filename)\n",
    "    return(my_data_log)"
   ]
  },
  {
   "cell_type": "code",
   "execution_count": 4,
   "metadata": {},
   "outputs": [
    {
     "name": "stdout",
     "output_type": "stream",
     "text": [
      "75\n",
      "found a delta in: https://old.reddit.com/r/changemyview/comments/9oxmnv/cmv_an_alien_invasion_would_be_a_net_benefit_for/\n",
      "76\n",
      "77\n",
      "78\n",
      "79\n",
      "80\n",
      "81\n",
      "82\n",
      "found a delta in: https://old.reddit.com/r/changemyview/comments/9oscjg/cmv_auto_insurance_companies_shouldnt_use_age_or/\n",
      "83\n",
      "found a delta in: https://old.reddit.com/r/changemyview/comments/9p1nvc/cmv_there_is_absolutely_no_point_whatsoever_in/\n",
      "84\n",
      "85\n",
      "86\n",
      "87\n",
      "found a delta in: https://old.reddit.com/r/changemyview/comments/9ot0qk/cmv_bagels_with_toppings_fillings_should_always/\n",
      "88\n",
      "89\n",
      "90\n",
      "91\n",
      "found a delta in: https://old.reddit.com/r/changemyview/comments/9or70x/cmv_being_comfortable_talking_about_different/\n",
      "92\n",
      "found a delta in: https://old.reddit.com/r/changemyview/comments/9om3j8/cmv_it_is_unreasonable_to_expect_consumers_to/\n",
      "93\n",
      "found a delta in: https://old.reddit.com/r/changemyview/comments/9opwtg/cmv_the_metoo_movement_makes_men_afraid_and_can/\n",
      "94\n",
      "95\n",
      "96\n",
      "97\n",
      "98\n",
      "99\n",
      "100\n",
      "101\n",
      "found a delta in: https://old.reddit.com/r/changemyview/comments/9ojgeb/cmv_saying_god_did_it_should_not_be_considered_an/\n",
      "102\n",
      "found a delta in: https://old.reddit.com/r/changemyview/comments/9oramy/cmv_the_metoo_movement_does_more_harm_to/\n",
      "103\n",
      "104\n",
      "105\n",
      "found a delta in: https://old.reddit.com/r/changemyview/comments/9oon4r/cmv_in_terms_of_esports_ea_should_be_using_pro/\n",
      "106\n",
      "107\n",
      "108\n",
      "109\n",
      "110\n",
      "111\n",
      "found a delta in: https://old.reddit.com/r/changemyview/comments/9oftut/cmv_diamonds_are_not_timeless_symbols_of_love_and/\n",
      "112\n",
      "found a delta in: https://old.reddit.com/r/changemyview/comments/9ofxyg/cmv_the_only_things_necessary_to_build_a_moral/\n",
      "113\n",
      "found a delta in: https://old.reddit.com/r/changemyview/comments/9oi6ik/cmv_the_republican_partys_position_on_endangered/\n",
      "114\n",
      "115\n",
      "116\n",
      "117\n",
      "118\n",
      "found a delta in: https://old.reddit.com/r/changemyview/comments/9oss4t/cmv_i_dont_care_about_bigotry_that_doesnt_affect/\n",
      "119\n",
      "found a delta in: https://old.reddit.com/r/changemyview/comments/9opkkn/cmv_i_should_be_able_to_refuse_identifying_with/\n",
      "120\n",
      "found a delta in: https://old.reddit.com/r/changemyview/comments/9oq0cv/cmv_boxing_nascar_cycling_and_various_other/\n",
      "121\n",
      "found a delta in: https://old.reddit.com/r/changemyview/comments/9oetyp/cmv_all_drugs_should_be_legalized_xpost_from/\n",
      "122\n",
      "found a delta in: https://old.reddit.com/r/changemyview/comments/9os9gs/cmv_rapists_who_arent_convicted_deserve_to_have/\n",
      "123\n",
      "124\n",
      "125\n",
      "126\n",
      "found a delta in: https://old.reddit.com/r/changemyview/comments/9onop4/cmv_election_day_should_not_be_a_holiday/\n",
      "127\n",
      "found a delta in: https://old.reddit.com/r/changemyview/comments/9oe4m6/cmv_elizabeth_warren_should_not_identify_as/\n",
      "128\n",
      "found a delta in: https://old.reddit.com/r/changemyview/comments/9o22l4/cmv_voting_should_not_be_mandatory_choosing_not/\n",
      "129\n",
      "found a delta in: https://old.reddit.com/r/changemyview/comments/9oeiuf/cmv_bicameralism_isnt_a_justified_model/\n",
      "130\n",
      "found a delta in: https://old.reddit.com/r/changemyview/comments/9or31z/cmv_historically_speaking_african_americans_are/\n",
      "131\n",
      "found a delta in: https://old.reddit.com/r/changemyview/comments/9ohuvp/cmv_opening_up_a_relatively_full_cooler_often/\n",
      "132\n",
      "found a delta in: https://old.reddit.com/r/changemyview/comments/9ogmfx/cmv_a_unified_eu_would_be_very_powerful_if_not_a/\n",
      "133\n",
      "134\n",
      "135\n",
      "136\n",
      "137\n",
      "found a delta in: https://old.reddit.com/r/changemyview/comments/9o7ap6/cmv_i_dont_understand_why_prostitution_isnt_legal/\n",
      "138\n",
      "139\n",
      "found a delta in: https://old.reddit.com/r/changemyview/comments/9ofjip/cmv_abiogenesis_is_unlikely_enough_to_be/\n",
      "140\n",
      "found a delta in: https://old.reddit.com/r/changemyview/comments/9ok50g/cmv_time_doesnt_exist_only_a_measurement_of_change/\n",
      "141\n",
      "142\n",
      "found a delta in: https://old.reddit.com/r/changemyview/comments/9oeryv/cmv_most_babies_are_essentially_tiny_milk_addicts/\n",
      "143\n",
      "144\n"
     ]
    }
   ],
   "source": [
    "my_data = makeDF(range(75, 145, 1))"
   ]
  },
  {
   "cell_type": "code",
   "execution_count": 5,
   "metadata": {},
   "outputs": [
    {
     "name": "stdout",
     "output_type": "stream",
     "text": [
      "29\n"
     ]
    }
   ],
   "source": [
    "print(len(my_data))"
   ]
  },
  {
   "cell_type": "code",
   "execution_count": null,
   "metadata": {},
   "outputs": [],
   "source": [
    "#OPname, OPtxt, CommentText, commentName, URL, TOPIC, deltalink, deltabot= search(\"people\")\n",
    "\n",
    "print(TOPIC)\n",
    "print(URL)\n",
    "print(deltabot)"
   ]
  },
  {
   "cell_type": "code",
   "execution_count": null,
   "metadata": {},
   "outputs": [],
   "source": [
    "print(OPtxt)"
   ]
  },
  {
   "cell_type": "code",
   "execution_count": null,
   "metadata": {},
   "outputs": [],
   "source": [
    "kinOP = flesch_kincaid_OP(OPtxt)\n",
    "kinComm= flesch_kincaid_comm(CommentText)\n",
    "easyOP = flesch_ease_OP(OPtxt)\n",
    "easyComm = flesch_ease_comm(CommentText)\n",
    "\n",
    "#for some reason doesnt work but does below\n",
    "(similar, locsimilar) = similarEase(easyOP, easyComm, CommentText, commentName)\n",
    "print(similar)"
   ]
  },
  {
   "cell_type": "markdown",
   "metadata": {},
   "source": [
    "(similar, locsimilar) = similarEase(easyOP, easyComm, CommentText, commentName, OPname)\n",
    "detlat"
   ]
  },
  {
   "cell_type": "code",
   "execution_count": null,
   "metadata": {},
   "outputs": [],
   "source": [
    "#sort the list of similar\n",
    "similar, locsimilar = zip(*sorted(zip(similar, locsimilar)))\n",
    "print(similar)\n",
    "print(locsimilar)"
   ]
  },
  {
   "cell_type": "code",
   "execution_count": null,
   "metadata": {},
   "outputs": [],
   "source": [
    "deltas_txt = []\n",
    "op_txt = []\n",
    "for i in range(5):\n",
    "    OPname, OPtxt, CommentText, commentName, URL, TOPIC, deltalink, deltabot= urlSearch(i)\n",
    "    \n",
    "    if deltalink != None and len(deltalink) >0:\n",
    "        op_txt.append(OPtxt)\n",
    "        deltaNames, deltaComments = getDeltaNames(deltalink, deltabot, CommentText)\n",
    "        deltas_txt.append(find_delta_txt(deltaNames, deltaComments, CommentText, commentName))\n"
   ]
  },
  {
   "cell_type": "markdown",
   "metadata": {},
   "source": [
    "##### op_easy = flesch_ease_comm(op_txt)\n",
    "delta_easy = flesch_ease_comm(deltas_txt[4])\n",
    "\n",
    "print(delta_easy)"
   ]
  },
  {
   "cell_type": "code",
   "execution_count": null,
   "metadata": {},
   "outputs": [],
   "source": [
    "# def urlSearch(query):\n",
    "#     import math\n",
    "#     page_number = math.floor(query/25)\n",
    "#     item = query-(page_number*25)-1\n",
    "#     url =  \"https://old.reddit.com/r/changemyview/\"\n",
    "#     if page_number <1:\n",
    "#         url = url\n",
    "#     else:\n",
    "#         for i in range(page_number):\n",
    "#             url = get_next_page(url)\n",
    "#     ##two vectors of topics and urls\n",
    "#     topics, urls = linksAndTopics(url)\n",
    "    \n",
    "#     URL = urls[item]\n",
    "#     ##return all data\n",
    "#     TOPIC = topics[item]\n",
    "#     OPtxt, OPwords, OPname = getOPtext(URL)\n",
    "#     comments, commentTXT, Names, deltalink, deltabot = getComments(URL)\n",
    "#     return(OPname, OPtxt, commentTXT, Names, URL, TOPIC, deltalink, deltabot)  \n",
    "\n",
    "# def get_next_page(url):\n",
    "#     url = souper(url).find_all(\"span\",attrs={'class':\"next-button\"})\n",
    "#     url = str(url).split('>')[1].split(\"\\\"\")[1]\n",
    "#     return url\n",
    "#deltapost = find_delta_txt(deltaNames, deltaComments, CommentText, commentName)"
   ]
  },
  {
   "cell_type": "code",
   "execution_count": null,
   "metadata": {},
   "outputs": [],
   "source": [
    "OPname, OPtxt, CommentText, commentName, URL, TOPIC, deltalink, deltabot= urlSearch(186)\n",
    "print(TOPIC)\n",
    "print(URL)"
   ]
  },
  {
   "cell_type": "code",
   "execution_count": null,
   "metadata": {},
   "outputs": [],
   "source": [
    "df.to_csv(file_name, encoding='utf-8', index=False)"
   ]
  },
  {
   "cell_type": "code",
   "execution_count": null,
   "metadata": {},
   "outputs": [],
   "source": []
  }
 ],
 "metadata": {
  "kernelspec": {
   "display_name": "Python 3",
   "language": "python",
   "name": "python3"
  },
  "language_info": {
   "codemirror_mode": {
    "name": "ipython",
    "version": 3
   },
   "file_extension": ".py",
   "mimetype": "text/x-python",
   "name": "python",
   "nbconvert_exporter": "python",
   "pygments_lexer": "ipython3",
   "version": "3.6.5"
  }
 },
 "nbformat": 4,
 "nbformat_minor": 2
}
