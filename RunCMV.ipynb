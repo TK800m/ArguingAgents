{
 "cells": [
  {
   "cell_type": "code",
   "execution_count": 1,
   "metadata": {},
   "outputs": [],
   "source": [
    "from CMVscraper_script_delta import *\n",
    "#import pandas as pd\n",
    "#OPname, OPtxt, CommentText, commentName, URL, TOPIC, deltalink, deltabot= search(\"people\")\n",
    "\n",
    "\n"
   ]
  },
  {
   "cell_type": "code",
   "execution_count": 2,
   "metadata": {},
   "outputs": [
    {
     "name": "stdout",
     "output_type": "stream",
     "text": [
      "0) found a delta in: https://old.reddit.com/r/changemyview/comments/9q3yfp/cmv_the_minimum_wage_should_be_directly_attached/\n",
      "1) no delta found in: CMV: The United States Should Switch To The Metric System\n",
      "2) no delta found in: CMV: I believe that a Bachelor's Degree for office type positions are simply to weed out the large amount of candidates and that it isn't practical since you can simply train on the job.\n",
      "3) no delta found in: CMV: My Mental Health and Physical Health is not as Important as my Grades\n",
      "4) no delta found in: CMV: Hybrid and Electric cars are not eco friendly and are far more expensive than an ICE car\n",
      "5) no delta found in: CMV: Keep Halloween out of the cultural appropriation discussion.\n",
      "6) no delta found in: CMV: Internet is being destroyed by corporate interests\n",
      "7) found a delta in: https://old.reddit.com/r/changemyview/comments/9q4mhj/cmv_tipping_culture_is_bad_and_workers_should/\n",
      "8) no delta found in: CMV: The Israel/Palestine conflict can no longer be solved peacefully.\n",
      "9) no delta found in: CMV: Teachers/Young Students- In Many Cases, It's Not Rape, It's Just a Sexual Relationship\n"
     ]
    }
   ],
   "source": [
    "my_manual_data = makeDF(range(0,10,1))\n"
   ]
  },
  {
   "cell_type": "code",
   "execution_count": null,
   "metadata": {},
   "outputs": [],
   "source": [
    "#print(len(my_data))\n",
    "for i in range(len(my_manual_data)):\n",
    "    for j in range(len(my_manual_data[i][4])):\n",
    "        print(my_manual_data[i][4][j]+ '\\n\\n')\n",
    "\n",
    "\n",
    "#print(\"\\n\"+ my_data[1][4][1])"
   ]
  },
  {
   "cell_type": "code",
   "execution_count": 6,
   "metadata": {},
   "outputs": [
    {
     "name": "stdout",
     "output_type": "stream",
     "text": [
      "I've seen landlords where I live raise the price of rent by exactly the margin students at the colleges nearby were getting in increased housing assistance, so the raise would go directly to them (for no added work) when it was supposed to help the students pay rent so they could also eat and learn without economic hardship\n",
      "\n",
      "Wages and the cost of living have changed substantially due to the cultural expectation of two wage earners. While it would be great to move back toward single earners supporting a family, I don't see how this can be achieved by raising the minimum wage.\n",
      "Low level jobs demand higher skill levels because minimum wage regulations force them to demand more productivity per worker rather than potentially hire two workers each at half the wage, or take a chance on a single less skilled worker at a lower cost - they are regulated out of being able to take a chance or hire a lower productivity less experienced worker.\n",
      "\n",
      "Small businesses are started because people want to support their families and friends' families by employing them in a profitable venture, and they tend to fail for one of two reasons - because walmart moves in nearby and prices them out, or because the business owner is not good at running a business.\n",
      "\n",
      "If people are starting businesses and operate out of some sense of altruism, that is contributing to their business failing. This idea, in fact, covers both of 'walmart moves in nearby' and 'the business owner is not good at running a business' - smaller business can thrive in niches providing better service or more specialised services than massive 'one-size' providers like Walmart. If an independent provider is trying to operate in an identical space to Walmart or McDonalds, they are, by definition, not good at running a business.\n",
      "Independants might pay higher on average for whatever reason, but the wage increase you are proposing would still impact them massively - the difference between the minimum wage and a 'living' wage would almost certainly more than cover the difference between the current minimum wage and whatever modest increase on that independents currently provide within a similar market segment. If an independant is able to pay enough over minimum wage that they are paying a 'living' wage currently and succeed, they are probably insanely successful, or not actually operating in the same market segment as one of the large chains.\n",
      "\n"
     ]
    }
   ],
   "source": [
    "my_data = clean_up(my_manual_data,2)\n",
    "print(my_data[0][2][1])\n",
    "print(my_manual_data[0][3][0])"
   ]
  },
  {
   "cell_type": "code",
   "execution_count": null,
   "metadata": {},
   "outputs": [],
   "source": [
    "def clean_up(my_manual_data):\n",
    "    ntops = len(my_manual_data)\n",
    "    for i in range(ntops):\n",
    "        for j in range(len(my_manual_data[i])):\n",
    "            if my_manual_data[i][j]=='':\n",
    "                print(stri(i)+\" has empty dpost at \"+ str(j))\n",
    "            else:\n",
    "                line = str(my_manual_data[i][j])\n",
    "                line = line.replace('\\\\n','')\n",
    "                line = line.replace('//','')\n",
    "                line = line.replace('/',' ')\n",
    "                #print(line)\n",
    "                my_manual_data[i][j] = line\n",
    "    return(my_manual_data)\n",
    "my_data = clean_up(my_manual_data)\n",
    "print(len(my_data))\n",
    "my_data[0][4][2]\n",
    "#[CommentText, TOPIC,OPtxt,CommentText, deltapost]"
   ]
  },
  {
   "cell_type": "code",
   "execution_count": null,
   "metadata": {},
   "outputs": [],
   "source": [
    "data = my_manual_data\n",
    "ntops = len(data)\n",
    "for i in range(ntops):\n",
    "    for j in range(len(data[i])):\n",
    "        if data[i][j]=='':\n",
    "            print(stri(i)+\" has empty dpost at \"+ str(j))\n",
    "        else:\n",
    "            line = str(data[i][j])\n",
    "            line = line.replace('\\\\n','')\n",
    "            line = line.replace('//','')\n",
    "            line = line.replace('/',' ')\n",
    "            #print(line)\n",
    "            data[i][j] = line\n",
    "\n",
    "print(ntops)\n",
    "print(data[12][4][1:-1])"
   ]
  },
  {
   "cell_type": "code",
   "execution_count": null,
   "metadata": {},
   "outputs": [],
   "source": [
    "arr =[13,16,18,19,33,37,38,44,48,49,50,54,57,60,61,62,65,66,68,70,72,75,76,77,78,79,85,86]\n",
    "\n",
    "for x in range(1,3):\n",
    "    print(x)"
   ]
  },
  {
   "cell_type": "code",
   "execution_count": null,
   "metadata": {},
   "outputs": [],
   "source": [
    "print(deltaNames[1])\n",
    "print(deltaComments[1])"
   ]
  },
  {
   "cell_type": "code",
   "execution_count": null,
   "metadata": {},
   "outputs": [],
   "source": [
    "OPname, OPtxt, CommentText, commentName, URL, TOPIC, deltalink, deltabot= urlSearch(186)\n",
    "print(TOPIC)\n",
    "print(URL)"
   ]
  },
  {
   "cell_type": "code",
   "execution_count": null,
   "metadata": {},
   "outputs": [],
   "source": [
    "#OPtext, CommentText, TOPIC, deltaText\n",
    "def makeDF(post_range, filename):\n",
    "    my_data_log = []\n",
    "    for num in post_range:\n",
    "        if num != 20:\n",
    "            OPname, OPtxt, CommentText, commentName, URL, TOPIC, deltalink, deltabot= urlSearch(num)\n",
    "            if deltalink != None and len(deltalink) >0:\n",
    "                print(str(num) + \") found a delta in: \"+ URL)\n",
    "                deltaNames, deltapost, delta_urls = getDeltaNames(deltalink, deltabot, CommentText)\n",
    "                #print(deltaComments)\n",
    "                #deltapost = find_delta_txt(deltaNames, deltaComments, CommentText, commentName)\n",
    "                easyOP = flesch_ease_OP(OPtxt)\n",
    "                \n",
    "                easyComm = []\n",
    "                for x in range(len(deltapost)):\n",
    "                    easyComm.append(flesch_ease_comm(CommentText))\n",
    "                my_data_log.append([OPname, OPtxt, commentName,CommentText,  URL, TOPIC, deltalink, deltaNames, deltapost, easyOP, easyComm])\n",
    "            else:\n",
    "                  print(str(num) + \") no delta found in: \"+ TOPIC)\n",
    "    filename= 'cmv_'+str(filename)+'.csv'\n",
    "    pd.DataFrame(my_data_log, columns=['op_name','op_text','comment_name', 'comment_text', 'url', 'topic', 'delta_link', 'delta_names', 'delta_text', 'op_easy_score', 'delta_easy_score']).to_csv(filename)\n",
    "    return(my_data_log)"
   ]
  }
 ],
 "metadata": {
  "kernelspec": {
   "display_name": "Python 3",
   "language": "python",
   "name": "python3"
  },
  "language_info": {
   "codemirror_mode": {
    "name": "ipython",
    "version": 3
   },
   "file_extension": ".py",
   "mimetype": "text/x-python",
   "name": "python",
   "nbconvert_exporter": "python",
   "pygments_lexer": "ipython3",
   "version": "3.6.5"
  }
 },
 "nbformat": 4,
 "nbformat_minor": 2
}
