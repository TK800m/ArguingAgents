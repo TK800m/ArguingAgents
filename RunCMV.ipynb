{
 "cells": [
  {
   "cell_type": "code",
   "execution_count": 2,
   "metadata": {},
   "outputs": [
    {
     "name": "stdout",
     "output_type": "stream",
     "text": [
      "1\n",
      "https://old.reddit.com/r/changemyview/comments/9pboti/cmv_i_hate_furries_because_the_furry_fandom_is_a/e80r7kt/\n",
      "https://old.reddit.com/r/DeltaLog/comments/9pcx4h/deltas_awarded_in_cmv_i_hate_furries_because_the/\" rel=\"nofollow\n",
      "4\n",
      "['/u/Potator_']\n",
      "['\"I can\\'t really help you with the downplaying aspect since, as an outsider myself, I\\'ve only ever see...\"']\n"
     ]
    }
   ],
   "source": [
    "from CMVscraper_script_delta import *\n",
    "\n",
    "#OPname, OPtxt, CommentText, commentName, URL, TOPIC, deltalink, deltabot= search(\"people\")\n",
    "OPname, OPtxt, CommentText, commentName, URL, TOPIC, deltalink, deltabot= urlSearch(4)\n",
    "\n",
    "if deltalink != None and len(deltalink) >0:\n",
    "    deltaNames, deltaComments = getDeltaNames(deltalink, deltabot, CommentText)\n",
    "\n"
   ]
  },
  {
   "cell_type": "code",
   "execution_count": 3,
   "metadata": {},
   "outputs": [],
   "source": [
    "deltapost = find_delta_txt(deltaNames, deltaComments, CommentText, commentName)"
   ]
  },
  {
   "cell_type": "code",
   "execution_count": null,
   "metadata": {},
   "outputs": [],
   "source": [
    "#OPname, OPtxt, CommentText, commentName, URL, TOPIC, deltalink, deltabot= search(\"people\")\n",
    "\n",
    "print(TOPIC)\n",
    "print(URL)\n",
    "print(deltabot)"
   ]
  },
  {
   "cell_type": "code",
   "execution_count": null,
   "metadata": {},
   "outputs": [],
   "source": [
    "print(OPtxt)"
   ]
  },
  {
   "cell_type": "code",
   "execution_count": null,
   "metadata": {},
   "outputs": [],
   "source": [
    "kinOP = flesch_kincaid_OP(OPtxt)\n",
    "kinComm= flesch_kincaid_comm(CommentText)\n",
    "easyOP = flesch_ease_OP(OPtxt)\n",
    "easyComm = flesch_ease_comm(CommentText)\n",
    "\n",
    "#for some reason doesnt work but does below\n",
    "#(similar, saveCloseComm) = similarEase(easyOP, easyComm, CommentText, commentName)\n",
    "#print(similar)"
   ]
  },
  {
   "cell_type": "markdown",
   "metadata": {},
   "source": [
    "(similar, locsimilar) = similarEase(easyOP, easyComm, CommentText, commentName, OPname)\n",
    "detlat"
   ]
  },
  {
   "cell_type": "code",
   "execution_count": null,
   "metadata": {},
   "outputs": [],
   "source": [
    "#sort the list of similar\n",
    "similar, locsimilar = zip(*sorted(zip(similar, locsimilar)))\n",
    "print(similar)\n",
    "print(locsimilar)"
   ]
  },
  {
   "cell_type": "code",
   "execution_count": null,
   "metadata": {},
   "outputs": [],
   "source": [
    "(similar, locsimilar) = similarEase(easyOP, easyComm, CommentText, commentName, OPname)"
   ]
  },
  {
   "cell_type": "code",
   "execution_count": 6,
   "metadata": {},
   "outputs": [
    {
     "name": "stdout",
     "output_type": "stream",
     "text": [
      "2\n",
      "https://old.reddit.com/r/changemyview/comments/9p1ev6/cmv_people_should_stop_assuming_that_someone_in_a/e7ylih1/\n",
      "https://old.reddit.com/r/DeltaLog/comments/9p2whj/deltas_awarded_in_cmv_people_should_stop_assuming/\n",
      "4\n",
      "6\n",
      "['/u/MasterGrok', '/u/BolshevikMuppet']\n",
      "['\"Why not just identify as an independent then? It seems to me that you have some differences in opini...\"', '\"The fact that you believe people should be able to marry whoever they want, but voted for Republican...\"']\n",
      "1\n",
      "https://old.reddit.com/r/changemyview/comments/9pboti/cmv_i_hate_furries_because_the_furry_fandom_is_a/e80r7kt/\n",
      "https://old.reddit.com/r/DeltaLog/comments/9pcx4h/deltas_awarded_in_cmv_i_hate_furries_because_the/\" rel=\"nofollow\n",
      "4\n",
      "['/u/Potator_']\n",
      "['\"I can\\'t really help you with the downplaying aspect since, as an outsider myself, I\\'ve only ever see...\"']\n",
      "1\n",
      "https://old.reddit.com/r/changemyview/comments/9pb55h/cmv_2018_uci_masters_champion_dr_rachel_mckinnon/e80ec84/\n",
      "https://old.reddit.com/r/DeltaLog/comments/9pbf2q/deltas_awarded_in_cmv_2018_uci_masters_champion/\" rel=\"nofollow\n",
      "4\n",
      "['/u/ItsPandatory']\n",
      "['\"A biological man 100% has an advantage over women. Every objectively measured record at the olympics...\"']\n",
      "2\n",
      "https://old.reddit.com/r/changemyview/comments/9pc3hd/cmv_websites_should_not_have_mandatory/e80m63m/\n",
      "https://old.reddit.com/r/DeltaLog/comments/9pcc9d/deltas_awarded_in_cmv_websites_should_not_have/\" rel=\"nofollow\n",
      "4\n",
      "6\n",
      "['/u/AnythingApplied', '/u/NS4701']\n",
      "['\"Surely there should be SOME limit.  Are you really going to build out your system to allow people to...\"', '\"As someone who works in IT, you should know the common methods for obtaining passwords. Using brute ...\"']\n",
      "1\n",
      "https://old.reddit.com/r/changemyview/comments/9pa925/cmv_the_issue_of_abortion_from_a_morality/e808r4l/\n",
      "https://old.reddit.com/r/DeltaLog/comments/9parkk/deltas_awarded_in_cmv_the_issue_of_abortion_from/\" rel=\"nofollow\n",
      "4\n",
      "['/u/MrCapitalismWildRide']\n",
      "['\"So, hypothetically, say you were hooked up to another human being, in some way where your body was b...\"']\n",
      "1\n",
      "https://old.reddit.com/r/changemyview/comments/9pblci/cmv_the_teenager_who_baked_her_grandfathers_ashes/e80qxgy/\n",
      "https://old.reddit.com/r/DeltaLog/comments/9pcvz3/deltas_awarded_in_cmv_the_teenager_who_baked_her/\" rel=\"nofollow\n",
      "4\n",
      "['/u/Amablue']\n",
      "['https://www.nolo.com/legal-encyclopedia/burial-cremation-laws-california.html']\n"
     ]
    },
    {
     "ename": "ValueError",
     "evalue": "invalid literal for int() with base 10: 'Prejudice'",
     "output_type": "error",
     "traceback": [
      "\u001b[1;31m---------------------------------------------------------------------------\u001b[0m",
      "\u001b[1;31mValueError\u001b[0m                                Traceback (most recent call last)",
      "\u001b[1;32m<ipython-input-6-290c219d4152>\u001b[0m in \u001b[0;36m<module>\u001b[1;34m()\u001b[0m\n\u001b[0;32m      6\u001b[0m     \u001b[1;32mif\u001b[0m \u001b[0mdeltalink\u001b[0m \u001b[1;33m!=\u001b[0m \u001b[1;32mNone\u001b[0m \u001b[1;32mand\u001b[0m \u001b[0mlen\u001b[0m\u001b[1;33m(\u001b[0m\u001b[0mdeltalink\u001b[0m\u001b[1;33m)\u001b[0m \u001b[1;33m>\u001b[0m\u001b[1;36m0\u001b[0m\u001b[1;33m:\u001b[0m\u001b[1;33m\u001b[0m\u001b[0m\n\u001b[0;32m      7\u001b[0m         \u001b[0mop_txt\u001b[0m\u001b[1;33m.\u001b[0m\u001b[0mappend\u001b[0m\u001b[1;33m(\u001b[0m\u001b[0mOPtxt\u001b[0m\u001b[1;33m)\u001b[0m\u001b[1;33m\u001b[0m\u001b[0m\n\u001b[1;32m----> 8\u001b[1;33m         \u001b[0mdeltaNames\u001b[0m\u001b[1;33m,\u001b[0m \u001b[0mdeltaComments\u001b[0m \u001b[1;33m=\u001b[0m \u001b[0mgetDeltaNames\u001b[0m\u001b[1;33m(\u001b[0m\u001b[0mdeltalink\u001b[0m\u001b[1;33m,\u001b[0m \u001b[0mdeltabot\u001b[0m\u001b[1;33m,\u001b[0m \u001b[0mCommentText\u001b[0m\u001b[1;33m)\u001b[0m\u001b[1;33m\u001b[0m\u001b[0m\n\u001b[0m\u001b[0;32m      9\u001b[0m         \u001b[0mdeltas_txt\u001b[0m\u001b[1;33m.\u001b[0m\u001b[0mappend\u001b[0m\u001b[1;33m(\u001b[0m\u001b[0mfind_delta_txt\u001b[0m\u001b[1;33m(\u001b[0m\u001b[0mdeltaNames\u001b[0m\u001b[1;33m,\u001b[0m \u001b[0mdeltaComments\u001b[0m\u001b[1;33m,\u001b[0m \u001b[0mCommentText\u001b[0m\u001b[1;33m,\u001b[0m \u001b[0mcommentName\u001b[0m\u001b[1;33m)\u001b[0m\u001b[1;33m)\u001b[0m\u001b[1;33m\u001b[0m\u001b[0m\n\u001b[0;32m     10\u001b[0m \u001b[1;33m\u001b[0m\u001b[0m\n",
      "\u001b[1;32m~\\Documents\\GitHub\\ArguingAgents\\CMVscraper_script_delta.py\u001b[0m in \u001b[0;36mgetDeltaNames\u001b[1;34m(deltalink, deltabot, CommentText)\u001b[0m\n\u001b[0;32m    117\u001b[0m         \u001b[0mdeltaTXT\u001b[0m \u001b[1;33m=\u001b[0m \u001b[0mCommentText\u001b[0m\u001b[1;33m[\u001b[0m\u001b[1;36m0\u001b[0m\u001b[1;33m]\u001b[0m\u001b[1;33m\u001b[0m\u001b[0m\n\u001b[0;32m    118\u001b[0m         \u001b[0mdeltaW\u001b[0m \u001b[1;33m=\u001b[0m \u001b[0mdeltaTXT\u001b[0m\u001b[1;33m.\u001b[0m\u001b[0msplit\u001b[0m\u001b[1;33m(\u001b[0m\u001b[1;33m)\u001b[0m\u001b[1;33m\u001b[0m\u001b[0m\n\u001b[1;32m--> 119\u001b[1;33m         \u001b[0mdeltaNumber\u001b[0m \u001b[1;33m=\u001b[0m \u001b[0mint\u001b[0m\u001b[1;33m(\u001b[0m\u001b[0mdeltaTXT\u001b[0m\u001b[1;33m.\u001b[0m\u001b[0msplit\u001b[0m\u001b[1;33m(\u001b[0m\u001b[1;33m)\u001b[0m\u001b[1;33m[\u001b[0m\u001b[1;36m4\u001b[0m\u001b[1;33m]\u001b[0m\u001b[1;33m)\u001b[0m\u001b[1;33m\u001b[0m\u001b[0m\n\u001b[0m\u001b[0;32m    120\u001b[0m         \u001b[1;31m#print(deltaW)\u001b[0m\u001b[1;33m\u001b[0m\u001b[1;33m\u001b[0m\u001b[0m\n\u001b[0;32m    121\u001b[0m         \u001b[0mprint\u001b[0m\u001b[1;33m(\u001b[0m\u001b[0mdeltaNumber\u001b[0m\u001b[1;33m)\u001b[0m\u001b[1;33m\u001b[0m\u001b[0m\n",
      "\u001b[1;31mValueError\u001b[0m: invalid literal for int() with base 10: 'Prejudice'"
     ]
    }
   ],
   "source": [
    "deltas_txt = []\n",
    "op_txt = []\n",
    "for i in range(25):\n",
    "    OPname, OPtxt, CommentText, commentName, URL, TOPIC, deltalink, deltabot= urlSearch(i)\n",
    "    \n",
    "    if deltalink != None and len(deltalink) >0:\n",
    "        op_txt.append(OPtxt)\n",
    "        deltaNames, deltaComments = getDeltaNames(deltalink, deltabot, CommentText)\n",
    "        deltas_txt.append(find_delta_txt(deltaNames, deltaComments, CommentText, commentName))\n",
    "        "
   ]
  },
  {
   "cell_type": "markdown",
   "metadata": {},
   "source": [
    "##### op_easy = flesch_ease_comm(op_txt)\n",
    "delta_easy = flesch_ease_comm(deltas_txt[4])\n",
    "\n",
    "print(delta_easy)"
   ]
  },
  {
   "cell_type": "code",
   "execution_count": 17,
   "metadata": {},
   "outputs": [
    {
     "name": "stdout",
     "output_type": "stream",
     "text": [
      "[]\n"
     ]
    }
   ],
   "source": []
  },
  {
   "cell_type": "code",
   "execution_count": null,
   "metadata": {},
   "outputs": [],
   "source": []
  }
 ],
 "metadata": {
  "kernelspec": {
   "display_name": "Python 3",
   "language": "python",
   "name": "python3"
  },
  "language_info": {
   "codemirror_mode": {
    "name": "ipython",
    "version": 3
   },
   "file_extension": ".py",
   "mimetype": "text/x-python",
   "name": "python",
   "nbconvert_exporter": "python",
   "pygments_lexer": "ipython3",
   "version": "3.6.5"
  }
 },
 "nbformat": 4,
 "nbformat_minor": 2
}
