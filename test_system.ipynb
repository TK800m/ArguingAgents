{
 "cells": [
  {
   "cell_type": "code",
   "execution_count": 1,
   "metadata": {},
   "outputs": [
    {
     "name": "stderr",
     "output_type": "stream",
     "text": [
      "c:\\users\\paul\\appdata\\local\\programs\\python\\python36\\lib\\site-packages\\gensim\\utils.py:1212: UserWarning: detected Windows; aliasing chunkize to chunkize_serial\n",
      "  warnings.warn(\"detected Windows; aliasing chunkize to chunkize_serial\")\n",
      "Using TensorFlow backend.\n"
     ]
    }
   ],
   "source": [
    "import pandas as pd\n",
    "from detect_and_score import *"
   ]
  },
  {
   "cell_type": "code",
   "execution_count": 2,
   "metadata": {},
   "outputs": [],
   "source": [
    "# load the data containing the reddit data\n",
    "data = pd.read_csv(\"data/cmv_database0_to_75.csv\").drop([\"Unnamed: 0\"], axis = 1)"
   ]
  },
  {
   "cell_type": "code",
   "execution_count": 3,
   "metadata": {},
   "outputs": [],
   "source": [
    "# load the word2vec model\n",
    "word2vec = gensim.models.KeyedVectors.load_word2vec_format('models/GoogleNews-vectors-negative300.bin', binary=True)  "
   ]
  },
  {
   "cell_type": "code",
   "execution_count": 4,
   "metadata": {},
   "outputs": [],
   "source": [
    "# load the LSTM models\n",
    "detect_model = keras.models.load_model(\"models/bilstm_cos.h5\")\n",
    "score_model = keras.models.load_model(\"models/argument_quality.h5\")"
   ]
  },
  {
   "cell_type": "code",
   "execution_count": 5,
   "metadata": {},
   "outputs": [
    {
     "data": {
      "text/plain": [
       "Index(['op_name', 'op_text', 'comment_name', 'comment_text', 'url', 'topic',\n",
       "       'delta_link', 'delta_names', 'delta_text', 'op_easy_score',\n",
       "       'delta_easy_score'],\n",
       "      dtype='object')"
      ]
     },
     "execution_count": 5,
     "metadata": {},
     "output_type": "execute_result"
    }
   ],
   "source": [
    "data.columns"
   ]
  },
  {
   "cell_type": "code",
   "execution_count": 6,
   "metadata": {},
   "outputs": [],
   "source": [
    "test_row = data.iloc[20,:]"
   ]
  },
  {
   "cell_type": "code",
   "execution_count": 7,
   "metadata": {},
   "outputs": [
    {
     "data": {
      "text/plain": [
       "'CMV: I don’t think it’s an unfair consequence to detain and desperate families illegally crossing into the US'"
      ]
     },
     "execution_count": 7,
     "metadata": {},
     "output_type": "execute_result"
    }
   ],
   "source": [
    "test_row.topic"
   ]
  },
  {
   "cell_type": "code",
   "execution_count": 8,
   "metadata": {},
   "outputs": [
    {
     "data": {
      "text/plain": [
       "'I understand that in the past, most families would be deported and this current system is draining more resources. My issue is that families crossing the border KNOW there are consequences and they still knowingly put their children in danger. The outrage that this has sparked in mainstream media (driven largely by celebrities, social media influencers, or news outlets) is one sided in my opinion. I would NEVER cross illegally if the consequences involved my daughter being separated from either parent. Yet, people are continuing to cross, and the general public is advocating for easement on punishments. I believe there should be tough consequences, especially if you know it’s illegal and risks your family staying together. I understand WHY people are trying to get into America. I understand keeping children segregated and in warehouses is not ideal, but I don’t think it’s an unfair consequence. I’ve been struggling to understand a valid and logical argument for the other side. Please change my view on why it is an unfair consequence to seperate families. Edit: I meant SEPARATE in the title. Sorry. Second Edit: both my parents immigrated from Asia (separately before meeting) and it was a slow process, but they managed to do it legally. They now are both American citizens. My husband is an immigrant from Europe. I am Canadian.'"
      ]
     },
     "execution_count": 8,
     "metadata": {},
     "output_type": "execute_result"
    }
   ],
   "source": [
    "test_row.op_text"
   ]
  },
  {
   "cell_type": "code",
   "execution_count": 9,
   "metadata": {},
   "outputs": [
    {
     "name": "stdout",
     "output_type": "stream",
     "text": [
      "----------Good arguments-----------:\n",
      "Probability: 0.6782168\n",
      "Quality: 0.43871176\n",
      "I understand that in the past, most families would be deported and this current system is draining more resources\n",
      "\n",
      "Probability: 0.83453417\n",
      "Quality: 0.51948494\n",
      " My issue is that families crossing the border KNOW there are consequences and they still knowingly put their children in danger\n",
      "\n",
      "Probability: 0.75527066\n",
      "Quality: 0.54613686\n",
      " Yet, people are continuing to cross, and the general public is advocating for easement on punishments\n",
      "\n",
      "Probability: 0.8685707\n",
      "Quality: 0.60806036\n",
      " I believe there should be tough consequences, especially if you know it’s illegal and risks your family staying together\n",
      "\n",
      "Probability: 0.70887846\n",
      "Quality: 0.41569722\n",
      " I understand keeping children segregated and in warehouses is not ideal, but I don’t think it’s an unfair consequence\n",
      "\n",
      "Total post quality: 0.5056182\n",
      "----------Bad arguments-----------:\n",
      "Probability: 0.01609931\n",
      " The outrage that this has sparked in mainstream media (driven largely by celebrities, social media influencers, or news outlets) is one sided in my opinion\n",
      "\n",
      "Probability: 0.33294582\n",
      " I would NEVER cross illegally if the consequences involved my daughter being separated from either parent\n",
      "\n",
      "Probability: 0.14999165\n",
      " I understand WHY people are trying to get into America\n",
      "\n",
      "Probability: 0.0144745195\n",
      " I’ve been struggling to understand a valid and logical argument for the other side\n",
      "\n",
      "Probability: 0.032255698\n",
      " Please change my view on why it is an unfair consequence to seperate families\n",
      "\n",
      "Probability: 0.015779488\n",
      " Edit: I meant SEPARATE in the title\n",
      "\n",
      "Probability: 0.08302885\n",
      " Sorry\n",
      "\n",
      "Probability: 0.20915148\n",
      " Second Edit: both my parents immigrated from Asia (separately before meeting) and it was a slow process, but they managed to do it legally\n",
      "\n",
      "Probability: 0.24463972\n",
      " They now are both American citizens\n",
      "\n",
      "Probability: 0.1386844\n",
      " My husband is an immigrant from Europe\n",
      "\n",
      "Probability: 0.0634142\n",
      " I am Canadian\n",
      "\n",
      "Probability: 0.0634142\n",
      "\n",
      "\n"
     ]
    }
   ],
   "source": [
    "scored_arguments = detect_and_score(detect_model, score_model, test_row.op_text, test_row.topic, word2vec)"
   ]
  },
  {
   "cell_type": "code",
   "execution_count": 10,
   "metadata": {},
   "outputs": [
    {
     "data": {
      "text/plain": [
       "0.5056182"
      ]
     },
     "execution_count": 10,
     "metadata": {},
     "output_type": "execute_result"
    }
   ],
   "source": [
    "calculate_score(scored_arguments)"
   ]
  },
  {
   "cell_type": "code",
   "execution_count": 11,
   "metadata": {},
   "outputs": [
    {
     "data": {
      "text/plain": [
       "'[\"So, when someone commits an illegal action, it\\'s okay to punish them. Almost everyone agrees on this, and I\\'m happy to ignore the people who don\\'t. Having established that, let\\'s move on.\\\\nWhen someone commits an illegal action, it is NOT okay to punish their children. Almost everyone agrees on this, and I\\'m happy to ignore the people who don\\'t. Moving on...\\\\nAs a general rule, children are not held responsible for their actions. When a child participates in a crime with their parent, the assumption is that the child did not have the ability to refuse to participate. This gets contentious for children post-puberty, but pre-puberty nearly everyone agrees on this.\\\\nFrom these three things, while we can conclude that it\\'s okay to punish people who illegally cross the border, it is NOT okay to punish their children. So, is holding a child in a detention facility while separated from their parents a form of punishment? I think so. Honestly, I can\\'t think of any way to think of it other than as a punishment. So, that\\'s why people are upset.\\\\nAlso, Trump\\'s actions are actually even worse, since these people (who entered illegally) are applying for asylum. The rights of asylum seekers, whether or not their application is granted, are explicitly delineated by the IJCR. Here\\'s a surprise: we\\'re not allowed to separate families of asylum seekers.\\\\nSo, yeah. Between punishing children for the crimes of their parents and violating international law, I\\'d say I have every reason to be angry at Trump for this.\\\\n\"]'"
      ]
     },
     "execution_count": 11,
     "metadata": {},
     "output_type": "execute_result"
    }
   ],
   "source": [
    "test_row.delta_text"
   ]
  },
  {
   "cell_type": "code",
   "execution_count": 12,
   "metadata": {},
   "outputs": [
    {
     "name": "stdout",
     "output_type": "stream",
     "text": [
      "----------Good arguments-----------:\n",
      "Probability: 0.5696743\n",
      "Quality: 0.37600425\n",
      "[\"So, when someone commits an illegal action, it's okay to punish them\n",
      "\n",
      "Probability: 0.724182\n",
      "Quality: 0.584508\n",
      "\\nWhen someone commits an illegal action, it is NOT okay to punish their children\n",
      "\n",
      "Probability: 0.8522961\n",
      "Quality: 0.5822103\n",
      " When a child participates in a crime with their parent, the assumption is that the child did not have the ability to refuse to participate\n",
      "\n",
      "Probability: 0.6207045\n",
      "Quality: 0.42110068\n",
      "\\nFrom these three things, while we can conclude that it's okay to punish people who illegally cross the border, it is NOT okay to punish their children\n",
      "\n",
      "Probability: 0.8728751\n",
      "Quality: 0.53832227\n",
      " So, is holding a child in a detention facility while separated from their parents a form of punishment? I think so\n",
      "\n",
      "Probability: 0.5198132\n",
      "Quality: 0.26376003\n",
      " Honestly, I can't think of any way to think of it other than as a punishment\n",
      "\n",
      "Probability: 0.82428205\n",
      "Quality: 0.5183965\n",
      " Between punishing children for the crimes of their parents and violating international law, I'd say I have every reason to be angry at Trump for this\n",
      "\n",
      "Total post quality: 0.46918604\n",
      "----------Bad arguments-----------:\n",
      "Probability: 0.18081701\n",
      " Almost everyone agrees on this, and I'm happy to ignore the people who don't\n",
      "\n",
      "Probability: 0.0839616\n",
      " Having established that, let's move on\n",
      "\n",
      "Probability: 0.20214316\n",
      " Almost everyone agrees on this, and I'm happy to ignore the people who don't\n",
      "\n",
      "Probability: 0.0544722\n",
      " Moving on\n",
      "\n",
      "Probability: 0.0544722\n",
      "\n",
      "\n",
      "Probability: 0.0544722\n",
      "\n",
      "\n",
      "Probability: 0.10957746\n",
      "\\nAs a general rule, children are not held responsible for their actions\n",
      "\n",
      "Probability: 0.025951516\n",
      " This gets contentious for children post-puberty, but pre-puberty nearly everyone agrees on this\n",
      "\n",
      "Probability: 0.08656376\n",
      " So, that's why people are upset\n",
      "\n",
      "Probability: 0.33679175\n",
      "\\nAlso, Trump's actions are actually even worse, since these people (who entered illegally) are applying for asylum\n",
      "\n",
      "Probability: 0.1909067\n",
      " The rights of asylum seekers, whether or not their application is granted, are explicitly delineated by the IJCR\n",
      "\n",
      "Probability: 0.06938972\n",
      " Here's a surprise: we're not allowed to separate families of asylum seekers\n",
      "\n",
      "Probability: 0.27849248\n",
      "\\nSo, yeah\n",
      "\n",
      "Probability: 0.4580979\n",
      "\\n\"]\n",
      "\n"
     ]
    }
   ],
   "source": [
    "scored_arguments = detect_and_score(detect_model, score_model, test_row.delta_text, test_row.topic, word2vec)"
   ]
  },
  {
   "cell_type": "code",
   "execution_count": 13,
   "metadata": {},
   "outputs": [
    {
     "data": {
      "text/plain": [
       "0.46918604"
      ]
     },
     "execution_count": 13,
     "metadata": {},
     "output_type": "execute_result"
    }
   ],
   "source": [
    "calculate_score(scored_arguments)"
   ]
  },
  {
   "cell_type": "code",
   "execution_count": 14,
   "metadata": {},
   "outputs": [
    {
     "data": {
      "text/plain": [
       "1525"
      ]
     },
     "execution_count": 14,
     "metadata": {},
     "output_type": "execute_result"
    }
   ],
   "source": [
    "len(test_row.delta_text)"
   ]
  },
  {
   "cell_type": "code",
   "execution_count": null,
   "metadata": {},
   "outputs": [],
   "source": []
  },
  {
   "cell_type": "code",
   "execution_count": null,
   "metadata": {},
   "outputs": [],
   "source": []
  },
  {
   "cell_type": "code",
   "execution_count": null,
   "metadata": {},
   "outputs": [],
   "source": []
  },
  {
   "cell_type": "code",
   "execution_count": null,
   "metadata": {},
   "outputs": [],
   "source": []
  },
  {
   "cell_type": "code",
   "execution_count": null,
   "metadata": {},
   "outputs": [],
   "source": []
  }
 ],
 "metadata": {
  "kernelspec": {
   "display_name": "Python 3",
   "language": "python",
   "name": "python3"
  },
  "language_info": {
   "codemirror_mode": {
    "name": "ipython",
    "version": 3
   },
   "file_extension": ".py",
   "mimetype": "text/x-python",
   "name": "python",
   "nbconvert_exporter": "python",
   "pygments_lexer": "ipython3",
   "version": "3.6.2"
  }
 },
 "nbformat": 4,
 "nbformat_minor": 2
}
