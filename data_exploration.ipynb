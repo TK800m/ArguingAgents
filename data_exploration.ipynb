{
 "cells": [
  {
   "cell_type": "code",
   "execution_count": 1,
   "metadata": {},
   "outputs": [],
   "source": [
    "import pandas as pd\n",
    "import numpy as np\n",
    "import nltk\n",
    "import matplotlib.pyplot as plt"
   ]
  },
  {
   "cell_type": "markdown",
   "metadata": {},
   "source": [
    "Inspect the distribution of POS-tags in a topic"
   ]
  },
  {
   "cell_type": "code",
   "execution_count": 2,
   "metadata": {},
   "outputs": [],
   "source": [
    "raw_data_dp = pd.read_csv('data/dp-slider-means.csv')\n",
    "raw_data_evo = pd.read_csv('data/evo-slider-means.csv')\n",
    "raw_data_gc = pd.read_csv('data/gc-slider-means.csv')\n",
    "raw_data_gm = pd.read_csv('data/gm-slider-means.csv')\n",
    "frames = [raw_data_dp, raw_data_evo, raw_data_gc, raw_data_gm]\n",
    "raw_data = pd.concat(frames, axis = 0)"
   ]
  },
  {
   "cell_type": "code",
   "execution_count": 3,
   "metadata": {},
   "outputs": [
    {
     "data": {
      "text/html": [
       "<div>\n",
       "<style scoped>\n",
       "    .dataframe tbody tr th:only-of-type {\n",
       "        vertical-align: middle;\n",
       "    }\n",
       "\n",
       "    .dataframe tbody tr th {\n",
       "        vertical-align: top;\n",
       "    }\n",
       "\n",
       "    .dataframe thead th {\n",
       "        text-align: right;\n",
       "    }\n",
       "</style>\n",
       "<table border=\"1\" class=\"dataframe\">\n",
       "  <thead>\n",
       "    <tr style=\"text-align: right;\">\n",
       "      <th></th>\n",
       "      <th>Unnamed: 0</th>\n",
       "      <th>ItemId</th>\n",
       "      <th>GoodSliderMean</th>\n",
       "      <th>GoodSliderDev</th>\n",
       "      <th>Connective.x</th>\n",
       "      <th>PairType.x</th>\n",
       "      <th>ResponseInitial.x</th>\n",
       "      <th>Phrase.x</th>\n",
       "    </tr>\n",
       "  </thead>\n",
       "  <tbody>\n",
       "    <tr>\n",
       "      <th>0</th>\n",
       "      <td>658</td>\n",
       "      <td>ab5810d83f23243ddce713ac23d775cd</td>\n",
       "      <td>1.000</td>\n",
       "      <td>NaN</td>\n",
       "      <td>so</td>\n",
       "      <td>P1_P2</td>\n",
       "      <td>false</td>\n",
       "      <td>Sorry for the length of the post, but I hope i...</td>\n",
       "    </tr>\n",
       "    <tr>\n",
       "      <th>1</th>\n",
       "      <td>871</td>\n",
       "      <td>e0a35a65ce12b2457e8ff1f9b8cec749</td>\n",
       "      <td>1.000</td>\n",
       "      <td>0.000000</td>\n",
       "      <td>no_connective</td>\n",
       "      <td>P1_P2</td>\n",
       "      <td>true</td>\n",
       "      <td>I am all for the death penalty.</td>\n",
       "    </tr>\n",
       "    <tr>\n",
       "      <th>2</th>\n",
       "      <td>931</td>\n",
       "      <td>f16863ac9454707946061848c7e9a3e5</td>\n",
       "      <td>1.000</td>\n",
       "      <td>0.000000</td>\n",
       "      <td>no_connective</td>\n",
       "      <td>P1_P2</td>\n",
       "      <td>true</td>\n",
       "      <td>I am pro death penalty.</td>\n",
       "    </tr>\n",
       "    <tr>\n",
       "      <th>3</th>\n",
       "      <td>936</td>\n",
       "      <td>f1f99c6b1f3f14025a3c01cb8a13b10b</td>\n",
       "      <td>1.000</td>\n",
       "      <td>NaN</td>\n",
       "      <td>no_connective</td>\n",
       "      <td>P1_P2</td>\n",
       "      <td>false</td>\n",
       "      <td>I can't believe that you just said \"So what if...</td>\n",
       "    </tr>\n",
       "    <tr>\n",
       "      <th>4</th>\n",
       "      <td>11</td>\n",
       "      <td>029bc4e01ac943f87837556b32d5627a</td>\n",
       "      <td>0.999</td>\n",
       "      <td>0.001414</td>\n",
       "      <td>so</td>\n",
       "      <td>QR</td>\n",
       "      <td>false</td>\n",
       "      <td>So what does he have to do with a debate like ...</td>\n",
       "    </tr>\n",
       "  </tbody>\n",
       "</table>\n",
       "</div>"
      ],
      "text/plain": [
       "   Unnamed: 0                            ItemId  GoodSliderMean  \\\n",
       "0         658  ab5810d83f23243ddce713ac23d775cd           1.000   \n",
       "1         871  e0a35a65ce12b2457e8ff1f9b8cec749           1.000   \n",
       "2         931  f16863ac9454707946061848c7e9a3e5           1.000   \n",
       "3         936  f1f99c6b1f3f14025a3c01cb8a13b10b           1.000   \n",
       "4          11  029bc4e01ac943f87837556b32d5627a           0.999   \n",
       "\n",
       "   GoodSliderDev   Connective.x PairType.x ResponseInitial.x  \\\n",
       "0            NaN             so      P1_P2             false   \n",
       "1       0.000000  no_connective      P1_P2              true   \n",
       "2       0.000000  no_connective      P1_P2              true   \n",
       "3            NaN  no_connective      P1_P2             false   \n",
       "4       0.001414             so         QR             false   \n",
       "\n",
       "                                            Phrase.x  \n",
       "0  Sorry for the length of the post, but I hope i...  \n",
       "1                    I am all for the death penalty.  \n",
       "2                            I am pro death penalty.  \n",
       "3  I can't believe that you just said \"So what if...  \n",
       "4  So what does he have to do with a debate like ...  "
      ]
     },
     "execution_count": 3,
     "metadata": {},
     "output_type": "execute_result"
    }
   ],
   "source": [
    "raw_data.head()"
   ]
  },
  {
   "cell_type": "code",
   "execution_count": 4,
   "metadata": {},
   "outputs": [],
   "source": [
    "raw_data = raw_data[['GoodSliderMean', 'Phrase.x']]"
   ]
  },
  {
   "cell_type": "markdown",
   "metadata": {},
   "source": [
    "Split the data into good arguments and bad arguments"
   ]
  },
  {
   "cell_type": "code",
   "execution_count": 5,
   "metadata": {},
   "outputs": [],
   "source": [
    "raw_data_bad = raw_data[raw_data.GoodSliderMean < 0.8]\n",
    "raw_data_good = raw_data[raw_data.GoodSliderMean >= 0.8]"
   ]
  },
  {
   "cell_type": "markdown",
   "metadata": {},
   "source": [
    "Create a function that counts POS-tag occurrance for all arguments in a dataframe"
   ]
  },
  {
   "cell_type": "code",
   "execution_count": 6,
   "metadata": {},
   "outputs": [],
   "source": [
    "def get_POS_counts(data):\n",
    "    sentences = data[\"Phrase.x\"]\n",
    "    # store counts of POS tags in a dictionary\n",
    "    POS_counts = {}\n",
    "    # for each sentence..\n",
    "    for sentence in sentences:\n",
    "        # tokenize the sentence \n",
    "        tokens = nltk.word_tokenize(sentence)\n",
    "        # tag each token\n",
    "        POS_tags = nltk.pos_tag(tokens)\n",
    "        # if the tag already exists in the dictionary, increment the count\n",
    "        # otherwise, create a new entry\n",
    "        for tag in POS_tags:\n",
    "            # tag[0] is the word, tag[1] is the POS_tag\n",
    "            if(tag[1] in POS_counts):\n",
    "                POS_counts[tag[1]] += 1\n",
    "            else:\n",
    "                POS_counts[tag[1]] = 1\n",
    "    # normalize counts by amount of sentences\n",
    "    for key in POS_counts:\n",
    "        POS_counts[key] = POS_counts[key] / len(sentences)\n",
    "    return POS_counts\n",
    "            \n",
    "        "
   ]
  },
  {
   "cell_type": "code",
   "execution_count": 7,
   "metadata": {},
   "outputs": [],
   "source": [
    "bad_counts = get_POS_counts(raw_data_bad)"
   ]
  },
  {
   "cell_type": "code",
   "execution_count": 8,
   "metadata": {},
   "outputs": [],
   "source": [
    "good_counts = get_POS_counts(raw_data_good)"
   ]
  },
  {
   "cell_type": "code",
   "execution_count": 9,
   "metadata": {},
   "outputs": [],
   "source": [
    "n_groups = len(good_counts)"
   ]
  },
  {
   "cell_type": "code",
   "execution_count": 16,
   "metadata": {},
   "outputs": [],
   "source": [
    "sorted_tags_bad = sorted_by_value = sorted(bad_counts.items(), key=lambda kv: kv[1])\n",
    "sorted_tags_good = sorted_by_value = sorted(good_counts.items(), key=lambda kv: kv[1])"
   ]
  },
  {
   "cell_type": "code",
   "execution_count": 17,
   "metadata": {},
   "outputs": [],
   "source": [
    "sorted_tags_bad.reverse()"
   ]
  },
  {
   "cell_type": "code",
   "execution_count": 18,
   "metadata": {},
   "outputs": [],
   "source": [
    "sorted_tags_good.reverse()"
   ]
  },
  {
   "cell_type": "code",
   "execution_count": 21,
   "metadata": {},
   "outputs": [
    {
     "data": {
      "text/plain": [
       "[('NN', 2.5717062634989203),\n",
       " ('IN', 2.2010799136069115),\n",
       " ('DT', 1.7952483801295895),\n",
       " ('RB', 1.42548596112311),\n",
       " ('PRP', 1.3140388768898488),\n",
       " ('JJ', 1.2211663066954643),\n",
       " ('VB', 1.0442764578833694),\n",
       " ('.', 1.0254859611231102),\n",
       " ('NNS', 0.9524838012958964),\n",
       " (',', 0.8300215982721383)]"
      ]
     },
     "execution_count": 21,
     "metadata": {},
     "output_type": "execute_result"
    }
   ],
   "source": [
    "sorted_tags_bad[:10]"
   ]
  },
  {
   "cell_type": "code",
   "execution_count": 22,
   "metadata": {},
   "outputs": [
    {
     "data": {
      "text/plain": [
       "[('NN', 3.793288590604027),\n",
       " ('IN', 3.102013422818792),\n",
       " ('DT', 2.3557046979865772),\n",
       " ('JJ', 1.6791946308724832),\n",
       " ('RB', 1.6684563758389261),\n",
       " ('NNS', 1.4644295302013424),\n",
       " ('VB', 1.3758389261744965),\n",
       " ('PRP', 1.3718120805369127),\n",
       " (',', 1.1543624161073827),\n",
       " ('.', 1.0644295302013422)]"
      ]
     },
     "execution_count": 22,
     "metadata": {},
     "output_type": "execute_result"
    }
   ],
   "source": [
    "sorted_tags_good[:10]"
   ]
  },
  {
   "cell_type": "code",
   "execution_count": 15,
   "metadata": {},
   "outputs": [
    {
     "name": "stdout",
     "output_type": "stream",
     "text": [
      "SYM\n"
     ]
    }
   ],
   "source": [
    "for i in range(len(sorted_tags_good)):\n",
    "    if(sorted_tags_good[i][0] not in bad_counts.keys()):\n",
    "        print(sorted_tags_good[i][0])"
   ]
  },
  {
   "cell_type": "code",
   "execution_count": null,
   "metadata": {},
   "outputs": [],
   "source": []
  },
  {
   "cell_type": "code",
   "execution_count": null,
   "metadata": {},
   "outputs": [],
   "source": []
  }
 ],
 "metadata": {
  "kernelspec": {
   "display_name": "Python 3",
   "language": "python",
   "name": "python3"
  },
  "language_info": {
   "codemirror_mode": {
    "name": "ipython",
    "version": 3
   },
   "file_extension": ".py",
   "mimetype": "text/x-python",
   "name": "python",
   "nbconvert_exporter": "python",
   "pygments_lexer": "ipython3",
   "version": "3.6.2"
  }
 },
 "nbformat": 4,
 "nbformat_minor": 2
}
