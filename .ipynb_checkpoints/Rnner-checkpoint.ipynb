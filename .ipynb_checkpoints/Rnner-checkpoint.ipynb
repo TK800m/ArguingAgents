{
 "cells": [
  {
   "cell_type": "code",
   "execution_count": 48,
   "metadata": {},
   "outputs": [],
   "source": [
    "from CMVwebscraper import *\n",
    "from textDifficulty import *"
   ]
  },
  {
   "cell_type": "code",
   "execution_count": 49,
   "metadata": {},
   "outputs": [
    {
     "name": "stdout",
     "output_type": "stream",
     "text": [
      "CMV: Ascribing fascism to Donald Trump is naive or academically dishonest.\n",
      "https://old.reddit.com/r/changemyview/comments/9n3sir/cmv_ascribing_fascism_to_donald_trump_is_naive_or/\n"
     ]
    }
   ],
   "source": [
    "OPname, OPtxt, CommentText, commentName, URL, TOPIC = search(\"trump\")\n",
    "print(TOPIC)\n",
    "print(URL)"
   ]
  },
  {
   "cell_type": "code",
   "execution_count": 50,
   "metadata": {},
   "outputs": [
    {
     "name": "stdout",
     "output_type": "stream",
     "text": [
      "Fascism is an authoritarian structure of government with several hallmarks:How does this reconcile with the current state of the US government and its leader? It doesn’t.Let’s refute the points one by one:There has been absolutely no forcible suppression of political opponents. Perhaps there are some tweets that you don’t like or that are unbecoming of the office, but that is not akin to enacting policies for forcible suppression. Trump has removed regulations on the private sector, something that is incompatible with fascism.Where are the policies that place restrictions on free speech, religion, or ideology? Tweeting that the media is “fake news” is not any of those things. If anything, the far left occupies the space where free speech and ideology is being challenged and limited today. Trump always talks about putting America first regarding manufacturing, policies, and federal funds. This is not the same as the ultranationalist tendencies that are found in fascism. In his belief, this is what the leader of a nation should do - always put the needs of its own citizens above others. The definition of nationalism is rather neutral, it would depend almost entirely on the execution of each situation.Change my view.\n"
     ]
    }
   ],
   "source": [
    "print(OPtxt)"
   ]
  },
  {
   "cell_type": "code",
   "execution_count": 51,
   "metadata": {},
   "outputs": [
    {
     "name": "stdout",
     "output_type": "stream",
     "text": [
      "--------------------------------------------------------------------------------\n",
      "\n",
      "OP's ease: 54.93 versus comment ease: 61.67\n",
      "Sorry, u/grumpy-dog – your comment has been removed for breaking Rule 1:\n",
      "\n",
      "Direct responses to a CMV post must challenge at least one aspect of OP’s stated view (however minor), or ask a clarifying question. Arguments in favor of the view OP is willing to change must be restricted to replies to other comments. See the wiki page for more information.  \n",
      "\n",
      "If you would like to appeal, message the moderators by clicking this link. Please note that multiple violations will lead to a ban, as explained in our moderation standards.\n",
      "\n",
      "Grunt08\n",
      "\n",
      "--------------------------------------------------------------------------------\n",
      "\n",
      "OP's ease: 54.93 versus comment ease: 56.96\n",
      "It’s not suppose to be. I’m rather suggesting that nationalism is a rather neutral concept and depends entirely on the implementation. Do you think that Trump is a nationalist in the same vein that Mussolini is, and that he is implementing similar policies?\n",
      "\n",
      "blackbriar73\n",
      "\n",
      "--------------------------------------------------------------------------------\n",
      "\n",
      "OP's ease: 54.93 versus comment ease: 47.38\n",
      "I'm not trying to indicate that Trump is a socialist, although Mussolini started off as such, rather that corporations run the government like hand in glove -with the government being the glove.  Socialism would be closer to the other way around.\n",
      "And there's a fundamental difference between \"business\" and \"corporations\", with the former encompassing the latter.  Corporations of the size that can sway a government benefit from a relaxation of government oversight because they can then get away with more than they could otherwise.  Especially when it comes to anti-competitive practices which put businesses of the smaller and non-corporate type at a major disadvantage.  \n",
      "What you perceive as a distance between corporations and Trump's government is only a loosening of the government's grip on corporate practices.  The hand in the glove has served itself; it hasn't taken itself out of the glove.  \n",
      "I mean, your 2nd hallmark couldn't be more wrong.  Fascism is about protecting corporate power to the point of making aristocrats of corporate leaders.  Labor is to be subjugated.  Trump has been incredibly effective at doing these things.  Corporations overall are doing better than ever.  The Supreme Court has a conservative (read corporation friendly) majority likely to last a generation.  The list goes on: Trump is an avowed nationalist with his \"America first\" proclamations, his disdain for human rights is unequivocated, he calls for the control of mass media, nobody denies his cronyism and nepotism, even his incredible sexism is a tenet of Fascist policy.  \n",
      "Where did you get your list of hallmarks from anyway?  Yours could represent aspects of most any totalitarian government.  It’s the specific goals and attributes that set them apart.  \n",
      "Again, Trump embodies the merger of corporate and government power.  He is the embodiment of a Fascist.\n",
      "\n",
      "HomunculusEmeritus\n",
      "\n",
      "--------------------------------------------------------------------------------\n",
      "\n",
      "OP's ease: 54.93 versus comment ease: 46.37\n",
      "Here you go, a joint statement from the NFL and the NFL Players Union.  The article points out \n",
      "\n",
      "For now, at least, that new policy is on hold. The NFL’s previous anthem policy, included in its game operations manual, required players to be on the sideline for the anthem. It suggested players stand for the anthem but did not require them to do so.\n",
      "\n",
      "https://www.washingtonpost.com/news/sports/wp/2018/07/19/nfl-puts-national-anthem-policy-on-hold-under-agreement-with-nflpa/\n",
      "They are currently negotiating a new policy to require standing, but it is not in place yet.\n",
      "\n",
      "cacheflow\n",
      "\n",
      "--------------------------------------------------------------------------------\n",
      "\n",
      "OP's ease: 54.93 versus comment ease: 66.03\n",
      "\n",
      "NFL players definitely can exercise their free speech rights. However, the big difference that everybody leaves out is that during a game these players are at work!! Clocked in, and being paid millions to do so. Do you think at your job you could stop working and begin to protest mid shift? Especially if that behaviour has an objectively negative effect on your business?\n",
      "\n",
      "I absolutely could, if I negotiated a contract with my employer that permitted it, as the players have.\n",
      "\n",
      "cacheflow\n",
      "\n",
      "--------------------------------------------------------------------------------\n",
      "\n",
      "OP's ease: 54.93 versus comment ease: 35.64\n",
      "Delegitimizing independent arbiters of the truth, like the media or the courts, is a movement towards authoritarianism. On KJU, he said, \"He is the strong head [of his country]... Don’t let anyone think anything different. He speaks and his people sit up at attention. I want my people to do the same\"-->this is an endorsement of authoritarianism. Threatening to jail political opponents-->threatening to take authoritarian steps. Demanding personal loyalty from law enforcement-->authoritarianism.\n",
      "\n",
      "spacepastasauce\n",
      "\n",
      "--------------------------------------------------------------------------------\n",
      "\n",
      "OP's ease: 54.93 versus comment ease: 69.82\n",
      "Of course Trump is placating KJU, if you see that as anything other than political rhetoric in an attempt to advance diplomacy in North Korea, I would be extremely suspect.\n",
      "The courts are definitely arbiters of the truth. The media is a mixed bag, many try to be arbiters of truth, many are biased, etc.\n",
      "\n",
      "blackbriar73\n",
      "\n",
      "--------------------------------------------------------------------------------\n",
      "\n",
      "OP's ease: 54.93 versus comment ease: 65.83\n",
      "What if I just provided a counter example to each of your points?\n",
      "\n",
      "Do you consider the press, specifically what the right has dubbed \"mainstream media\" and somehow excluding one of the largest sources of news (Fox), one of Trump's political opponents? He has been restricting their access to his events. There is also a recent move to ban protesting on white house grounds. That goes explicitly against the 1A and counts as suppression.\n",
      "Tariffs combined with subsequent attempts at subsidies to industries directly affected. The way he runs his business. Crony capitalism in general (this one isn't attributable to Trump specifically but the GOP at large as well as the \"establishment politicians\" across the aisle).\n",
      "Trump has suggested that NFL players shouldn't be allowed to exercise their first amendment rights. Trump has suggested protesting in general be outlawed. I'm not sure how you think branding the press the \"enemy of the people\" as in my 1. doesn't count toward suppression of 1A rights unless we somehow don't take him at his word.\n",
      "I mean, this one goes without saying. I'm not sure how you rationalized that away. He's the definition of a nationalist. \"America first\" is about as nationalistic as one can get and the recent zero tolerance immigration policy along with his endorsement of \"stop and frisk\" policing smacks of authoritarianism.\n",
      "\n",
      "\n",
      "LucidMetal\n",
      "\n",
      "--------------------------------------------------------------------------------\n",
      "\n",
      "OP's ease: 54.93 versus comment ease: 66.74\n",
      "Now you know how a discussion works!\n",
      "\n",
      "Fox is definitely mainstream, strictly speaking it is the “most mainstream” as it has the most viewers. The media is not a political opponent, no matter the rhetoric used. Are you suggesting that the media has less of a voice in the trump administration? Most journalists will tell you that trump gives them more access than Obama did.\n",
      "Trump is using tariffs as negotiating leverage. \n",
      "NFL players definitely can exercise their free speech rights. However, the big difference that everybody leaves out is that during a game these players are at work!! Clocked in, and being paid millions to do so. Do you think at your job you could stop working and begin to protest mid shift? Especially if that behaviour has an objectively negative effect on your business?\n",
      "I didn’t rationalize it away, I’m suggesting that nationalism is rather neutral as a concept and depends how it applies. \n",
      "\n",
      "\n",
      "blackbriar73\n",
      "\n",
      "--------------------------------------------------------------------------------\n",
      "\n",
      "OP's ease: 54.93 versus comment ease: 86.71\n",
      "\n",
      "Most journalists will tell you that trump gives them more access than Obama did.\n",
      "\n",
      "I would like a cite on this. Trump addresses people directly, via Twitter. When is the last time he took open questions from the press corps?\n",
      "\n",
      "PhasmaUrbomach\n",
      "\n",
      "[94, 1, 56, 31, 23, 6, 7, 9, 10, 11]\n"
     ]
    }
   ],
   "source": [
    "kinOP = flesch_kincaid_OP(OPtxt)\n",
    "kinComm= flesch_kincaid_comm(CommentText)\n",
    "easyOP = flesch_ease_OP(OPtxt)\n",
    "easyComm = flesch_ease_comm(CommentText)\n",
    "\n",
    "(closest, saveCloseComm) = similarEase(easyOP, easyComm, CommentText, commentName)\n",
    "print(closest)"
   ]
  },
  {
   "cell_type": "code",
   "execution_count": null,
   "metadata": {},
   "outputs": [],
   "source": []
  },
  {
   "cell_type": "code",
   "execution_count": null,
   "metadata": {},
   "outputs": [],
   "source": []
  },
  {
   "cell_type": "code",
   "execution_count": null,
   "metadata": {},
   "outputs": [],
   "source": []
  },
  {
   "cell_type": "code",
   "execution_count": null,
   "metadata": {},
   "outputs": [],
   "source": []
  },
  {
   "cell_type": "code",
   "execution_count": null,
   "metadata": {},
   "outputs": [],
   "source": []
  }
 ],
 "metadata": {
  "kernelspec": {
   "display_name": "Python 3",
   "language": "python",
   "name": "python3"
  },
  "language_info": {
   "codemirror_mode": {
    "name": "ipython",
    "version": 3
   },
   "file_extension": ".py",
   "mimetype": "text/x-python",
   "name": "python",
   "nbconvert_exporter": "python",
   "pygments_lexer": "ipython3",
   "version": "3.6.5"
  }
 },
 "nbformat": 4,
 "nbformat_minor": 2
}
