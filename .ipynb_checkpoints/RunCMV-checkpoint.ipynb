{
 "cells": [
  {
   "cell_type": "code",
   "execution_count": 21,
   "metadata": {},
   "outputs": [],
   "source": [
    "from CMVscraper_script_delta import *\n",
    "\n",
    "#OPname, OPtxt, CommentText, commentName, URL, TOPIC, deltalink, deltabot= search(\"people\")\n",
    "OPname, OPtxt, CommentText, commentName, URL, TOPIC, deltalink, deltabot= urlSearch(11)\n",
    "\n",
    "if deltalink != None and len(deltalink) >0:\n",
    "    deltaNames, deltaComments = getDeltaNames(deltalink, deltabot, CommentText)\n",
    "\n"
   ]
  },
  {
   "cell_type": "code",
   "execution_count": 22,
   "metadata": {},
   "outputs": [],
   "source": [
    "deltapost = find_delta_txt(deltaNames, deltaComments, CommentText, commentName)"
   ]
  },
  {
   "cell_type": "code",
   "execution_count": 23,
   "metadata": {},
   "outputs": [
    {
     "name": "stdout",
     "output_type": "stream",
     "text": [
      "CMV: Music in pornography is distracting and unenjoyable\n",
      "https://old.reddit.com/r/changemyview/comments/9p87e7/cmv_social_conservatism_is_just_a_manifestation/\n",
      "False\n"
     ]
    }
   ],
   "source": [
    "#OPname, OPtxt, CommentText, commentName, URL, TOPIC, deltalink, deltabot= search(\"people\")\n",
    "\n",
    "print(TOPIC)\n",
    "print(URL)\n",
    "print(deltabot)"
   ]
  },
  {
   "cell_type": "code",
   "execution_count": null,
   "metadata": {},
   "outputs": [],
   "source": [
    "print(OPtxt)"
   ]
  },
  {
   "cell_type": "code",
   "execution_count": null,
   "metadata": {},
   "outputs": [],
   "source": [
    "kinOP = flesch_kincaid_OP(OPtxt)\n",
    "kinComm= flesch_kincaid_comm(CommentText)\n",
    "easyOP = flesch_ease_OP(OPtxt)\n",
    "easyComm = flesch_ease_comm(CommentText)\n",
    "\n",
    "#for some reason doesnt work but does below\n",
    "#(similar, saveCloseComm) = similarEase(easyOP, easyComm, CommentText, commentName)\n",
    "#print(similar)"
   ]
  },
  {
   "cell_type": "markdown",
   "metadata": {},
   "source": [
    "(similar, locsimilar) = similarEase(easyOP, easyComm, CommentText, commentName, OPname)\n",
    "detlat"
   ]
  },
  {
   "cell_type": "code",
   "execution_count": null,
   "metadata": {},
   "outputs": [],
   "source": [
    "#sort the list of similar\n",
    "similar, locsimilar = zip(*sorted(zip(similar, locsimilar)))\n",
    "print(similar)\n",
    "print(locsimilar)"
   ]
  },
  {
   "cell_type": "code",
   "execution_count": null,
   "metadata": {},
   "outputs": [],
   "source": [
    "(similar, locsimilar) = similarEase(easyOP, easyComm, CommentText, commentName, OPname)"
   ]
  },
  {
   "cell_type": "code",
   "execution_count": 24,
   "metadata": {},
   "outputs": [
    {
     "name": "stdout",
     "output_type": "stream",
     "text": [
      "2\n",
      "https://old.reddit.com/r/changemyview/comments/9p1ev6/cmv_people_should_stop_assuming_that_someone_in_a/e7ylih1/\n",
      "https://old.reddit.com/r/DeltaLog/comments/9p2whj/deltas_awarded_in_cmv_people_should_stop_assuming/\n",
      "4\n",
      "6\n",
      "['/u/MasterGrok', '/u/BolshevikMuppet']\n",
      "['\"Why not just identify as an independent then? It seems to me that you have some differences in opini...\"', '\"The fact that you believe people should be able to marry whoever they want, but voted for Republican...\"']\n"
     ]
    }
   ],
   "source": [
    "deltas_txt = []\n",
    "op_txt = []\n",
    "for i in range(5):\n",
    "    OPname, OPtxt, CommentText, commentName, URL, TOPIC, deltalink, deltabot= urlSearch(i)\n",
    "    \n",
    "    if deltalink != None and len(deltalink) >0:\n",
    "        op_txt.append(OPtxt)\n",
    "        deltaNames, deltaComments = getDeltaNames(deltalink, deltabot, CommentText)\n",
    "        deltas_txt.append(find_delta_txt(deltaNames, deltaComments, CommentText, commentName))\n",
    "        "
   ]
  },
  {
   "cell_type": "markdown",
   "metadata": {},
   "source": [
    "##### op_easy = flesch_ease_comm(op_txt)\n",
    "delta_easy = flesch_ease_comm(deltas_txt[4])\n",
    "\n",
    "print(delta_easy)"
   ]
  },
  {
   "cell_type": "code",
   "execution_count": 164,
   "metadata": {},
   "outputs": [],
   "source": [
    "def urlSearch(query):\n",
    "    import math\n",
    "    page_number = math.floor(query/25)\n",
    "    url =  \"https://old.reddit.com/r/changemyview/\"\n",
    "    if page_number <1:\n",
    "        url = url\n",
    "    else:\n",
    "        for i in range(page_number):\n",
    "            url = get_next_page(url)\n",
    "            print(url)\n",
    "    ##two vectors of topics and urls\n",
    "    topics, urls = linksAndTopics(url)\n",
    "    print(len(urls))\n",
    "    URL = urls[query]\n",
    "    ##return all data\n",
    "    TOPIC = topics[query]\n",
    "    OPtxt, OPwords, OPname = getOPtext(URL)\n",
    "    comments, commentTXT, Names, deltalink, deltabot = getComments(URL)\n",
    "    return(OPname, OPtxt, commentTXT, Names, URL, TOPIC, deltalink, deltabot)  \n",
    "\n",
    "def get_next_page(url):\n",
    "    url = souper(url).find_all(\"span\",attrs={'class':\"next-button\"})\n",
    "    url = str(url).split('>')[1].split(\"\\\"\")[1]\n",
    "    \n",
    "    return url"
   ]
  },
  {
   "cell_type": "code",
   "execution_count": 165,
   "metadata": {},
   "outputs": [
    {
     "name": "stdout",
     "output_type": "stream",
     "text": [
      "https://old.reddit.com/r/changemyview/?count=25&amp;after=t3_9oy8yx\n",
      "https://old.reddit.com/r/changemyview/?amp=&amp;count=50&amp;after=t3_9ovucl\n",
      "['https://old.reddit.com/r/changemyview/comments/9ow87x/cmv_vegans_would_have_a_better_impact_on/', 'https://old.reddit.com/r/changemyview/comments/9p1oc2/cmv_governments_should_make_changes_in_a/', 'https://old.reddit.com/r/changemyview/comments/9p6v71/cmv_the_united_states_should_be_divided_into_age/', 'https://old.reddit.com/r/changemyview/comments/9p4q3e/cmv_the_deathdisappearance_of_jamal_khashoggi/', 'https://old.reddit.com/r/changemyview/comments/9p487e/cmv_nonanonymized_letters_of_recommendation_are/', 'https://old.reddit.com/r/changemyview/comments/9p08y5/cmv_your_efforts_can_be_wasted/', 'https://old.reddit.com/r/changemyview/comments/9opx4j/cmv_kneeling_for_the_national_anthem_is_not/', 'https://old.reddit.com/r/changemyview/comments/9ov0r4/cmv_football_boxing_and_other_sports_that_involve/', 'https://old.reddit.com/r/changemyview/comments/9owgo9/cmv_you_can_never_own_land_in_the_usa/', 'https://old.reddit.com/r/changemyview/comments/9orp1o/cmv_there_is_nothing_wrong_with_an_athlete/', 'https://old.reddit.com/r/changemyview/comments/9ody9p/cmv_dragonflys_are_significantly_doper_than/', 'https://old.reddit.com/r/changemyview/comments/9oskpe/cmv_we_already_know_that_not_all_x_is_not_a_valid/', 'https://old.reddit.com/r/changemyview/comments/9oxmnv/cmv_an_alien_invasion_would_be_a_net_benefit_for/', 'https://old.reddit.com/r/changemyview/comments/9oxlu0/cmv_love_and_mankind_are_like_luck_from_carmina/', 'https://old.reddit.com/r/changemyview/comments/9otqto/cmv_separating_art_from_artist_intrinsically/', 'https://old.reddit.com/r/changemyview/comments/9oscb5/cmv_poptarts_are_not_sandwiches/', 'https://old.reddit.com/r/changemyview/comments/9oswtk/cmv_americas_divisiveness_has_passed_a_point_of/', 'https://old.reddit.com/r/changemyview/comments/9oqlv6/cmv_the_muslim_community_and_islam_need_a_social/', 'https://old.reddit.com/r/changemyview/comments/9ou944/cmvcompanies_that_require_a_minimum_gpa_for/', 'https://old.reddit.com/r/changemyview/comments/9p1nvc/cmv_there_is_absolutely_no_point_whatsoever_in/', 'https://old.reddit.com/r/changemyview/comments/9oscjg/cmv_auto_insurance_companies_shouldnt_use_age_or/', 'https://old.reddit.com/r/changemyview/comments/9ot8ms/cmv_there_is_no_definitive_point_in_time_where_we/', 'https://old.reddit.com/r/changemyview/comments/9onotf/cmv_kurt_cobain_was_a_good_musician_but_a_shit/', 'https://old.reddit.com/r/changemyview/comments/9osm8y/cmv_i_should_take_a_lot_more_precaution_when/']\n"
     ]
    },
    {
     "ename": "IndexError",
     "evalue": "list index out of range",
     "output_type": "error",
     "traceback": [
      "\u001b[1;31m---------------------------------------------------------------------------\u001b[0m",
      "\u001b[1;31mIndexError\u001b[0m                                Traceback (most recent call last)",
      "\u001b[1;32m<ipython-input-165-387be565ae7f>\u001b[0m in \u001b[0;36m<module>\u001b[1;34m()\u001b[0m\n\u001b[0;32m      1\u001b[0m \u001b[0murl\u001b[0m\u001b[1;33m=\u001b[0m \u001b[0mget_next_page\u001b[0m\u001b[1;33m(\u001b[0m\u001b[1;34m\"https://old.reddit.com/r/changemyview/\"\u001b[0m\u001b[1;33m)\u001b[0m\u001b[1;33m\u001b[0m\u001b[0m\n\u001b[1;32m----> 2\u001b[1;33m \u001b[0mOPname\u001b[0m\u001b[1;33m,\u001b[0m \u001b[0mOPtxt\u001b[0m\u001b[1;33m,\u001b[0m \u001b[0mCommentText\u001b[0m\u001b[1;33m,\u001b[0m \u001b[0mcommentName\u001b[0m\u001b[1;33m,\u001b[0m \u001b[0mURL\u001b[0m\u001b[1;33m,\u001b[0m \u001b[0mTOPIC\u001b[0m\u001b[1;33m,\u001b[0m \u001b[0mdeltalink\u001b[0m\u001b[1;33m,\u001b[0m \u001b[0mdeltabot\u001b[0m\u001b[1;33m=\u001b[0m \u001b[0murlSearch\u001b[0m\u001b[1;33m(\u001b[0m\u001b[1;36m55\u001b[0m\u001b[1;33m)\u001b[0m\u001b[1;33m\u001b[0m\u001b[0m\n\u001b[0m",
      "\u001b[1;32m<ipython-input-164-fd39a84b3175>\u001b[0m in \u001b[0;36murlSearch\u001b[1;34m(query)\u001b[0m\n\u001b[0;32m     12\u001b[0m     \u001b[0mtopics\u001b[0m\u001b[1;33m,\u001b[0m \u001b[0murls\u001b[0m \u001b[1;33m=\u001b[0m \u001b[0mlinksAndTopics\u001b[0m\u001b[1;33m(\u001b[0m\u001b[0murl\u001b[0m\u001b[1;33m)\u001b[0m\u001b[1;33m\u001b[0m\u001b[0m\n\u001b[0;32m     13\u001b[0m     \u001b[0mprint\u001b[0m\u001b[1;33m(\u001b[0m\u001b[0murls\u001b[0m\u001b[1;33m)\u001b[0m\u001b[1;33m\u001b[0m\u001b[0m\n\u001b[1;32m---> 14\u001b[1;33m     \u001b[0mURL\u001b[0m \u001b[1;33m=\u001b[0m \u001b[0murls\u001b[0m\u001b[1;33m[\u001b[0m\u001b[0mquery\u001b[0m\u001b[1;33m]\u001b[0m\u001b[1;33m\u001b[0m\u001b[0m\n\u001b[0m\u001b[0;32m     15\u001b[0m     \u001b[1;31m##return all data\u001b[0m\u001b[1;33m\u001b[0m\u001b[1;33m\u001b[0m\u001b[0m\n\u001b[0;32m     16\u001b[0m     \u001b[0mTOPIC\u001b[0m \u001b[1;33m=\u001b[0m \u001b[0mtopics\u001b[0m\u001b[1;33m[\u001b[0m\u001b[0mquery\u001b[0m\u001b[1;33m]\u001b[0m\u001b[1;33m\u001b[0m\u001b[0m\n",
      "\u001b[1;31mIndexError\u001b[0m: list index out of range"
     ]
    }
   ],
   "source": [
    "url= get_next_page(\"https://old.reddit.com/r/changemyview/\")\n",
    "OPname, OPtxt, CommentText, commentName, URL, TOPIC, deltalink, deltabot= urlSearch(55)\n"
   ]
  },
  {
   "cell_type": "code",
   "execution_count": null,
   "metadata": {},
   "outputs": [],
   "source": [
    "deltaurl = str(store[0])\n",
    "        #print(deltaurl)\n",
    "        remove_letters = len(deltaurl)\n",
    "        for i in range(len(deltaurl)):\n",
    "            if deltaurl[i] == \">\":\n",
    "                remove_letters-=i - 1\n",
    "                break\n"
   ]
  },
  {
   "cell_type": "code",
   "execution_count": null,
   "metadata": {},
   "outputs": [],
   "source": []
  }
 ],
 "metadata": {
  "kernelspec": {
   "display_name": "Python 3",
   "language": "python",
   "name": "python3"
  },
  "language_info": {
   "codemirror_mode": {
    "name": "ipython",
    "version": 3
   },
   "file_extension": ".py",
   "mimetype": "text/x-python",
   "name": "python",
   "nbconvert_exporter": "python",
   "pygments_lexer": "ipython3",
   "version": "3.6.5"
  }
 },
 "nbformat": 4,
 "nbformat_minor": 2
}
