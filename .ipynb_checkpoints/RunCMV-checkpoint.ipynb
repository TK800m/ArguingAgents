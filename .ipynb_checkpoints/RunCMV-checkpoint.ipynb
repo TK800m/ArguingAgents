{
 "cells": [
  {
   "cell_type": "code",
   "execution_count": 11,
   "metadata": {},
   "outputs": [],
   "source": [
    "from CMVscraper_script_delta import *\n",
    "import pandas as pd\n",
    "\n",
    "#OPname, OPtxt, CommentText, commentName, URL, TOPIC, deltalink, deltabot= search(\"people\")\n",
    "\n",
    "\n",
    "def makeDF(num_of_posts):\n",
    "    my_data_log = []\n",
    "    for num in range(num_of_posts):\n",
    "        OPname, OPtxt, CommentText, commentName, URL, TOPIC, deltalink, deltabot= urlSearch(num)\n",
    "        if deltalink != None and len(deltalink) >0:\n",
    "            print(\"found a delta in: \"+ URL)\n",
    "            deltaNames, deltaComments = getDeltaNames(deltalink, deltabot, CommentText)\n",
    "            deltapost = find_delta_txt(deltaNames, deltaComments, CommentText, commentName)\n",
    "            easyOP = flesch_ease_OP(OPtxt)\n",
    "            easyComm = []\n",
    "            for x in range(len(deltapost)):\n",
    "                easyComm.append(flesch_ease_comm(CommentText))\n",
    "            my_data_log.append([OPname, OPtxt, commentName,CommentText,  URL, TOPIC, deltalink, deltaNames, deltapost, easyOP, easyComm])\n",
    "\n",
    "    filename= 'cmv_database.csv'\n",
    "    pd.DataFrame(my_data_log, columns=['op_name','op_text','comment_name', 'comment_text', 'url', 'topic', 'delta_link', 'delta_names', 'delta_text', 'op_easy_score', 'delta_easy_score']).to_csv(filename)\n",
    "    return(my_data_log)"
   ]
  },
  {
   "cell_type": "code",
   "execution_count": 12,
   "metadata": {},
   "outputs": [
    {
     "name": "stdout",
     "output_type": "stream",
     "text": [
      "found a delta in: https://old.reddit.com/r/changemyview/comments/9pb1fp/cmv_elizabeth_warrens_decision_to_release_her_dna/\n",
      "found a delta in: https://old.reddit.com/r/changemyview/comments/9plwrs/cmv_an_ai_doomsday_scenario_will_not_happen/\n",
      "found a delta in: https://old.reddit.com/r/changemyview/comments/9pkrtf/cmv_hair_should_not_be_gendered/\n"
     ]
    },
    {
     "ename": "AssertionError",
     "evalue": "11 columns passed, passed data had 12 columns",
     "output_type": "error",
     "traceback": [
      "\u001b[1;31m---------------------------------------------------------------------------\u001b[0m",
      "\u001b[1;31mAssertionError\u001b[0m                            Traceback (most recent call last)",
      "\u001b[1;32m<ipython-input-12-d21993d09257>\u001b[0m in \u001b[0;36m<module>\u001b[1;34m()\u001b[0m\n\u001b[1;32m----> 1\u001b[1;33m \u001b[0mmy_data\u001b[0m \u001b[1;33m=\u001b[0m \u001b[0mmakeDF\u001b[0m\u001b[1;33m(\u001b[0m\u001b[1;36m10\u001b[0m\u001b[1;33m)\u001b[0m\u001b[1;33m\u001b[0m\u001b[0m\n\u001b[0m",
      "\u001b[1;32m<ipython-input-11-640c0763ef9e>\u001b[0m in \u001b[0;36mmakeDF\u001b[1;34m(num_of_posts)\u001b[0m\n\u001b[0;32m     20\u001b[0m \u001b[1;33m\u001b[0m\u001b[0m\n\u001b[0;32m     21\u001b[0m     \u001b[0mfilename\u001b[0m\u001b[1;33m=\u001b[0m \u001b[1;34m'cmv_database.csv'\u001b[0m\u001b[1;33m\u001b[0m\u001b[0m\n\u001b[1;32m---> 22\u001b[1;33m     \u001b[0mpd\u001b[0m\u001b[1;33m.\u001b[0m\u001b[0mDataFrame\u001b[0m\u001b[1;33m(\u001b[0m\u001b[0mmy_data_log\u001b[0m\u001b[1;33m,\u001b[0m \u001b[0mcolumns\u001b[0m\u001b[1;33m=\u001b[0m\u001b[1;33m[\u001b[0m\u001b[1;34m'op_name'\u001b[0m\u001b[1;33m,\u001b[0m\u001b[1;34m'op_text'\u001b[0m\u001b[1;33m,\u001b[0m\u001b[1;34m'comment_name'\u001b[0m\u001b[1;33m,\u001b[0m \u001b[1;34m'comment_text'\u001b[0m\u001b[1;33m,\u001b[0m \u001b[1;34m'url'\u001b[0m\u001b[1;33m,\u001b[0m \u001b[1;34m'topic'\u001b[0m\u001b[1;33m,\u001b[0m \u001b[1;34m'delta_link'\u001b[0m\u001b[1;33m,\u001b[0m \u001b[1;34m'delta_names'\u001b[0m\u001b[1;33m,\u001b[0m \u001b[1;34m'delta_text'\u001b[0m\u001b[1;33m,\u001b[0m \u001b[1;34m'op_easy_score'\u001b[0m\u001b[1;33m,\u001b[0m \u001b[1;34m'delta_easy_score'\u001b[0m\u001b[1;33m]\u001b[0m\u001b[1;33m)\u001b[0m\u001b[1;33m.\u001b[0m\u001b[0mto_csv\u001b[0m\u001b[1;33m(\u001b[0m\u001b[0mfilename\u001b[0m\u001b[1;33m)\u001b[0m\u001b[1;33m\u001b[0m\u001b[0m\n\u001b[0m\u001b[0;32m     23\u001b[0m     \u001b[1;32mreturn\u001b[0m\u001b[1;33m(\u001b[0m\u001b[0mmy_data_log\u001b[0m\u001b[1;33m)\u001b[0m\u001b[1;33m\u001b[0m\u001b[0m\n",
      "\u001b[1;32m~\\Anaconda3\\lib\\site-packages\\pandas\\core\\frame.py\u001b[0m in \u001b[0;36m__init__\u001b[1;34m(self, data, index, columns, dtype, copy)\u001b[0m\n\u001b[0;32m    385\u001b[0m                     \u001b[1;32mif\u001b[0m \u001b[0mis_named_tuple\u001b[0m\u001b[1;33m(\u001b[0m\u001b[0mdata\u001b[0m\u001b[1;33m[\u001b[0m\u001b[1;36m0\u001b[0m\u001b[1;33m]\u001b[0m\u001b[1;33m)\u001b[0m \u001b[1;32mand\u001b[0m \u001b[0mcolumns\u001b[0m \u001b[1;32mis\u001b[0m \u001b[1;32mNone\u001b[0m\u001b[1;33m:\u001b[0m\u001b[1;33m\u001b[0m\u001b[0m\n\u001b[0;32m    386\u001b[0m                         \u001b[0mcolumns\u001b[0m \u001b[1;33m=\u001b[0m \u001b[0mdata\u001b[0m\u001b[1;33m[\u001b[0m\u001b[1;36m0\u001b[0m\u001b[1;33m]\u001b[0m\u001b[1;33m.\u001b[0m\u001b[0m_fields\u001b[0m\u001b[1;33m\u001b[0m\u001b[0m\n\u001b[1;32m--> 387\u001b[1;33m                     \u001b[0marrays\u001b[0m\u001b[1;33m,\u001b[0m \u001b[0mcolumns\u001b[0m \u001b[1;33m=\u001b[0m \u001b[0m_to_arrays\u001b[0m\u001b[1;33m(\u001b[0m\u001b[0mdata\u001b[0m\u001b[1;33m,\u001b[0m \u001b[0mcolumns\u001b[0m\u001b[1;33m,\u001b[0m \u001b[0mdtype\u001b[0m\u001b[1;33m=\u001b[0m\u001b[0mdtype\u001b[0m\u001b[1;33m)\u001b[0m\u001b[1;33m\u001b[0m\u001b[0m\n\u001b[0m\u001b[0;32m    388\u001b[0m                     \u001b[0mcolumns\u001b[0m \u001b[1;33m=\u001b[0m \u001b[0m_ensure_index\u001b[0m\u001b[1;33m(\u001b[0m\u001b[0mcolumns\u001b[0m\u001b[1;33m)\u001b[0m\u001b[1;33m\u001b[0m\u001b[0m\n\u001b[0;32m    389\u001b[0m \u001b[1;33m\u001b[0m\u001b[0m\n",
      "\u001b[1;32m~\\Anaconda3\\lib\\site-packages\\pandas\\core\\frame.py\u001b[0m in \u001b[0;36m_to_arrays\u001b[1;34m(data, columns, coerce_float, dtype)\u001b[0m\n\u001b[0;32m   7432\u001b[0m     \u001b[1;32mif\u001b[0m \u001b[0misinstance\u001b[0m\u001b[1;33m(\u001b[0m\u001b[0mdata\u001b[0m\u001b[1;33m[\u001b[0m\u001b[1;36m0\u001b[0m\u001b[1;33m]\u001b[0m\u001b[1;33m,\u001b[0m \u001b[1;33m(\u001b[0m\u001b[0mlist\u001b[0m\u001b[1;33m,\u001b[0m \u001b[0mtuple\u001b[0m\u001b[1;33m)\u001b[0m\u001b[1;33m)\u001b[0m\u001b[1;33m:\u001b[0m\u001b[1;33m\u001b[0m\u001b[0m\n\u001b[0;32m   7433\u001b[0m         return _list_to_arrays(data, columns, coerce_float=coerce_float,\n\u001b[1;32m-> 7434\u001b[1;33m                                dtype=dtype)\n\u001b[0m\u001b[0;32m   7435\u001b[0m     \u001b[1;32melif\u001b[0m \u001b[0misinstance\u001b[0m\u001b[1;33m(\u001b[0m\u001b[0mdata\u001b[0m\u001b[1;33m[\u001b[0m\u001b[1;36m0\u001b[0m\u001b[1;33m]\u001b[0m\u001b[1;33m,\u001b[0m \u001b[0mcollections\u001b[0m\u001b[1;33m.\u001b[0m\u001b[0mMapping\u001b[0m\u001b[1;33m)\u001b[0m\u001b[1;33m:\u001b[0m\u001b[1;33m\u001b[0m\u001b[0m\n\u001b[0;32m   7436\u001b[0m         return _list_of_dict_to_arrays(data, columns,\n",
      "\u001b[1;32m~\\Anaconda3\\lib\\site-packages\\pandas\\core\\frame.py\u001b[0m in \u001b[0;36m_list_to_arrays\u001b[1;34m(data, columns, coerce_float, dtype)\u001b[0m\n\u001b[0;32m   7511\u001b[0m         \u001b[0mcontent\u001b[0m \u001b[1;33m=\u001b[0m \u001b[0mlist\u001b[0m\u001b[1;33m(\u001b[0m\u001b[0mlib\u001b[0m\u001b[1;33m.\u001b[0m\u001b[0mto_object_array\u001b[0m\u001b[1;33m(\u001b[0m\u001b[0mdata\u001b[0m\u001b[1;33m)\u001b[0m\u001b[1;33m.\u001b[0m\u001b[0mT\u001b[0m\u001b[1;33m)\u001b[0m\u001b[1;33m\u001b[0m\u001b[0m\n\u001b[0;32m   7512\u001b[0m     return _convert_object_array(content, columns, dtype=dtype,\n\u001b[1;32m-> 7513\u001b[1;33m                                  coerce_float=coerce_float)\n\u001b[0m\u001b[0;32m   7514\u001b[0m \u001b[1;33m\u001b[0m\u001b[0m\n\u001b[0;32m   7515\u001b[0m \u001b[1;33m\u001b[0m\u001b[0m\n",
      "\u001b[1;32m~\\Anaconda3\\lib\\site-packages\\pandas\\core\\frame.py\u001b[0m in \u001b[0;36m_convert_object_array\u001b[1;34m(content, columns, coerce_float, dtype)\u001b[0m\n\u001b[0;32m   7569\u001b[0m             raise AssertionError('{col:d} columns passed, passed data had '\n\u001b[0;32m   7570\u001b[0m                                  '{con} columns'.format(col=len(columns),\n\u001b[1;32m-> 7571\u001b[1;33m                                                         con=len(content)))\n\u001b[0m\u001b[0;32m   7572\u001b[0m \u001b[1;33m\u001b[0m\u001b[0m\n\u001b[0;32m   7573\u001b[0m     \u001b[1;31m# provide soft conversion of object dtypes\u001b[0m\u001b[1;33m\u001b[0m\u001b[1;33m\u001b[0m\u001b[0m\n",
      "\u001b[1;31mAssertionError\u001b[0m: 11 columns passed, passed data had 12 columns"
     ]
    }
   ],
   "source": [
    "my_data = makeDF(10)"
   ]
  },
  {
   "cell_type": "code",
   "execution_count": null,
   "metadata": {},
   "outputs": [],
   "source": [
    "print(my_data)"
   ]
  },
  {
   "cell_type": "code",
   "execution_count": null,
   "metadata": {},
   "outputs": [],
   "source": [
    "#OPname, OPtxt, CommentText, commentName, URL, TOPIC, deltalink, deltabot= search(\"people\")\n",
    "\n",
    "print(TOPIC)\n",
    "print(URL)\n",
    "print(deltabot)"
   ]
  },
  {
   "cell_type": "code",
   "execution_count": null,
   "metadata": {},
   "outputs": [],
   "source": [
    "print(OPtxt)"
   ]
  },
  {
   "cell_type": "code",
   "execution_count": null,
   "metadata": {},
   "outputs": [],
   "source": [
    "kinOP = flesch_kincaid_OP(OPtxt)\n",
    "kinComm= flesch_kincaid_comm(CommentText)\n",
    "easyOP = flesch_ease_OP(OPtxt)\n",
    "easyComm = flesch_ease_comm(CommentText)\n",
    "\n",
    "#for some reason doesnt work but does below\n",
    "(similar, locsimilar) = similarEase(easyOP, easyComm, CommentText, commentName)\n",
    "print(similar)"
   ]
  },
  {
   "cell_type": "markdown",
   "metadata": {},
   "source": [
    "(similar, locsimilar) = similarEase(easyOP, easyComm, CommentText, commentName, OPname)\n",
    "detlat"
   ]
  },
  {
   "cell_type": "code",
   "execution_count": null,
   "metadata": {},
   "outputs": [],
   "source": [
    "#sort the list of similar\n",
    "similar, locsimilar = zip(*sorted(zip(similar, locsimilar)))\n",
    "print(similar)\n",
    "print(locsimilar)"
   ]
  },
  {
   "cell_type": "code",
   "execution_count": null,
   "metadata": {},
   "outputs": [],
   "source": [
    "deltas_txt = []\n",
    "op_txt = []\n",
    "for i in range(5):\n",
    "    OPname, OPtxt, CommentText, commentName, URL, TOPIC, deltalink, deltabot= urlSearch(i)\n",
    "    \n",
    "    if deltalink != None and len(deltalink) >0:\n",
    "        op_txt.append(OPtxt)\n",
    "        deltaNames, deltaComments = getDeltaNames(deltalink, deltabot, CommentText)\n",
    "        deltas_txt.append(find_delta_txt(deltaNames, deltaComments, CommentText, commentName))\n"
   ]
  },
  {
   "cell_type": "markdown",
   "metadata": {},
   "source": [
    "##### op_easy = flesch_ease_comm(op_txt)\n",
    "delta_easy = flesch_ease_comm(deltas_txt[4])\n",
    "\n",
    "print(delta_easy)"
   ]
  },
  {
   "cell_type": "code",
   "execution_count": null,
   "metadata": {},
   "outputs": [],
   "source": [
    "# def urlSearch(query):\n",
    "#     import math\n",
    "#     page_number = math.floor(query/25)\n",
    "#     item = query-(page_number*25)-1\n",
    "#     url =  \"https://old.reddit.com/r/changemyview/\"\n",
    "#     if page_number <1:\n",
    "#         url = url\n",
    "#     else:\n",
    "#         for i in range(page_number):\n",
    "#             url = get_next_page(url)\n",
    "#     ##two vectors of topics and urls\n",
    "#     topics, urls = linksAndTopics(url)\n",
    "    \n",
    "#     URL = urls[item]\n",
    "#     ##return all data\n",
    "#     TOPIC = topics[item]\n",
    "#     OPtxt, OPwords, OPname = getOPtext(URL)\n",
    "#     comments, commentTXT, Names, deltalink, deltabot = getComments(URL)\n",
    "#     return(OPname, OPtxt, commentTXT, Names, URL, TOPIC, deltalink, deltabot)  \n",
    "\n",
    "# def get_next_page(url):\n",
    "#     url = souper(url).find_all(\"span\",attrs={'class':\"next-button\"})\n",
    "#     url = str(url).split('>')[1].split(\"\\\"\")[1]\n",
    "#     return url\n",
    "#deltapost = find_delta_txt(deltaNames, deltaComments, CommentText, commentName)"
   ]
  },
  {
   "cell_type": "code",
   "execution_count": null,
   "metadata": {},
   "outputs": [],
   "source": [
    "OPname, OPtxt, CommentText, commentName, URL, TOPIC, deltalink, deltabot= urlSearch(186)\n",
    "print(TOPIC)\n",
    "print(URL)"
   ]
  },
  {
   "cell_type": "code",
   "execution_count": null,
   "metadata": {},
   "outputs": [],
   "source": [
    "df.to_csv(file_name, encoding='utf-8', index=False)"
   ]
  },
  {
   "cell_type": "code",
   "execution_count": null,
   "metadata": {},
   "outputs": [],
   "source": []
  }
 ],
 "metadata": {
  "kernelspec": {
   "display_name": "Python 3",
   "language": "python",
   "name": "python3"
  },
  "language_info": {
   "codemirror_mode": {
    "name": "ipython",
    "version": 3
   },
   "file_extension": ".py",
   "mimetype": "text/x-python",
   "name": "python",
   "nbconvert_exporter": "python",
   "pygments_lexer": "ipython3",
   "version": "3.6.5"
  }
 },
 "nbformat": 4,
 "nbformat_minor": 2
}
