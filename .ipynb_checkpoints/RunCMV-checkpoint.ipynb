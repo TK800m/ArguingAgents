{
 "cells": [
  {
   "cell_type": "code",
   "execution_count": 1,
   "metadata": {},
   "outputs": [],
   "source": [
    "from CMVscraper_script_delta import *\n",
    "import pandas as pd\n",
    "my_data= []\n",
    "\n",
    "#OPname, OPtxt, CommentText, commentName, URL, TOPIC, deltalink, deltabot= search(\"people\")\n",
    "\n",
    "\n"
   ]
  },
  {
   "cell_type": "code",
   "execution_count": 2,
   "metadata": {},
   "outputs": [
    {
     "name": "stdout",
     "output_type": "stream",
     "text": [
      "0) found a delta in: https://old.reddit.com/r/changemyview/comments/9q3yfp/cmv_the_minimum_wage_should_be_directly_attached/\n",
      "1) no delta found in: CMV: The United States Should Switch To The Metric System\n",
      "2) no delta found in: CMV: I believe that a Bachelor's Degree for office type positions are simply to weed out the large amount of candidates and that it isn't practical since you can simply train on the job.\n",
      "3) no delta found in: CMV: My Mental Health and Physical Health is not as Important as my Grades\n",
      "4) no delta found in: CMV: Hybrid and Electric cars are not eco friendly and are far more expensive than an ICE car\n",
      "5) no delta found in: CMV: Teachers/Young Students- In Many Cases, It's Not Rape, It's Just a Sexual Relationship\n",
      "6) found a delta in: https://old.reddit.com/r/changemyview/comments/9q4mhj/cmv_tipping_culture_is_bad_and_workers_should/\n",
      "7) no delta found in: CMV: Internet is being destroyed by corporate interests\n",
      "8) no delta found in: CMV: The Israel/Palestine conflict can no longer be solved peacefully.\n",
      "9) no delta found in: CMV: Trans participation in sports often has an unfair advantage over other competitors\n",
      "10) no delta found in: CMV: Keep Halloween out of the cultural appropriation discussion.\n",
      "11) no delta found in: CMV: As humans, we must conform to a certain extent to society's values because we are programmed to do so.\n",
      "12) found a delta in: https://old.reddit.com/r/changemyview/comments/9q872b/cmv_the_minimum_wage_should_be_abolished/\n",
      "13) no delta found in: CMV: Camus' Myth of Sisyphus Anti-Suicide argument isn't convincing nor coherent\n",
      "14) found a delta in: https://old.reddit.com/r/changemyview/comments/9q6kof/cmv_those_that_spread_misinformation_about_the/\n",
      "15) no delta found in: CMV: Individual freedoms should be prioritized over social equality\n",
      "16) no delta found in: CMV: Mega threads are not a good place for any type of discussion\n",
      "17) no delta found in: CMV: Victimless Crimes Shouldn't Be Illegal\n",
      "18) no delta found in: CMV: Worrying about things that don’t concern you directly.\n",
      "19) found a delta in: https://old.reddit.com/r/changemyview/comments/9qavxk/cmv_making_sexual_assault_and_domestic_violence/\n",
      "20) no delta found in: CMV: The dominant worldview that the universe and human life is meaningless is a harm to culture and thereby to society.\n",
      "21) no delta found in: CMV: The US standardization of automatic transmissions over manuals as a superior method is like the way the rest of the world uses the metric system while the US uses their own weird custom system.\n",
      "22) no delta found in: CMV: For people who have no cultural, historical or legal connections with states involved in the slave trade, the use of the word n----r is permissible\n",
      "23) no delta found in: CMV: Income Disparity In America Is A Big Problem And Needs To Be Fixed\n",
      "24) no delta found in: CMV: Income Disparity In America Is A Big Problem And Needs To Be Fixed\n",
      "25) no delta found in: CMV: I am going to witness the Climate Apocalpyse and the end of humanity.\n",
      "26) no delta found in: CMV: I don't understand the fuss about \"Male Privilege\"\n",
      "27) no delta found in: CMV: I do not think that abortion before the beginning of the third trimester (30 week) is immoral.\n",
      "28) found a delta in: https://old.reddit.com/r/changemyview/comments/9q8mm3/cmv_current_us_campaign_finance_laws_basically/\n",
      "29) no delta found in: CMV: The Japanese model of extremely low immigration, low natality rates, and huge burden on the working population is the best way forward for the developed world.\n",
      "30) found a delta in: https://old.reddit.com/r/changemyview/comments/9q9b2u/cmv_in_the_eyes_of_the_law_the_freedom_of/\n",
      "31) no delta found in: CMV: Not only are minorities in the U.S not oppressed today, buy have more governmentally instantiated privileges than others.\n",
      "32) found a delta in: https://old.reddit.com/r/changemyview/comments/9q6hkb/cmv_the_mpaa_should_not_have_any_authority_over/\n",
      "33) no delta found in: CMV: Sleeping at 12-1 AM (basically ''late'') is better than sleeping at a conventional time (for me at least, can't speak for others)\n",
      "34) found a delta in: https://old.reddit.com/r/changemyview/comments/9pzxe9/cmv_affirmative_action_should_not_be_a_thing_at/\n",
      "35) no delta found in: CMV: Conservatives and Libertarians adore the Electoral College precisely because they know full well that they don’t represent the views of a majority of Americans.\n",
      "36) found a delta in: https://old.reddit.com/r/changemyview/comments/9pyolh/cmv_shelby_v_holder_is_a_bigger_example_of/\n",
      "37) no delta found in: CMV: Getting a decent dye job, specifically blonde, should not be so expensive\n",
      "38) no delta found in: CMV: I think the Israel and Palestine conflict can be solved, but relays only if Palestine wants peace\n",
      "39) no delta found in: CMV: The free market works in most cases, health care is not one of them.\n",
      "40) no delta found in: CMV:women that get treated like shit by hookups shouldn’t be surprised\n",
      "41) found a delta in: https://old.reddit.com/r/changemyview/comments/9q5ril/cmv_it_shouldnt_be_a_mental_disorder_to_play/\n",
      "42) no delta found in: CMV: Identifying someone because of their clothes related to their race and where they grow up is not racism, it is character assessment\n",
      "43) found a delta in: https://old.reddit.com/r/changemyview/comments/9pkcih/cmv_the_pledge_of_allegiance_is_scary_and_stupid/\n",
      "44) no delta found in: CMV: The informed consent model is the best way of helping transgender people\n",
      "45) no delta found in: CMV: Civilian Deaths from the use of chemical weapons are no more or less morally abhorrent than civilian deaths from the use of conventional explosive/incendiary weapons.\n",
      "46) no delta found in: CMV: America has always looked the other way regarding Saudi Arabia's atrocities and Trump is the only president who has been honest about the reason\n",
      "47) found a delta in: https://old.reddit.com/r/changemyview/comments/9pv90g/cmv_cabbage_is_superior_to_lettuce/\n",
      "48) no delta found in: CMV: National Treasure is an amazing movie and a national treasure of it's own.\n",
      "49) no delta found in: CMV: National Treasure is an amazing movie and a national treasure of it's own.\n"
     ]
    }
   ],
   "source": [
    "my_manual_data = makeDF(range(0,50,1))"
   ]
  },
  {
   "cell_type": "code",
   "execution_count": 21,
   "metadata": {},
   "outputs": [
    {
     "data": {
      "text/plain": [
       "\"Wages and the cost of living have changed substantially due to the cultural expectation of two wage earners. While it would be great to move back toward single earners supporting a family, I don't see how this can be achieved by raising the minimum wage.\\nLow level jobs demand higher skill levels because minimum wage regulations force them to demand more productivity per worker rather than potentially hire two workers each at half the wage, or take a chance on a single less skilled worker at a lower cost - they are regulated out of being able to take a chance or hire a lower productivity less experienced worker.\\n\\nSmall businesses are started because people want to support their families and friends' families by employing them in a profitable venture, and they tend to fail for one of two reasons - because walmart moves in nearby and prices them out, or because the business owner is not good at running a business.\\n\\nIf people are starting businesses and operate out of some sense of altruism, that is contributing to their business failing. This idea, in fact, covers both of 'walmart moves in nearby' and 'the business owner is not good at running a business' - smaller business can thrive in niches providing better service or more specialised services than massive 'one-size' providers like Walmart. If an independent provider is trying to operate in an identical space to Walmart or McDonalds, they are, by definition, not good at running a business.\\nIndependants might pay higher on average for whatever reason, but the wage increase you are proposing would still impact them massively - the difference between the minimum wage and a 'living' wage would almost certainly more than cover the difference between the current minimum wage and whatever modest increase on that independents currently provide within a similar market segment. If an independant is able to pay enough over minimum wage that they are paying a 'living' wage currently and succeed, they are probably insanely successful, or not actually operating in the same market segment as one of the large chains.\\n\""
      ]
     },
     "execution_count": 21,
     "metadata": {},
     "output_type": "execute_result"
    }
   ],
   "source": [
    "my_manual_data[0][4][0]\n",
    "#[CommentText, TOPIC,OPtxt,CommentText, deltapost]"
   ]
  },
  {
   "cell_type": "code",
   "execution_count": 46,
   "metadata": {},
   "outputs": [
    {
     "name": "stdout",
     "output_type": "stream",
     "text": [
      "13\n",
      "[\"Cabbage on the other hand gets bitter fast and you can't tell by looking.I've never had this problem. Then again, I have noticed that I taste bitter foods differently than most other people, but in a weird way - for example, grapefruit isn't bitter at all but coffee is disgustingly bitter to me. On the other hand, I've never had store-bought grapefruit since grapefruit trees are very common where I used to live.I could go into a discussion about harvest schedules. If you're gardening farming lettuce vs. cabbage, cabbage is much more forgiving whereas lettuce must be harvested before it bolts otherwise it will be super, incredibly bitter. However, this argument probably doesn't apply to most people who just get their produce from the grocery store. Perhaps our disagreement about what's more bitter has more to do with whether it's store bought vs. freshly picked? I guess there's no way for me to tell how a particular person would perceive the bitterness of a vegetable (after all, I'm one of those people who likes Cilantro and can't taste what others perceive as a soapy flavor), so I'll have to award a !delta for this.\"]\n"
     ]
    }
   ],
   "source": [
    "\n",
    "\n",
    "def clean_up(my_manual_data):\n",
    "    ntops = len(my_manual_data)\n",
    "    for i in range(ntops):\n",
    "        for j in range(len(my_manual_data[i])):\n",
    "            if my_manual_data[i][j]=='':\n",
    "                print(stri(i)+\" has empty dpost at \"+ str(j))\n",
    "            else:\n",
    "                line = str(my_manual_data[i][j])\n",
    "                line = line.replace('\\\\n','')\n",
    "                line = line.replace('//','')\n",
    "                line = line.replace('/',' ')\n",
    "                #print(line)\n",
    "                my_manual_data[i][j] = line\n",
    "    return(my_manual_data)\n",
    "\n",
    "my_data = clean_up(my_manual_data)\n",
    "print(my_data[12][4][:])"
   ]
  },
  {
   "cell_type": "code",
   "execution_count": null,
   "metadata": {},
   "outputs": [],
   "source": [
    "arr =[13,16,18,19,33,37,38,44,48,49,50,54,57,60,61,62,65,66,68,70,72,75,76,77,78,79,85,86]\n"
   ]
  },
  {
   "cell_type": "code",
   "execution_count": null,
   "metadata": {},
   "outputs": [],
   "source": [
    "print(deltaNames[1])\n",
    "print(deltaComments[1])"
   ]
  },
  {
   "cell_type": "code",
   "execution_count": null,
   "metadata": {},
   "outputs": [],
   "source": [
    "OPname, OPtxt, CommentText, commentName, URL, TOPIC, deltalink, deltabot= urlSearch(186)\n",
    "print(TOPIC)\n",
    "print(URL)"
   ]
  },
  {
   "cell_type": "code",
   "execution_count": null,
   "metadata": {},
   "outputs": [],
   "source": [
    "#OPtext, CommentText, TOPIC, deltaText\n",
    "def makeDF(post_range, filename):\n",
    "    my_data_log = []\n",
    "    for num in post_range:\n",
    "        if num != 20:\n",
    "            OPname, OPtxt, CommentText, commentName, URL, TOPIC, deltalink, deltabot= urlSearch(num)\n",
    "            if deltalink != None and len(deltalink) >0:\n",
    "                print(str(num) + \") found a delta in: \"+ URL)\n",
    "                deltaNames, deltapost, delta_urls = getDeltaNames(deltalink, deltabot, CommentText)\n",
    "                #print(deltaComments)\n",
    "                #deltapost = find_delta_txt(deltaNames, deltaComments, CommentText, commentName)\n",
    "                easyOP = flesch_ease_OP(OPtxt)\n",
    "                \n",
    "                easyComm = []\n",
    "                for x in range(len(deltapost)):\n",
    "                    easyComm.append(flesch_ease_comm(CommentText))\n",
    "                my_data_log.append([OPname, OPtxt, commentName,CommentText,  URL, TOPIC, deltalink, deltaNames, deltapost, easyOP, easyComm])\n",
    "            else:\n",
    "                  print(str(num) + \") no delta found in: \"+ TOPIC)\n",
    "    filename= 'cmv_'+str(filename)+'.csv'\n",
    "    pd.DataFrame(my_data_log, columns=['op_name','op_text','comment_name', 'comment_text', 'url', 'topic', 'delta_link', 'delta_names', 'delta_text', 'op_easy_score', 'delta_easy_score']).to_csv(filename)\n",
    "    return(my_data_log)"
   ]
  }
 ],
 "metadata": {
  "kernelspec": {
   "display_name": "Python 3",
   "language": "python",
   "name": "python3"
  },
  "language_info": {
   "codemirror_mode": {
    "name": "ipython",
    "version": 3
   },
   "file_extension": ".py",
   "mimetype": "text/x-python",
   "name": "python",
   "nbconvert_exporter": "python",
   "pygments_lexer": "ipython3",
   "version": "3.6.5"
  }
 },
 "nbformat": 4,
 "nbformat_minor": 2
}
