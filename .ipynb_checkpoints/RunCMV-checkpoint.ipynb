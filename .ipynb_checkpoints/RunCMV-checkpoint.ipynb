{
 "cells": [
  {
   "cell_type": "code",
   "execution_count": 2,
   "metadata": {},
   "outputs": [],
   "source": [
    "from CMVscraper_script_delta import *\n",
    "#import pandas as pd\n",
    "#OPname, OPtxt, CommentText, commentName, URL, TOPIC, deltalink, deltabot= search(\"people\")\n",
    "\n",
    "\n"
   ]
  },
  {
   "cell_type": "code",
   "execution_count": 3,
   "metadata": {},
   "outputs": [
    {
     "name": "stdout",
     "output_type": "stream",
     "text": [
      "0) found a delta in: https://old.reddit.com/r/changemyview/comments/9q3yfp/cmv_the_minimum_wage_should_be_directly_attached/\n",
      "1) no delta found in: CMV: The United States Should Switch To The Metric System\n",
      "2) no delta found in: CMV: I believe that a Bachelor's Degree for office type positions are simply to weed out the large amount of candidates and that it isn't practical since you can simply train on the job.\n",
      "3) no delta found in: CMV: My Mental Health and Physical Health is not as Important as my Grades\n",
      "4) no delta found in: CMV: Hybrid and Electric cars are not eco friendly and are far more expensive than an ICE car\n",
      "5) found a delta in: https://old.reddit.com/r/changemyview/comments/9q4mhj/cmv_tipping_culture_is_bad_and_workers_should/\n",
      "6) no delta found in: CMV: Internet is being destroyed by corporate interests\n",
      "7) no delta found in: CMV: Keep Halloween out of the cultural appropriation discussion.\n",
      "8) no delta found in: CMV: Teachers/Young Students- In Many Cases, It's Not Rape, It's Just a Sexual Relationship\n",
      "9) no delta found in: CMV: The Israel/Palestine conflict can no longer be solved peacefully.\n",
      "10) no delta found in: CMV: Trans participation in sports often has an unfair advantage over other competitors\n",
      "11) no delta found in: CMV: As humans, we must conform to a certain extent to society's values because we are programmed to do so.\n",
      "12) found a delta in: https://old.reddit.com/r/changemyview/comments/9q872b/cmv_the_minimum_wage_should_be_abolished/\n",
      "13) no delta found in: CMV: Camus' Myth of Sisyphus Anti-Suicide argument isn't convincing nor coherent\n",
      "14) found a delta in: https://old.reddit.com/r/changemyview/comments/9q6kof/cmv_those_that_spread_misinformation_about_the/\n"
     ]
    }
   ],
   "source": [
    "my_manual_data = makeDF(range(0,15,1))\n",
    "#my_data = clean_up(my_manual_data)"
   ]
  },
  {
   "cell_type": "code",
   "execution_count": 4,
   "metadata": {},
   "outputs": [
    {
     "name": "stdout",
     "output_type": "stream",
     "text": [
      " very mild benefits of price transparency really do pale in comparison to the literally millions of waiters bartenders etc. who appreciate the risk and the monetary rewards that come with the job.\n",
      "Second, consumers seem to really appreciate the immeasurably better service you get from the tipping-incentivized culture in the U.S. in cheaper restaurants — I.e. even poor people can get great service at restaurants — compared to anti-tip places, Europe, Australia, Asia, etc.  Note that expensive restaurants will generally have better service regardless.\n",
      "This last point is especially relevant to Australia, where — if you’re poor, like many in the Aboriginal population — you are effectively shut out of restaurants, since they’re all relatively expensive.\n",
      "Finally, you’re not considering the type of person willing to work in tipped jobs vs. non-tipped, wage-guaranteed jobs. Put very simply: if you try to prevent paying people an “unfair” amount via policy, you’ll supplant poorer workers with better-off workers (in general\n"
     ]
    }
   ],
   "source": [
    "#print(len(my_data))\n",
    "for i in len(my_manual_data):\n",
    "    for j in len(my_manual_data[i][4]):\n",
    "        print(my_manual_data[i][4][j]+ '\\n\\n')\n",
    "#print(\"\\n\"+ my_data[1][4][1])"
   ]
  },
  {
   "cell_type": "code",
   "execution_count": null,
   "metadata": {},
   "outputs": [],
   "source": [
    "def clean_up(my_manual_data):\n",
    "    ntops = len(my_manual_data)\n",
    "    for i in range(ntops):\n",
    "        for j in range(len(my_manual_data[i])):\n",
    "            if my_manual_data[i][j]=='':\n",
    "                print(stri(i)+\" has empty dpost at \"+ str(j))\n",
    "            else:\n",
    "                line = str(my_manual_data[i][j])\n",
    "                line = line.replace('\\\\n','')\n",
    "                line = line.replace('//','')\n",
    "                line = line.replace('/',' ')\n",
    "                #print(line)\n",
    "                my_manual_data[i][j] = line\n",
    "    return(my_manual_data)\n",
    "my_data = clean_up(my_manual_data)\n",
    "print(len(my_data))\n",
    "my_data[0][4][2]\n",
    "#[CommentText, TOPIC,OPtxt,CommentText, deltapost]"
   ]
  },
  {
   "cell_type": "code",
   "execution_count": null,
   "metadata": {},
   "outputs": [],
   "source": [
    "data = my_manual_data\n",
    "ntops = len(data)\n",
    "for i in range(ntops):\n",
    "    for j in range(len(data[i])):\n",
    "        if data[i][j]=='':\n",
    "            print(stri(i)+\" has empty dpost at \"+ str(j))\n",
    "        else:\n",
    "            line = str(data[i][j])\n",
    "            line = line.replace('\\\\n','')\n",
    "            line = line.replace('//','')\n",
    "            line = line.replace('/',' ')\n",
    "            #print(line)\n",
    "            data[i][j] = line\n",
    "\n",
    "print(ntops)\n",
    "print(data[12][4][1:-1])"
   ]
  },
  {
   "cell_type": "code",
   "execution_count": null,
   "metadata": {},
   "outputs": [],
   "source": [
    "arr =[13,16,18,19,33,37,38,44,48,49,50,54,57,60,61,62,65,66,68,70,72,75,76,77,78,79,85,86]\n"
   ]
  },
  {
   "cell_type": "code",
   "execution_count": null,
   "metadata": {},
   "outputs": [],
   "source": [
    "print(deltaNames[1])\n",
    "print(deltaComments[1])"
   ]
  },
  {
   "cell_type": "code",
   "execution_count": null,
   "metadata": {},
   "outputs": [],
   "source": [
    "OPname, OPtxt, CommentText, commentName, URL, TOPIC, deltalink, deltabot= urlSearch(186)\n",
    "print(TOPIC)\n",
    "print(URL)"
   ]
  },
  {
   "cell_type": "code",
   "execution_count": null,
   "metadata": {},
   "outputs": [],
   "source": [
    "#OPtext, CommentText, TOPIC, deltaText\n",
    "def makeDF(post_range, filename):\n",
    "    my_data_log = []\n",
    "    for num in post_range:\n",
    "        if num != 20:\n",
    "            OPname, OPtxt, CommentText, commentName, URL, TOPIC, deltalink, deltabot= urlSearch(num)\n",
    "            if deltalink != None and len(deltalink) >0:\n",
    "                print(str(num) + \") found a delta in: \"+ URL)\n",
    "                deltaNames, deltapost, delta_urls = getDeltaNames(deltalink, deltabot, CommentText)\n",
    "                #print(deltaComments)\n",
    "                #deltapost = find_delta_txt(deltaNames, deltaComments, CommentText, commentName)\n",
    "                easyOP = flesch_ease_OP(OPtxt)\n",
    "                \n",
    "                easyComm = []\n",
    "                for x in range(len(deltapost)):\n",
    "                    easyComm.append(flesch_ease_comm(CommentText))\n",
    "                my_data_log.append([OPname, OPtxt, commentName,CommentText,  URL, TOPIC, deltalink, deltaNames, deltapost, easyOP, easyComm])\n",
    "            else:\n",
    "                  print(str(num) + \") no delta found in: \"+ TOPIC)\n",
    "    filename= 'cmv_'+str(filename)+'.csv'\n",
    "    pd.DataFrame(my_data_log, columns=['op_name','op_text','comment_name', 'comment_text', 'url', 'topic', 'delta_link', 'delta_names', 'delta_text', 'op_easy_score', 'delta_easy_score']).to_csv(filename)\n",
    "    return(my_data_log)"
   ]
  }
 ],
 "metadata": {
  "kernelspec": {
   "display_name": "Python 3",
   "language": "python",
   "name": "python3"
  },
  "language_info": {
   "codemirror_mode": {
    "name": "ipython",
    "version": 3
   },
   "file_extension": ".py",
   "mimetype": "text/x-python",
   "name": "python",
   "nbconvert_exporter": "python",
   "pygments_lexer": "ipython3",
   "version": "3.6.5"
  }
 },
 "nbformat": 4,
 "nbformat_minor": 2
}
