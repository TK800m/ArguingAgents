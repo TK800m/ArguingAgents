{
 "cells": [
  {
   "cell_type": "code",
   "execution_count": 7,
   "metadata": {},
   "outputs": [],
   "source": [
    "from CMVscraper_script_delta import *\n",
    "import pandas as pd\n",
    "\n",
    "#OPname, OPtxt, CommentText, commentName, URL, TOPIC, deltalink, deltabot= search(\"people\")\n",
    "\n",
    "\n",
    "def makeDF(post_range):\n",
    "    my_data_log = []\n",
    "    for num in post_range:\n",
    "        print(num)\n",
    "        if num != 138:\n",
    "            OPname, OPtxt, CommentText, commentName, URL, TOPIC, deltalink, deltabot= urlSearch(num)\n",
    "            if deltalink != None and len(deltalink) >0:\n",
    "                print(\"found a delta in: \"+ URL)\n",
    "                deltaNames, deltaComments = getDeltaNames(deltalink, deltabot, CommentText)\n",
    "                deltapost = find_delta_txt(deltaNames, deltaComments, CommentText, commentName)\n",
    "                easyOP = flesch_ease_OP(OPtxt)\n",
    "                easyComm = []\n",
    "                for x in range(len(deltapost)):\n",
    "                    easyComm.append(flesch_ease_comm(CommentText))\n",
    "                my_data_log.append([OPname, OPtxt, commentName,CommentText,  URL, TOPIC, deltalink, deltaNames, deltapost, easyOP, easyComm])\n",
    "\n",
    "    filename= 'cmv_database100.csv'\n",
    "    pd.DataFrame(my_data_log, columns=['op_name','op_text','comment_name', 'comment_text', 'url', 'topic', 'delta_link', 'delta_names', 'delta_text', 'op_easy_score', 'delta_easy_score']).to_csv(filename)\n",
    "    return(my_data_log)"
   ]
  },
  {
   "cell_type": "code",
   "execution_count": 9,
   "metadata": {},
   "outputs": [
    {
     "name": "stdout",
     "output_type": "stream",
     "text": [
      "75\n",
      "76\n",
      "77\n",
      "78\n",
      "79\n",
      "80\n",
      "81\n",
      "found a delta in: https://old.reddit.com/r/changemyview/comments/9oscjg/cmv_auto_insurance_companies_shouldnt_use_age_or/\n",
      "82\n",
      "found a delta in: https://old.reddit.com/r/changemyview/comments/9p1nvc/cmv_there_is_absolutely_no_point_whatsoever_in/\n",
      "83\n",
      "84\n",
      "85\n",
      "86\n",
      "found a delta in: https://old.reddit.com/r/changemyview/comments/9ot0qk/cmv_bagels_with_toppings_fillings_should_always/\n",
      "87\n",
      "88\n",
      "89\n",
      "90\n",
      "found a delta in: https://old.reddit.com/r/changemyview/comments/9or70x/cmv_being_comfortable_talking_about_different/\n",
      "91\n",
      "found a delta in: https://old.reddit.com/r/changemyview/comments/9om3j8/cmv_it_is_unreasonable_to_expect_consumers_to/\n",
      "92\n",
      "found a delta in: https://old.reddit.com/r/changemyview/comments/9opwtg/cmv_the_metoo_movement_makes_men_afraid_and_can/\n",
      "93\n",
      "94\n",
      "95\n",
      "96\n",
      "97\n",
      "98\n",
      "99\n",
      "100\n",
      "found a delta in: https://old.reddit.com/r/changemyview/comments/9ojgeb/cmv_saying_god_did_it_should_not_be_considered_an/\n",
      "101\n",
      "found a delta in: https://old.reddit.com/r/changemyview/comments/9oramy/cmv_the_metoo_movement_does_more_harm_to/\n",
      "102\n",
      "103\n",
      "104\n",
      "found a delta in: https://old.reddit.com/r/changemyview/comments/9oon4r/cmv_in_terms_of_esports_ea_should_be_using_pro/\n",
      "105\n",
      "106\n",
      "107\n",
      "108\n",
      "109\n",
      "110\n",
      "found a delta in: https://old.reddit.com/r/changemyview/comments/9oftut/cmv_diamonds_are_not_timeless_symbols_of_love_and/\n",
      "111\n",
      "found a delta in: https://old.reddit.com/r/changemyview/comments/9ofxyg/cmv_the_only_things_necessary_to_build_a_moral/\n",
      "112\n",
      "found a delta in: https://old.reddit.com/r/changemyview/comments/9oi6ik/cmv_the_republican_partys_position_on_endangered/\n",
      "113\n",
      "114\n",
      "115\n",
      "116\n",
      "117\n",
      "found a delta in: https://old.reddit.com/r/changemyview/comments/9oss4t/cmv_i_dont_care_about_bigotry_that_doesnt_affect/\n",
      "118\n",
      "found a delta in: https://old.reddit.com/r/changemyview/comments/9oq0cv/cmv_boxing_nascar_cycling_and_various_other/\n",
      "119\n",
      "found a delta in: https://old.reddit.com/r/changemyview/comments/9oetyp/cmv_all_drugs_should_be_legalized_xpost_from/\n",
      "120\n",
      "found a delta in: https://old.reddit.com/r/changemyview/comments/9os9gs/cmv_rapists_who_arent_convicted_deserve_to_have/\n",
      "121\n",
      "122\n",
      "found a delta in: https://old.reddit.com/r/changemyview/comments/9opkkn/cmv_i_should_be_able_to_refuse_identifying_with/\n",
      "123\n",
      "124\n",
      "125\n",
      "found a delta in: https://old.reddit.com/r/changemyview/comments/9onop4/cmv_election_day_should_not_be_a_holiday/\n",
      "126\n",
      "found a delta in: https://old.reddit.com/r/changemyview/comments/9oe4m6/cmv_elizabeth_warren_should_not_identify_as/\n",
      "127\n",
      "found a delta in: https://old.reddit.com/r/changemyview/comments/9o22l4/cmv_voting_should_not_be_mandatory_choosing_not/\n",
      "128\n",
      "found a delta in: https://old.reddit.com/r/changemyview/comments/9oeiuf/cmv_bicameralism_isnt_a_justified_model/\n",
      "129\n",
      "found a delta in: https://old.reddit.com/r/changemyview/comments/9or31z/cmv_historically_speaking_african_americans_are/\n",
      "130\n",
      "found a delta in: https://old.reddit.com/r/changemyview/comments/9ohuvp/cmv_opening_up_a_relatively_full_cooler_often/\n",
      "131\n",
      "found a delta in: https://old.reddit.com/r/changemyview/comments/9ogmfx/cmv_a_unified_eu_would_be_very_powerful_if_not_a/\n",
      "132\n",
      "133\n",
      "134\n",
      "135\n",
      "136\n",
      "found a delta in: https://old.reddit.com/r/changemyview/comments/9o7ap6/cmv_i_dont_understand_why_prostitution_isnt_legal/\n",
      "137\n"
     ]
    },
    {
     "ename": "AttributeError",
     "evalue": "'NoneType' object has no attribute 'text'",
     "output_type": "error",
     "traceback": [
      "\u001b[1;31m---------------------------------------------------------------------------\u001b[0m",
      "\u001b[1;31mAttributeError\u001b[0m                            Traceback (most recent call last)",
      "\u001b[1;32m<ipython-input-9-fd7153ac3e3a>\u001b[0m in \u001b[0;36m<module>\u001b[1;34m()\u001b[0m\n\u001b[1;32m----> 1\u001b[1;33m \u001b[0mmy_data\u001b[0m \u001b[1;33m=\u001b[0m \u001b[0mmakeDF\u001b[0m\u001b[1;33m(\u001b[0m\u001b[0mrange\u001b[0m\u001b[1;33m(\u001b[0m\u001b[1;36m75\u001b[0m\u001b[1;33m,\u001b[0m \u001b[1;36m200\u001b[0m\u001b[1;33m,\u001b[0m \u001b[1;36m1\u001b[0m\u001b[1;33m)\u001b[0m\u001b[1;33m)\u001b[0m\u001b[1;33m\u001b[0m\u001b[0m\n\u001b[0m",
      "\u001b[1;32m<ipython-input-7-e27b3363a011>\u001b[0m in \u001b[0;36mmakeDF\u001b[1;34m(post_range)\u001b[0m\n\u001b[0;32m      9\u001b[0m     \u001b[1;32mfor\u001b[0m \u001b[0mnum\u001b[0m \u001b[1;32min\u001b[0m \u001b[0mpost_range\u001b[0m\u001b[1;33m:\u001b[0m\u001b[1;33m\u001b[0m\u001b[0m\n\u001b[0;32m     10\u001b[0m         \u001b[0mprint\u001b[0m\u001b[1;33m(\u001b[0m\u001b[0mnum\u001b[0m\u001b[1;33m)\u001b[0m\u001b[1;33m\u001b[0m\u001b[0m\n\u001b[1;32m---> 11\u001b[1;33m         \u001b[0mOPname\u001b[0m\u001b[1;33m,\u001b[0m \u001b[0mOPtxt\u001b[0m\u001b[1;33m,\u001b[0m \u001b[0mCommentText\u001b[0m\u001b[1;33m,\u001b[0m \u001b[0mcommentName\u001b[0m\u001b[1;33m,\u001b[0m \u001b[0mURL\u001b[0m\u001b[1;33m,\u001b[0m \u001b[0mTOPIC\u001b[0m\u001b[1;33m,\u001b[0m \u001b[0mdeltalink\u001b[0m\u001b[1;33m,\u001b[0m \u001b[0mdeltabot\u001b[0m\u001b[1;33m=\u001b[0m \u001b[0murlSearch\u001b[0m\u001b[1;33m(\u001b[0m\u001b[0mnum\u001b[0m\u001b[1;33m)\u001b[0m\u001b[1;33m\u001b[0m\u001b[0m\n\u001b[0m\u001b[0;32m     12\u001b[0m         \u001b[1;32mif\u001b[0m \u001b[0mdeltalink\u001b[0m \u001b[1;33m!=\u001b[0m \u001b[1;32mNone\u001b[0m \u001b[1;32mand\u001b[0m \u001b[0mlen\u001b[0m\u001b[1;33m(\u001b[0m\u001b[0mdeltalink\u001b[0m\u001b[1;33m)\u001b[0m \u001b[1;33m>\u001b[0m\u001b[1;36m0\u001b[0m\u001b[1;33m:\u001b[0m\u001b[1;33m\u001b[0m\u001b[0m\n\u001b[0;32m     13\u001b[0m             \u001b[0mprint\u001b[0m\u001b[1;33m(\u001b[0m\u001b[1;34m\"found a delta in: \"\u001b[0m\u001b[1;33m+\u001b[0m \u001b[0mURL\u001b[0m\u001b[1;33m)\u001b[0m\u001b[1;33m\u001b[0m\u001b[0m\n",
      "\u001b[1;32m~\\Documents\\GitHub\\ArguingAgents\\CMVscraper_script_delta.py\u001b[0m in \u001b[0;36murlSearch\u001b[1;34m(query)\u001b[0m\n\u001b[0;32m     87\u001b[0m     \u001b[0mTOPIC\u001b[0m \u001b[1;33m=\u001b[0m \u001b[0mtopics\u001b[0m\u001b[1;33m[\u001b[0m\u001b[0mitem\u001b[0m\u001b[1;33m]\u001b[0m\u001b[1;33m\u001b[0m\u001b[0m\n\u001b[0;32m     88\u001b[0m     \u001b[0mOPtxt\u001b[0m\u001b[1;33m,\u001b[0m \u001b[0mOPwords\u001b[0m\u001b[1;33m,\u001b[0m \u001b[0mOPname\u001b[0m \u001b[1;33m=\u001b[0m \u001b[0mgetOPtext\u001b[0m\u001b[1;33m(\u001b[0m\u001b[0mURL\u001b[0m\u001b[1;33m)\u001b[0m\u001b[1;33m\u001b[0m\u001b[0m\n\u001b[1;32m---> 89\u001b[1;33m     \u001b[0mcomments\u001b[0m\u001b[1;33m,\u001b[0m \u001b[0mcommentTXT\u001b[0m\u001b[1;33m,\u001b[0m \u001b[0mNames\u001b[0m\u001b[1;33m,\u001b[0m \u001b[0mdeltalink\u001b[0m\u001b[1;33m,\u001b[0m \u001b[0mdeltabot\u001b[0m \u001b[1;33m=\u001b[0m \u001b[0mgetComments\u001b[0m\u001b[1;33m(\u001b[0m\u001b[0mURL\u001b[0m\u001b[1;33m)\u001b[0m\u001b[1;33m\u001b[0m\u001b[0m\n\u001b[0m\u001b[0;32m     90\u001b[0m     \u001b[1;32mreturn\u001b[0m\u001b[1;33m(\u001b[0m\u001b[0mOPname\u001b[0m\u001b[1;33m,\u001b[0m \u001b[0mOPtxt\u001b[0m\u001b[1;33m,\u001b[0m \u001b[0mcommentTXT\u001b[0m\u001b[1;33m,\u001b[0m \u001b[0mNames\u001b[0m\u001b[1;33m,\u001b[0m \u001b[0mURL\u001b[0m\u001b[1;33m,\u001b[0m \u001b[0mTOPIC\u001b[0m\u001b[1;33m,\u001b[0m \u001b[0mdeltalink\u001b[0m\u001b[1;33m,\u001b[0m \u001b[0mdeltabot\u001b[0m\u001b[1;33m)\u001b[0m\u001b[1;33m\u001b[0m\u001b[0m\n\u001b[0;32m     91\u001b[0m \u001b[1;33m\u001b[0m\u001b[0m\n",
      "\u001b[1;32m~\\Documents\\GitHub\\ArguingAgents\\CMVscraper_script_delta.py\u001b[0m in \u001b[0;36mgetComments\u001b[1;34m(url)\u001b[0m\n\u001b[0;32m     57\u001b[0m         \u001b[1;32mif\u001b[0m \u001b[0mcomment\u001b[0m\u001b[1;33m.\u001b[0m\u001b[0mfind\u001b[0m\u001b[1;33m(\u001b[0m\u001b[1;34m'form'\u001b[0m\u001b[1;33m)\u001b[0m\u001b[1;33m:\u001b[0m\u001b[1;33m\u001b[0m\u001b[0m\n\u001b[0;32m     58\u001b[0m             \u001b[0mlink\u001b[0m \u001b[1;33m=\u001b[0m \u001b[0mcomment\u001b[0m\u001b[1;33m.\u001b[0m\u001b[0mfind\u001b[0m\u001b[1;33m(\u001b[0m\u001b[1;34m'a'\u001b[0m\u001b[1;33m,\u001b[0m\u001b[0mattrs\u001b[0m\u001b[1;33m=\u001b[0m\u001b[1;33m{\u001b[0m\u001b[1;34m'class'\u001b[0m\u001b[1;33m:\u001b[0m\u001b[1;34m'bylink'\u001b[0m\u001b[1;33m}\u001b[0m\u001b[1;33m)\u001b[0m\u001b[1;33m[\u001b[0m\u001b[1;34m'href'\u001b[0m\u001b[1;33m]\u001b[0m\u001b[1;33m\u001b[0m\u001b[0m\n\u001b[1;32m---> 59\u001b[1;33m             \u001b[0mcommenter\u001b[0m \u001b[1;33m=\u001b[0m \u001b[0mcomment\u001b[0m\u001b[1;33m.\u001b[0m\u001b[0mfind\u001b[0m\u001b[1;33m(\u001b[0m\u001b[1;34m'a'\u001b[0m\u001b[1;33m,\u001b[0m\u001b[0mattrs\u001b[0m\u001b[1;33m=\u001b[0m\u001b[1;33m{\u001b[0m\u001b[1;34m'class'\u001b[0m\u001b[1;33m:\u001b[0m\u001b[1;34m'author'\u001b[0m\u001b[1;33m}\u001b[0m\u001b[1;33m)\u001b[0m\u001b[1;33m.\u001b[0m\u001b[0mtext\u001b[0m\u001b[1;33m\u001b[0m\u001b[0m\n\u001b[0m\u001b[0;32m     60\u001b[0m             \u001b[0mcomment_text\u001b[0m \u001b[1;33m=\u001b[0m \u001b[0mcomment\u001b[0m\u001b[1;33m.\u001b[0m\u001b[0mfind\u001b[0m\u001b[1;33m(\u001b[0m\u001b[1;34m'div'\u001b[0m\u001b[1;33m,\u001b[0m\u001b[0mattrs\u001b[0m\u001b[1;33m=\u001b[0m\u001b[1;33m{\u001b[0m\u001b[1;34m'class'\u001b[0m\u001b[1;33m:\u001b[0m\u001b[1;34m'md'\u001b[0m\u001b[1;33m}\u001b[0m\u001b[1;33m)\u001b[0m\u001b[1;33m.\u001b[0m\u001b[0mtext\u001b[0m\u001b[1;33m\u001b[0m\u001b[0m\n\u001b[0;32m     61\u001b[0m             \u001b[0mextracted_comments\u001b[0m\u001b[1;33m.\u001b[0m\u001b[0mappend\u001b[0m\u001b[1;33m(\u001b[0m\u001b[1;33m{\u001b[0m\u001b[1;34m'name'\u001b[0m\u001b[1;33m:\u001b[0m\u001b[0mcommenter\u001b[0m\u001b[1;33m,\u001b[0m\u001b[1;34m'text'\u001b[0m\u001b[1;33m:\u001b[0m\u001b[0mcomment_text\u001b[0m\u001b[1;33m}\u001b[0m\u001b[1;33m)\u001b[0m\u001b[1;33m\u001b[0m\u001b[0m\n",
      "\u001b[1;31mAttributeError\u001b[0m: 'NoneType' object has no attribute 'text'"
     ]
    }
   ],
   "source": [
    "my_data = makeDF(range(75, 200, 1))"
   ]
  },
  {
   "cell_type": "code",
   "execution_count": 5,
   "metadata": {},
   "outputs": [
    {
     "name": "stdout",
     "output_type": "stream",
     "text": [
      "['chadonsunday', '\\u200bFairly self explanatory. I don\\'t particularly care which way it goes on this, but I feel when it comes to insurance rates and protected groups I think it should be all or nothing.My understanding is that auto insurance companies use various markers when determining the rates for those they insure. Currently age and sex are two such markers: a 16-25yo male, for example, would be more expensive to insure compared with a 30-40yo female. They arrive at this conclusion by running the numbers and finding that young males get in more costly accidents more often than older females (or even younger females) and therefore end up costing the insurance company more, so charge them more.I find this rather baffling since age and sex are classes that are federally (E: federally in the broadest sense, but more specific protections exist by state, like ones specifically regarding public accommodations or business establishments; many states have also massively increased the number of protected groups. All this to say that \"federal\" isn\\'t crucial to my view here) protected from discrimination. Charging someone more for the same service (insuring their vehicle) because of their age or sex seems like quite blatant discrimination. Ideally, I think these markers should be removed (and insurers can fall back to the many other non-protected markers they currently use, such as driving records, miles per year, area of residence, etc.) OR all protected classes should be fair game. If insurance companies can crunch the numbers and determine that men are more costly to insure than women, and young people are more costly to insure than older people, surely they could do the same when it comes to race/ethnicity, religion, national origin, sexual orientation, etc. It may turn out, for example, that whites get into more accidents than blacks, and insurance companies could charge them more just like they currently do based on age/sex metrics. Again, I don\\'t particularly care which way this would go, but logical consistency seems to be a bit lacking in the current system.I think this issue is a bit more significant than other frequently discussed examples of discrimination (e.g. the wedding cake for the gay couple) since driving an automobile, while not a right, is much more significant and essential to many people\\'s lives than their ability or non-ability to use any baker they want to get a cake. Also, while insurance companies are private entities, the government requires that you be insured if you want to drive. I think this issue is more akin to similar conversations regarding the ACA and how and why it\\'s unfair (and perhaps discriminatory) for women to have to pay more for health insurance (even though they\\'re more costly to insure).One counterargument that I won\\'t find particularly compelling: differences between the sexes (e.g. testosterone causing more aggressive driving) or ages (e.g. brain development makes you drive better). These arguments are very likely true, but when it comes to discrimination of whole groups the \"why\" is irrelevant to me. In part because I could see how some similar \"why\"s, if studied, could easily be extended to other protected groups: perhaps one ethnic group tends to have a slower reaction time than others; perhaps pregnant women drive more erratically due to hormones; perhaps parents on average get less sleep and sleep deprived people don\\'t drive as well, etc. But more importantly, even if all of these things are true the whole point of not discriminating is that you can\\'t assign certain characteristics or abilities to whole groups of people (many of them numbering in the hundreds of millions or even billions) and then treat every member of that group on that basis even if you have data suggesting those traits are on average more common among members of said group. This is unfair because averages aside you have no way of knowing, just based on the data alone, if individual members of those groups actually have those traits (e.g. it\\'s perfectly possible that a male can be cautious and responsible get through his 16-25 range without so much as a parking ticket while a woman in her 30-40s can reckless and be getting into accidents every other month).TL;DR: What auto insurance companies are doing is essentially a form of profiling, using a couple protected classes as a basis for discrimination. If that\\'s the way they want to go, I don\\'t see why they\\'re just limiting themselves to two when they could profile even more accurately by using all of them. Or, we can acknowledge that they shouldn\\'t be discriminating against protected groups at all and age and sex should stop being markers for insurance rates.Edit: I feel I was a little too careless in my use of legally-charged terminology, and some folks corrected me on that. I\\'ve awarded some partial deltas for that further down. Going forward the only view left to change is my main one: it\\'s fucked up for auto insurance companies, as the providers of a near-essential and legally required product, to be discriminating based on sex and age alone. They either shouldn\\'t be doing that, or all other metrics (religion, race, etc.) should be open for auto-insurance discrimination, too.Y\\'all know what to do. Cheers.', ['DeltaBot', 'MazeRed', 'chadonsunday', 'keanwood', 'chadonsunday', 'Dr_Watson349', 'MazeRed', 'chadonsunday', 'Goldberg31415', 'chadonsunday', 'Gwendywook', 'chadonsunday', 'HoodUnnies', 'chadonsunday', 'HoodUnnies', 'gscjj', 'chadonsunday', '7nkedocye', 'chadonsunday', 'DeltaBot', 'cacheflow', 'zekfen', 'chadonsunday', 'zekfen', 'nokittythatsmypie', 'chadonsunday', 'HeWhoShitsWithPhone', 'chadonsunday', 'DeltaBot'], [\"/u/chadonsunday (OP) has awarded 2 delta(s) in this post.\\nAll comments that earned deltas (from OP or other users) are listed here, in /r/DeltaLog.\\nPlease note that a change of view doesn't necessarily mean a reversal, or that the conversation has ended.\\nDelta\\xa0System\\xa0Explained | Deltaboards\\n\", 'As much as you and I want to believe that everyone is equal and all that. \\nCertain groups are more likely to make an insurance claim/be in an insurance claim. \\nIf girls 18-22 are equally as likely to use their insurance as men 27-30 then they should be charged the same.\\n', 'And you would be okay with \"certain groups\" being extended beyond just age and sex so insurance companies are also basing their rates off of religion, orientation, ethnicity/race, national origin, etc.? \\n', \"Insurance companies already do this though. Sure the don't officially charge on race, religion etc... but they definitely use other measures that could be proxies. Income, education, marital status, address, occupation, credit score, car make, model, year and more. Most likely, any correlation you can find between race and risk can probably be better understood by other factors. \\n\\xa0\\nAlso even if companies could directly use race and religion, I would bet none of them would. Could you imagine if Geico was outed as charging black people or Catholics more? I think they would very quickly find the entire black population and the entire Catholic population unwilling to be their customers. Other companies would swoop in with attack ads stating how they treat everyone fairly. There is essentially no upside for any company to charge based on race or religion.\\n\", 'Apologies - based off that one comment alone it sounds like I\\'m unaware that insurance companies take many other factors (address, grades, driving records, vehicle type, etc.) into account. I did make it rather clear in the OP, though (and in many other comments here) that I\\'m well aware of that. I\\'ve used such things to my advantage in the past. \\nMore to the point, your latter paragraph is exactly what I\\'m trying to get at, here: if insurers were found out to be using race, religion, sexual orientation, etc. (even if they were backed by cold, hard stats) to determine insurance rates, there would be a fucking outrage. Which is why I\\'m baffled that they\\'re allowed to get away with the exact same practice when applied to sex and age. Some things aren\\'t justifiable when it comes to garnering outrage; if your driving record is a mess because you total a car every few years it makes perfect sense that the insurance company would charge you more. Just the fact that you possess a penis, though? Really? That\\'s a justification for charging more? I get that it\\'s statistically backed, but other metrics (race, religion, etc.) could be statistically backed if they were studied (and in some cases they have been, like that perhaps blacks speed more (and more egregiously) than other racial demographics), too. \\nBut yeah, people would throw a fit if the group harmed by what another commetor (who is an auto insurance agent) termed \"determining risk factors\" was a POC group, or female, or gay, etc. The fact that they\\'re just discriminating against young dudes seems to somehow make it okay. I think there should be outrage that they\\'re doing that OR we as a society should acknowledge that this kind of data can be studied for all groups (just as soundly as it is for age and sex), and insurance rates might raise or fall on that basis. Personally I\\'m cool with either one, but it seem to be we need to pick a side. Logical consistency demands it. If insurance can be sexist, it can be racist, too. If insurance can\\'t be racist, it can\\'t be sexist, either. Insurance companies shouldn\\'t be able to say \"well X and Y groups are totally fine to study and discriminate against... but groups A, B, C, and D are totally out of the question.\" They should either study (and insure differently based on that) groups A - Z or they shouldn\\'t study (and insure differently) any of those groups at all. Again, exempting the obvious groups that make sense, like those who have two dozen points on their driving record. \\n', 'As someone who works for a very large auto insurance company, I can tell you we would love to rate on everything. Insurance companies want to segment you to the lowest possible level to give the best rate. We would happily use any single metric we could get our hands on, however many of those are illegal depending on state and country. \\n', 'Yes, I’m not sure if that legal. \\nBut if there is an actual difference in risk, then yes they should pay more. Like they would need to prove that and adjust accordingly. \\nIf a Chinese, Islamic, dude from Dallas, living in San Jose that is 34 is equally risky as a 28 year old White jewish girl is born and raised in Seattle. They should pay the same. \\n', \"Alright. But that's my view; either insurance companies shouldn't use things like age, sex, race, religion, etc., OR they should use all of them. You seem to agree with the latter, so we're more or less of one mind on this topic. \\n\", 'Insurance companies use actuaries that cost them a lot of money to create risk profiles.It is not done like \"well here we have a jewish dude aged 22 so let\\'s charge him extra\" but based on huge amount of historical data.\\n', \"That's a fair point. I have absolutely no idea what the kind of differences in driving would be between, say, races or sexual orientations. That said, I'm fairly certain you don't either. And that said, the reason why the insurance companies aren't investigating this data isn't because it isn't financially beneficial to them (it might be or it might not be) but rather because they can't. That certainly doesn't mean that such an investigation would be impossible, or that it might not make money for the company. \\n\", \"I get what you are saying, but insurance is based on odds. The odds of young males getting into more costly accidents are higher than older females, therefore they pay higher rates because they are more likely to need more money for accidents. Just because you are a good driver doesn't mean the next young man is, so it uses a generalization of odds to determine rates. Health insurance does the same thing.\\n\", \"Right. I'm in agreement with everything that you wrote. My point, though, is that it's a little odd for insurance companies to only be using age and sex out of all of the protected classes when they could easily run the numbers for religious groups or races etc. and charge more or less for those metrics, too. I think all demographics should be fair game or none of them should (exempting the ones that really make sense in this context, like your actual driving record). \\n\", \"Overall, I don't really have any qualms with what you're saying, I just think you're putting too much focus on it. I think the biggest flaw here is how important race and religion is to risk for the insurance company. \\n\\nthey could easily run the numbers for religious groups or races etc\\n\\nThat's absolutely right. Similarly, they could also run the numbers for favorite TV shows, favorite podcasts, and favorite music. From that they could find that those who listen to classical music have fewer accidents than those who listen to rock or rap. But this would be largely redundant as far as a rating factor goes. Insurance companies already take into consideration the zip code, the credit score, the occupation, and education of clients.\\nWhile those who listen to classical are safer than those who listen to rap and rock, the difference between someone who has a different music preference in the same zip code, credit rating, occupation, and education would be very minimal. Do you see what I mean? A Beverly Hills lawyer, who listens to rap, would have a nearly identical rating as a Beverly Hills lawyer who listens to classical, verse a Compton dollar store employee who listens to rap vs classical.\\nConversely, age and sex can NOT be expressed through zip code, credit, occupation, or education. A college educated 40 year old woman in Beverly Hills driving a 2018 BMW is a lot lower risk than a 16 year old Beverly Hills boy driving a Beamer. And a 16 year old Beverly Hills girl is a lower risk than the boy.\\nSo, while I agree with you they could take race and religion into account, they could take a lot of things into account also, but it wouldn't make a significant difference with all the other risk factors that already use- while age and gender actually do make a huge difference on risk factors.\\n\", 'So I hate to be \"that guy\" but do you have any sources for this (i.e. the whole rap vs rock listeners thing)? I mean, it makes a lot of sense that the difference wouldn\\'t be that great (and perhaps not significant enough for insurance companies to bother tracking) but I\\'m going off nothing but my gut and own anecdotal experience (I noticed my driving calmed down quite a bit when I transitioned to NPR and podcasts on my drives as opposed to metal and techno), here. \\nBut I\\'m not sure if that\\'s actually true or, even if the margins are fairly small, that it wouldn\\'t be worth the company\\'s time to track and measure. Even if it\\'s just, say, a $3 a month difference, the largest auto insurance company, State Farm, insures 44,000,000 vehicles. Multiply that by twelve months a year and the $3 difference and you\\'re looking at a ~$1,500,000,000 metric the company isn\\'t capitalizing on. Just a little thought experiment. \\nSo yeah. Maybe sex and age are the biggest factors (aside from the big, non-\"protected\" ones like your actual driving record). But just because other factors aren\\'t as big do we have any proof they\\'re not worth the company\\'s time? In short, are they not gauging insurance rates based on race because race is virtually irrelevant, or because they can\\'t legally? \\n', '\\nSo I hate to be \"that guy\" but do you have any sources for this (i.e. the whole rap vs rock listeners thing)?\\n\\nNo, there\\'s no actuary data for this.\\n\\nBut just because other factors aren\\'t as big do we have any proof they\\'re not worth the company\\'s time? \\n\\nNo, there\\'s no direct proof that it\\'s a large or small issue. I\\'m just using deductive reasoning since differences is race largely disappear when controlled for by intelligence and income, which is highly correlated with credit, zip code, occupation, and education.\\nDo you think there\\'s a significant racial difference in the way people drive that can\\'t be controlled for by intelligence and income? And why do you think it\\'s an equally relevant factor for age and gender?\\n', 'You have to remember what insurance is. The nature of the business is to assess your risk and give you a rate that doesn\\'t bankrupt them when you make a claim. \\nFor that reason, insurance \"discrimination\" is regulated by the government and they must have credible statistics for their rates. \\nRegardless though, your view is that they shouldn\\'t at all and I disagree. \\nImagine you\\'re a singer who smokes heavily, can the singer claim an insurance company is discriminating against smokers? Or is the insurance assessing the risk of them paying out a claim? \\nNow I know, age sex and race are biological. But insurance companies need a baseline. From the baseline it can go up or down based on your driving record and accident records. \\nWithout a baseline, insurance companies can\\'t guarantee they spent their money well. Without a baseline, insurance companies would almost be less inclined to insure because they are taking on an unknown risk. \\nI know it doesn\\'t seem fair and you\\'re right about that. But the business would hardly exist without statistically assessing their risk to begin with. \\n', \"\\nRegardless though, your view is that they shouldn't at all and I disagree. \\n\\nNot quite. My view is that if age and sex are fair game for assessing risk then every demographic metric (religion, race, orientation, etc) should be fair game, too, OR insurance companies should only use metrics that make sense in this context (like driving records). \\nAnd insurance companies can get a baseline either way; they can get that baseline using just data from driving records and mileage and grades and such OR they can make it even more accurate than it is now by including religion, race, orientation, etc. \\nKind of my underlying point here, though, is that if they started factoring even just race into insurance rates tomorrow (even if they were based on 100% credible statistics) people would flip shit. In much the same way the ACA made a moral argument for why women shouldn't have to pay more for health insurance even though there was credible statistics showing it just made good sense for why they should have to. I think insurance companies are getting somewhat of a free pass on the two categories I've focused on because they're discriminating primarily against young dudes. If they were discriminating against POC, homosexuals, or Christians something tells me they would've been forced to abandon those metrics a long time ago after much outrage. And my point is that I don't really see a difference in these metrics. If you can use sex to determine insurance rates there's no reason you can't use race, religion, orientation, etc. And if you don't think insurance companies should be using those latter metrics, it's equally unfair for them to be using sex and age. I'm perfectly comfortable with either or, but it does need to be an all or nothing mechanism in order to be fair and logically consistent. \\n\\u200b\\n\", 'I just reviewed a summary of the Civil Rights Act of 1964. The applicable part, Title II, does not protect sex or age, only race, religion and country of origin. This means their current actions are 100% legal, but your proposed ones are not.\\nYes age and sex are federally protected, but primarily for employment discrimination, not public accommodation discrimination.\\n', \"Well it is in some places and in contexts other than employment, but I'll award you a partial (and quick) !delta for correcting me on how I framed it in my OP. I've added an edit for this and also said the main thrust of my view is still unchanged: that auto insurers either shouldn't be discriminating based on age or sex or all other metrics should be open for discrimination as well. \\n\", 'Confirmed: 1 delta awarded to /u/7nkedocye (23∆).\\nDelta\\xa0System\\xa0Explained | Deltaboards\\n', '\\nCharging someone more for the same service (insuring their vehicle) because of their age or sex seems like quite blatant discrimination.\\n\\nIt’s not.  Race is not treated the same way as age under most laws.  For example, many places charge lower admission to children, or restaurants offer a senior discount.  These are similar examples, and are completely legal.\\n', 'I work for an insurance company as a programmer and have worked extensively on the parts that do ratings. Age and sex aren’t the only things taken into account, there are a lot of things that go into determining risk. We have an actuarial department whose sole job is running statistical models and crunching numbers to determine risks and factors. \\nSo for drivers here are some of the primary things we take into account:\\nAge\\nSex\\nMarital Status\\nInsurance scores\\nDriving history\\nViolations - only count things less than 5 years old and things like 21+mph speeding ticket is weighed more than less than 20\\nDrivers age when licensed (less experience driving = more risk)\\nSome companies use credit scores also\\nI’m not in actuarial, but an unmarried 23 year old male is riskier to cover than a 23 married male. The point of an insurance company is to make money. You want good risks and not bad risks.\\nOther items that go into determining rates on the vehicle side of things:\\nAge of vehicle\\nEvery vehicle ever created since 1968 is given symbols in multiple coverage categories such as bodily injury, liability, property damage, medical, the higher the symbol, the more expensive the average accident costs, therefore higher insurance rate\\nMiles driven\\nPurpose of vehicle (school/work, pleasure, business, farm)\\nTerritory value provided by same national organization as symbols that is based on location of where vehicle will be parked, this is calculated based on many things including crime rates, storm damage (hurricane prone areas cost more)\\nAnd many more items I don’t care to list\\nEach insurance company has to file their rates with the department of insurance for approval to use those rates. Often times they will come back and say we don’t like how you weighed that item or the amount you charge for that coverage. There are a lot of rules and regulations that we have to follow around rating. So until the department of insurance will allow us to use other factors, we are stuck with the age/sex/marital status as part of the formula for how risky a driver might be or not. \\nEdit: In typing all that out I missed a big point. We aren’t discriminating against people, we are determining risk factors in how much we need to charge this person to break even in case they get in an accident. When an accident costs you $30k to cover somebody, but you only charge them $2k a year in insurance, you are taking a bet that while with you, they won’t get in an accident and cost you more. \\n', 'Hey, glad to have caught the attention of a industry professional! I was hoping that might happen. Thanks for the insight. \\nIn regards to your first five paragraphs (based on what you said in the sixth) I think you realized that I\\'m not unaware that sex and age aren\\'t the only metrics that auto insurers use. I\\'m aware of many of these factors, and have used them to my benefit in the past (like when I was able to walk to work every day my insurance was lower than it is now with my 2.5hr round trip daily commute, despite me being several years older now than I was then... and it makes sense; on the road more = more of a risk). \\nSo to hone in on your last paragraph (let me know if I\\'m skipping over anything in the former ones that you\\'d like addressed), I\\'d argue that you are both discriminating and \"determining risk factors.\" They don\\'t have to be mutually exclusive. For example, if a bar found that white folks were statistically more likely to steal from the bar, start fights, waste employee time, etc. and decided to charge whites more for drinks for those reasons, that would be both discriminatory and \"determining risk factors.\" I don\\'t think it needs to be explained, especially to you, why it\\'s determining risk factors, but it\\'s also discriminatory because the stats you have don\\'t say a damn thing about any individual white person who enters your bar - it says something about white people on average. Treating all whites in a special and certain way because of statistical realities that individual whites might not conform to is discriminatory. Some better examples might be things like an employer not hiring women because they\\'re statistically likely to get pregnant and want maternity leave. From a company bottom-line standpoint that\\'s just \"determining risk factors\"... but it\\'s also discrimination. Or perhaps you, as a landlord, have data that shows green people are more likely to trash your property, throw loud parties, and upset other renters; not renting to green people would just be you calling a shot after \"determining risk factors\"... but it would also be discrimination. \\nMore to the point, your data that shows males are more costly to insure says something about men, but not about me, per se, or my buddy Jeff, or my girlfriend. It\\'s totally possible that both my gf and Jeff are horrible, reckless drivers, but I\\'m not. Out of the three of us your discriminatory assumptions are only true for Jeff... because while your stats say something about \"men\" and \"women\" they don\\'t say anything about me or Jeff or my girlfriend. We\\'re all individuals. Treating individuals of a group in a certain way because of the assumption or factually based data that indicates some/most of them are more prone to X is essentially the definition of discrimination. \\n\\u200b\\n', 'I think we need to adjust your definition of discrimination: Unjust or prejudicial treatment of different categories of people. I would argue that determining risk factors based on statistical data is neither unjust nor prejudicial. \\nSo to give you an idea of how the rating works, everyone starts off at a 1.00 at a base level. \\nLapse in coverage? Your risk factor increases by 1.21. \\nLow credit score? Increase it by 1.9 \\nLess than 5 years driving experience? Increase it by 1.3. More than 5 but less than 10? Increase by 1.2 instead. Over 10? Increase by 1.00.  \\nGood student? Increase by .90 (this results in a decrease). Driver training? Increase by .90. Defensive driver? Increase by .90. \\nSingle male between 27 - 29? Increase by 1.408, married male between 27 - 29? Increase by 1.100\\nTake all the risk factors multiplied together to get the final risk factor. Now for each coverage take the base premium and multiply by the risk factor. This is of course an over simplified example of how rating works, but I wanted to point out that gender and age only play a small role in these factors. The primary time it is weighed more than other factors is the 0 - 24 age range and the 75+ age ranges, but these are offset by individual risk factors decreasing from good student, driver training and defensive driver (no at fault accidents).  \\nA lot of what we can use is limited or required by the Department of Insurance, and the crunched numbers and statistics show that age/gender/marital status is the most reliable model we can use. It might feel unjust that your factor is higher because you are a single male under age 24, but if the statistics clearly show that 8 out of 10 drivers in that category are a higher risk of having an accident and you have 20k drivers in that category on your book of business, you know you have a high chance of having to cover 18k accidents. So you have to charge more to cover that cost and it isn’t unjust for a company to do that. Is it prejudicial against you? Not really, it is a small part of the rating factors, and there are discounts to offset the group factor based on individuals. \\nThis is where the bar analogy fails, a bar makes drinks, it costs them x amount to make said drink, and they charge based on that. The bar has insurance to cover the other items. Their cost of insurance is built into the cost of the drink. It would also be counter productive to a bar to come up with such a pricing schema because they want to turn over drinks fast, so if your bartender is having to calculate out complex pricing algorithms based on individual risk factors, drinks won’t be turned over quickly, and the bar will make less money. \\nOther institutions that I’ll throw out that use factors in making decisions based on groups that might seem discriminatory are collages for admissions and banks for loans, just to name two. \\nIf you could name a better model that is realistic for determining risk factors for thousands of drivers that you barely know anything about that doesn’t dig down into getting extremely personal, I would love to hear it. We have played with other models over the years, but none turned out that great. \\n', 'Age is something that applies to everyone regardless of other possible “protected” status. It’s ok to charge young people more because EVERYONE was young at some point. It’s ok to say “young people cause more accidents” because that includes all races/religions/etc. No one group is singled out and generalized, it’s not discriminating against a minority group. Same theory applies for men/women. Because all protected groups have men and women, there is no single group that is affected, they all are. \\n', 'In reverse order, if I may:\\n\\nSame theory applies for men/women. Because all protected groups have men and women, there is no single group that is affected, they all are. \\n\\nThis, I think, is clearly not the case. All other protected groups (religions, orientations, races, etc.) contain both males and females, but male and female are themselves independent, protected groups. If you single out, say, males, perhaps ~50%ish of Muslims are affected by that since ~50%ish of Muslims are male, but 100% of men are affected by it while 0% of women are. \\n\\nAge is something that applies to everyone regardless of other possible “protected” status. It’s ok to charge young people more because EVERYONE was young at some point. It’s ok to say “young people cause more accidents” because that includes all races/religions/etc. No one group is singled out and generalized, it’s not discriminating against a minority group. \\n\\nThis, I think, is a far more compelling point. I still think it falls flat, though, because I don\\'t care about which groups are \"minorities;\" it\\'s perfectly possible to have a system that discriminates against the majority, too. And secondly because frankly I\\'m not sure why \"well everyone was young at some point\" is a compelling argument. Not everyone drives when they\\'re young, or when they\\'re older. It\\'s possible that someone only drives until they\\'re 25, or possible someone only drives after they\\'re 25. So maybe everyone is young at some point, but not every driver is. \\n\\u200b\\n\\u200b\\n', \"Well the first issue with your argument is that age is not a protected class. The only people protected from age discrimination are those over 65. Otherwise voting and driving ages would be illegal. \\nEdit: quick google search, it looks like for age it's just that you cannot discriminate against people over 40 when hiring or firing.\\n\", \"Well it is in some places and in contexts other than employment, but I'll award you a partial (and quick) !delta for correcting me on how I framed it in my OP. I've added an edit for this and also said the main thrust of my view is still unchanged: that auto insurers either shouldn't be discriminating based on age or sex or all other metrics should be open for discrimination as well. \\n\", 'Confirmed: 1 delta awarded to /u/HeWhoShitsWithPhone (37∆).\\nDelta\\xa0System\\xa0Explained | Deltaboards\\n'], 'https://old.reddit.com/r/changemyview/comments/9oscjg/cmv_auto_insurance_companies_shouldnt_use_age_or/', 'CMV: Auto insurance companies shouldn\\'t use age or sex as markers for determining rates OR all \"protected\" groups should be fair game.', ['https://old.reddit.com/r/changemyview/comments/9oscjg/cmv_auto_insurance_companies_shouldnt_use_age_or/e7wej4z/', 'https://old.reddit.com/r/changemyview/comments/9oscjg/cmv_auto_insurance_companies_shouldnt_use_age_or/e7whu0d/', 'https://old.reddit.com/r/changemyview/comments/9oscjg/cmv_auto_insurance_companies_shouldnt_use_age_or/e7wi7cp/', 'https://old.reddit.com/r/changemyview/comments/9oscjg/cmv_auto_insurance_companies_shouldnt_use_age_or/e7wpgk8/', 'https://old.reddit.com/r/changemyview/comments/9oscjg/cmv_auto_insurance_companies_shouldnt_use_age_or/e7xc4k7/', 'https://old.reddit.com/r/changemyview/comments/9oscjg/cmv_auto_insurance_companies_shouldnt_use_age_or/e7y29eu/', 'https://old.reddit.com/r/changemyview/comments/9oscjg/cmv_auto_insurance_companies_shouldnt_use_age_or/e7y29eu/', 'https://old.reddit.com/r/changemyview/comments/9oscjg/cmv_auto_insurance_companies_shouldnt_use_age_or/e7wimas/', 'https://old.reddit.com/r/changemyview/comments/9oscjg/cmv_auto_insurance_companies_shouldnt_use_age_or/e7wix46/', 'https://old.reddit.com/r/changemyview/comments/9oscjg/cmv_auto_insurance_companies_shouldnt_use_age_or/e7x4oik/', 'https://old.reddit.com/r/changemyview/comments/9oscjg/cmv_auto_insurance_companies_shouldnt_use_age_or/e7xah7z/', 'https://old.reddit.com/r/changemyview/comments/9oscjg/cmv_auto_insurance_companies_shouldnt_use_age_or/e7xah7z/', 'https://old.reddit.com/r/changemyview/comments/9oscjg/cmv_auto_insurance_companies_shouldnt_use_age_or/e7wd279/', 'https://old.reddit.com/r/changemyview/comments/9oscjg/cmv_auto_insurance_companies_shouldnt_use_age_or/e7wfcyq/', 'https://old.reddit.com/r/changemyview/comments/9oscjg/cmv_auto_insurance_companies_shouldnt_use_age_or/e7wt9ew/', 'https://old.reddit.com/r/changemyview/comments/9oscjg/cmv_auto_insurance_companies_shouldnt_use_age_or/e7xarz0/', 'https://old.reddit.com/r/changemyview/comments/9oscjg/cmv_auto_insurance_companies_shouldnt_use_age_or/e7xljqx/', 'https://old.reddit.com/r/changemyview/comments/9oscjg/cmv_auto_insurance_companies_shouldnt_use_age_or/e7xljqx/', 'https://old.reddit.com/r/changemyview/comments/9oscjg/cmv_auto_insurance_companies_shouldnt_use_age_or/e7wecnk/', 'https://old.reddit.com/r/changemyview/comments/9oscjg/cmv_auto_insurance_companies_shouldnt_use_age_or/e7wi27x/', 'https://old.reddit.com/r/changemyview/comments/9oscjg/cmv_auto_insurance_companies_shouldnt_use_age_or/e7wi27x/', 'https://old.reddit.com/r/changemyview/comments/9oscjg/cmv_auto_insurance_companies_shouldnt_use_age_or/e7wcruy/', 'https://old.reddit.com/r/changemyview/comments/9oscjg/cmv_auto_insurance_companies_shouldnt_use_age_or/e7wei5p/', 'https://old.reddit.com/r/changemyview/comments/9oscjg/cmv_auto_insurance_companies_shouldnt_use_age_or/e7wejb8/', 'https://old.reddit.com/r/changemyview/comments/9oscjg/cmv_auto_insurance_companies_shouldnt_use_age_or/e7wdg8r/', 'https://old.reddit.com/r/changemyview/comments/9oscjg/cmv_auto_insurance_companies_shouldnt_use_age_or/e7wqc96/', 'https://old.reddit.com/r/changemyview/comments/9oscjg/cmv_auto_insurance_companies_shouldnt_use_age_or/e7xbjmg/', 'https://old.reddit.com/r/changemyview/comments/9oscjg/cmv_auto_insurance_companies_shouldnt_use_age_or/e7xmgn8/', 'https://old.reddit.com/r/changemyview/comments/9oscjg/cmv_auto_insurance_companies_shouldnt_use_age_or/e7wshji/', 'https://old.reddit.com/r/changemyview/comments/9oscjg/cmv_auto_insurance_companies_shouldnt_use_age_or/e7xb0lq/', 'https://old.reddit.com/r/changemyview/comments/9oscjg/cmv_auto_insurance_companies_shouldnt_use_age_or/e7wcq7g/', 'https://old.reddit.com/r/changemyview/comments/9oscjg/cmv_auto_insurance_companies_shouldnt_use_age_or/e7wei84/', 'https://old.reddit.com/r/changemyview/comments/9oscjg/cmv_auto_insurance_companies_shouldnt_use_age_or/e7wejpy/'], ['/u/7nkedocye', '/u/HeWhoShitsWithPhone'], ['I just reviewed a summary of the Civil Rights Act of 1964. The applicable part, Title II, does not protect sex or age, only race, religion and country of origin. This means their current actions are 100% legal, but your proposed ones are not.\\nYes age and sex are federally protected, but primarily for employment discrimination, not public accommodation discrimination.\\n', \"Well the first issue with your argument is that age is not a protected class. The only people protected from age discrimination are those over 65. Otherwise voting and driving ages would be illegal. \\nEdit: quick google search, it looks like for age it's just that you cannot discriminate against people over 40 when hiring or firing.\\n\"], 54.05, [[76.72, 79.6, 31.55, 57.37, 68.1, 58.92, 83.05, 82.65, 67.59, 53.81, 69.82, 66.78, 56.79, 65.66, 72.36, 65.62, 51.31, 47.79, 63.73, 74.35, 56.76, 46.03, 59.64, 71.44, 57.98, 64.2, 65.42, 63.73, 74.35], [76.72, 79.6, 31.55, 57.37, 68.1, 58.92, 83.05, 82.65, 67.59, 53.81, 69.82, 66.78, 56.79, 65.66, 72.36, 65.62, 51.31, 47.79, 63.73, 74.35, 56.76, 46.03, 59.64, 71.44, 57.98, 64.2, 65.42, 63.73, 74.35]]]\n"
     ]
    }
   ],
   "source": [
    "print(my_data[0])"
   ]
  },
  {
   "cell_type": "code",
   "execution_count": null,
   "metadata": {},
   "outputs": [],
   "source": [
    "#OPname, OPtxt, CommentText, commentName, URL, TOPIC, deltalink, deltabot= search(\"people\")\n",
    "\n",
    "print(TOPIC)\n",
    "print(URL)\n",
    "print(deltabot)"
   ]
  },
  {
   "cell_type": "code",
   "execution_count": null,
   "metadata": {},
   "outputs": [],
   "source": [
    "print(OPtxt)"
   ]
  },
  {
   "cell_type": "code",
   "execution_count": null,
   "metadata": {},
   "outputs": [],
   "source": [
    "kinOP = flesch_kincaid_OP(OPtxt)\n",
    "kinComm= flesch_kincaid_comm(CommentText)\n",
    "easyOP = flesch_ease_OP(OPtxt)\n",
    "easyComm = flesch_ease_comm(CommentText)\n",
    "\n",
    "#for some reason doesnt work but does below\n",
    "(similar, locsimilar) = similarEase(easyOP, easyComm, CommentText, commentName)\n",
    "print(similar)"
   ]
  },
  {
   "cell_type": "markdown",
   "metadata": {},
   "source": [
    "(similar, locsimilar) = similarEase(easyOP, easyComm, CommentText, commentName, OPname)\n",
    "detlat"
   ]
  },
  {
   "cell_type": "code",
   "execution_count": null,
   "metadata": {},
   "outputs": [],
   "source": [
    "#sort the list of similar\n",
    "similar, locsimilar = zip(*sorted(zip(similar, locsimilar)))\n",
    "print(similar)\n",
    "print(locsimilar)"
   ]
  },
  {
   "cell_type": "code",
   "execution_count": null,
   "metadata": {},
   "outputs": [],
   "source": [
    "deltas_txt = []\n",
    "op_txt = []\n",
    "for i in range(5):\n",
    "    OPname, OPtxt, CommentText, commentName, URL, TOPIC, deltalink, deltabot= urlSearch(i)\n",
    "    \n",
    "    if deltalink != None and len(deltalink) >0:\n",
    "        op_txt.append(OPtxt)\n",
    "        deltaNames, deltaComments = getDeltaNames(deltalink, deltabot, CommentText)\n",
    "        deltas_txt.append(find_delta_txt(deltaNames, deltaComments, CommentText, commentName))\n"
   ]
  },
  {
   "cell_type": "markdown",
   "metadata": {},
   "source": [
    "##### op_easy = flesch_ease_comm(op_txt)\n",
    "delta_easy = flesch_ease_comm(deltas_txt[4])\n",
    "\n",
    "print(delta_easy)"
   ]
  },
  {
   "cell_type": "code",
   "execution_count": null,
   "metadata": {},
   "outputs": [],
   "source": [
    "# def urlSearch(query):\n",
    "#     import math\n",
    "#     page_number = math.floor(query/25)\n",
    "#     item = query-(page_number*25)-1\n",
    "#     url =  \"https://old.reddit.com/r/changemyview/\"\n",
    "#     if page_number <1:\n",
    "#         url = url\n",
    "#     else:\n",
    "#         for i in range(page_number):\n",
    "#             url = get_next_page(url)\n",
    "#     ##two vectors of topics and urls\n",
    "#     topics, urls = linksAndTopics(url)\n",
    "    \n",
    "#     URL = urls[item]\n",
    "#     ##return all data\n",
    "#     TOPIC = topics[item]\n",
    "#     OPtxt, OPwords, OPname = getOPtext(URL)\n",
    "#     comments, commentTXT, Names, deltalink, deltabot = getComments(URL)\n",
    "#     return(OPname, OPtxt, commentTXT, Names, URL, TOPIC, deltalink, deltabot)  \n",
    "\n",
    "# def get_next_page(url):\n",
    "#     url = souper(url).find_all(\"span\",attrs={'class':\"next-button\"})\n",
    "#     url = str(url).split('>')[1].split(\"\\\"\")[1]\n",
    "#     return url\n",
    "#deltapost = find_delta_txt(deltaNames, deltaComments, CommentText, commentName)"
   ]
  },
  {
   "cell_type": "code",
   "execution_count": null,
   "metadata": {},
   "outputs": [],
   "source": [
    "OPname, OPtxt, CommentText, commentName, URL, TOPIC, deltalink, deltabot= urlSearch(186)\n",
    "print(TOPIC)\n",
    "print(URL)"
   ]
  },
  {
   "cell_type": "code",
   "execution_count": null,
   "metadata": {},
   "outputs": [],
   "source": [
    "df.to_csv(file_name, encoding='utf-8', index=False)"
   ]
  },
  {
   "cell_type": "code",
   "execution_count": null,
   "metadata": {},
   "outputs": [],
   "source": []
  }
 ],
 "metadata": {
  "kernelspec": {
   "display_name": "Python 3",
   "language": "python",
   "name": "python3"
  },
  "language_info": {
   "codemirror_mode": {
    "name": "ipython",
    "version": 3
   },
   "file_extension": ".py",
   "mimetype": "text/x-python",
   "name": "python",
   "nbconvert_exporter": "python",
   "pygments_lexer": "ipython3",
   "version": "3.6.5"
  }
 },
 "nbformat": 4,
 "nbformat_minor": 2
}
