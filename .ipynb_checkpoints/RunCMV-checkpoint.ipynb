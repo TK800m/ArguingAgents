{
 "cells": [
  {
   "cell_type": "code",
   "execution_count": 7,
   "metadata": {},
   "outputs": [
    {
     "name": "stdout",
     "output_type": "stream",
     "text": [
      "4\n",
      "https://old.reddit.com/r/changemyview/comments/9op9bu/cmv_people_that_use_the_terms_soy_boy_or_cuck_are/e7w1r7s/\n",
      "https://old.reddit.com/r/DeltaLog/comments/9opicq/deltas_awarded_in_cmv_people_that_use_the_terms/\n",
      "4\n",
      "6\n",
      "8\n",
      "10\n",
      "['/u/cptnhaddock', '/u/bbbbbbx', '/u/oklar', '/u/Coryukin']\n",
      "['\"Alt-right people do it to make the people of their opposing ideology look weak and effeminate. Like ...\"', '\"I think the reason people make fun of other in general is because they don\\'t agree with that kind of...\"', '\"Hrm. I guess you could technically be so deeply rooted in your outdated masculine norms that you g...\"', '\"OP, You say red pillers and MGTOW people do this. But, for he most part, online I hear women using t...\"']\n"
     ]
    }
   ],
   "source": [
    "from CMVscraper_script_delta import *\n",
    "\n",
    "OPname, OPtxt, CommentText, commentName, URL, TOPIC, deltalink, deltabot= search(\"people\")\n",
    "#OPname, OPtxt, CommentText, commentName, URL, TOPIC, deltalink, deltabot= urlSearch(\"4\")\n",
    "\n",
    "if deltalink != None and len(deltalink) >0:\n",
    "    deltaNames, deltaComments = getDeltaNames(deltalink, deltabot, CommentText)\n",
    "\n"
   ]
  },
  {
   "cell_type": "code",
   "execution_count": 8,
   "metadata": {},
   "outputs": [
    {
     "ename": "NameError",
     "evalue": "name 'TOP' is not defined",
     "output_type": "error",
     "traceback": [
      "\u001b[1;31m---------------------------------------------------------------------------\u001b[0m",
      "\u001b[1;31mNameError\u001b[0m                                 Traceback (most recent call last)",
      "\u001b[1;32m<ipython-input-8-f3ffa34df5d4>\u001b[0m in \u001b[0;36m<module>\u001b[1;34m()\u001b[0m\n\u001b[1;32m----> 1\u001b[1;33m \u001b[0mprint\u001b[0m\u001b[1;33m(\u001b[0m\u001b[0mTOP\u001b[0m\u001b[1;33m)\u001b[0m\u001b[1;33m\u001b[0m\u001b[0m\n\u001b[0m",
      "\u001b[1;31mNameError\u001b[0m: name 'TOP' is not defined"
     ]
    }
   ],
   "source": [
    "print(TOP)"
   ]
  },
  {
   "cell_type": "code",
   "execution_count": null,
   "metadata": {},
   "outputs": [],
   "source": [
    "OPname, OPtxt, CommentText, commentName, URL, TOPIC, deltalink, deltabot= search(\"people\")\n",
    "\n",
    "print(TOPIC)\n",
    "print(URL)\n",
    "print(deltabot)"
   ]
  },
  {
   "cell_type": "code",
   "execution_count": null,
   "metadata": {},
   "outputs": [],
   "source": [
    "print(OPtxt)"
   ]
  },
  {
   "cell_type": "code",
   "execution_count": null,
   "metadata": {},
   "outputs": [],
   "source": [
    "kinOP = flesch_kincaid_OP(OPtxt)\n",
    "kinComm= flesch_kincaid_comm(CommentText)\n",
    "easyOP = flesch_ease_OP(OPtxt)\n",
    "easyComm = flesch_ease_comm(CommentText)\n",
    "\n",
    "#for some reason doesnt work but does below\n",
    "#(similar, saveCloseComm) = similarEase(easyOP, easyComm, CommentText, commentName)\n",
    "#print(similar)"
   ]
  },
  {
   "cell_type": "code",
   "execution_count": null,
   "metadata": {},
   "outputs": [],
   "source": [
    "from textDifficulty import *\n",
    "import numpy as np\n",
    "def similarEase(easyOP, easyComm, CommentText, commentName, OPname):\n",
    "    similar = []\n",
    "    saveCloseComm = []\n",
    "\n",
    "    for i in range(len(easyComm)):\n",
    "        test = abs(easyOP - easyComm[i])\n",
    "        if test <10:\n",
    "            similar =np.append(similar,easyComm[i])\n",
    "            saveCloseComm = np.append(saveCloseComm,i)\n",
    "            \n",
    "    return (similar, saveCloseComm)\n",
    "\n",
    "(similar, locsimilar) = similarEase(easyOP, easyComm, CommentText, commentName, OPname)"
   ]
  },
  {
   "cell_type": "code",
   "execution_count": null,
   "metadata": {},
   "outputs": [],
   "source": [
    "#sort the list of similar\n",
    "similar, locsimilar = zip(*sorted(zip(similar, locsimilar)))\n",
    "print(similar)\n",
    "print(locsimilar)"
   ]
  },
  {
   "cell_type": "code",
   "execution_count": null,
   "metadata": {},
   "outputs": [],
   "source": []
  },
  {
   "cell_type": "code",
   "execution_count": null,
   "metadata": {},
   "outputs": [],
   "source": []
  }
 ],
 "metadata": {
  "kernelspec": {
   "display_name": "Python 3",
   "language": "python",
   "name": "python3"
  },
  "language_info": {
   "codemirror_mode": {
    "name": "ipython",
    "version": 3
   },
   "file_extension": ".py",
   "mimetype": "text/x-python",
   "name": "python",
   "nbconvert_exporter": "python",
   "pygments_lexer": "ipython3",
   "version": "3.6.5"
  }
 },
 "nbformat": 4,
 "nbformat_minor": 2
}
