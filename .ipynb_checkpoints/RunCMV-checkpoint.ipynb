{
 "cells": [
  {
   "cell_type": "code",
   "execution_count": 1,
   "metadata": {},
   "outputs": [],
   "source": [
    "from CMVwebscraper import *\n",
    "from textDifficulty import *\n",
    "\n"
   ]
  },
  {
   "cell_type": "code",
   "execution_count": 2,
   "metadata": {},
   "outputs": [
    {
     "name": "stdout",
     "output_type": "stream",
     "text": [
      "CMV: Dragonflys are significantly doper than spiders\n",
      "https://old.reddit.com/r/changemyview/comments/9ody9p/cmv_dragonflys_are_significantly_doper_than/\n"
     ]
    }
   ],
   "source": [
    "OPname, OPtxt, CommentText, commentName, URL, TOPIC = search(\"dragonflys\")\n",
    "print(TOPIC)\n",
    "print(URL)"
   ]
  },
  {
   "cell_type": "code",
   "execution_count": 3,
   "metadata": {},
   "outputs": [
    {
     "name": "stdout",
     "output_type": "stream",
     "text": [
      "I know reddit is fairly enamored with spiders (/r/spiderbro, etc.), but I think dragonflys are doper.I define dopeness in this context as the combination of net benefit to humans, coolness of abilities, and ability to fly beauty.The last two categories are obviously subjective, but arguable through examples and stuff.Feel free to argue for a different definition of dope.I believe dragonflys are doper than spiders (under this definition) because they:\n",
      "1. Eat pests just like spiders, but without killing humans\n",
      "2. Fly around like a fuckin snitch from Harry Potter, have 4 wings, are super fast, and can predict the flight path of other bugs to intercept them midair.\n",
      "3. Look really fucking cool.\n"
     ]
    }
   ],
   "source": [
    "print(OPtxt)"
   ]
  },
  {
   "cell_type": "code",
   "execution_count": 4,
   "metadata": {},
   "outputs": [
    {
     "ename": "NameError",
     "evalue": "name 'np' is not defined",
     "output_type": "error",
     "traceback": [
      "\u001b[1;31m---------------------------------------------------------------------------\u001b[0m",
      "\u001b[1;31mNameError\u001b[0m                                 Traceback (most recent call last)",
      "\u001b[1;32m<ipython-input-4-7a53dd6930df>\u001b[0m in \u001b[0;36m<module>\u001b[1;34m()\u001b[0m\n\u001b[0;32m      5\u001b[0m \u001b[1;33m\u001b[0m\u001b[0m\n\u001b[0;32m      6\u001b[0m \u001b[1;31m#for some reason doesnt work\u001b[0m\u001b[1;33m\u001b[0m\u001b[1;33m\u001b[0m\u001b[0m\n\u001b[1;32m----> 7\u001b[1;33m \u001b[1;33m(\u001b[0m\u001b[0msimilar\u001b[0m\u001b[1;33m,\u001b[0m \u001b[0msaveCloseComm\u001b[0m\u001b[1;33m)\u001b[0m \u001b[1;33m=\u001b[0m \u001b[0msimilarEase\u001b[0m\u001b[1;33m(\u001b[0m\u001b[0measyOP\u001b[0m\u001b[1;33m,\u001b[0m \u001b[0measyComm\u001b[0m\u001b[1;33m,\u001b[0m \u001b[0mCommentText\u001b[0m\u001b[1;33m,\u001b[0m \u001b[0mcommentName\u001b[0m\u001b[1;33m)\u001b[0m\u001b[1;33m\u001b[0m\u001b[0m\n\u001b[0m\u001b[0;32m      8\u001b[0m \u001b[0mprint\u001b[0m\u001b[1;33m(\u001b[0m\u001b[0msimilar\u001b[0m\u001b[1;33m)\u001b[0m\u001b[1;33m\u001b[0m\u001b[0m\n",
      "\u001b[1;32m~\\Documents\\GitHub\\ArguingAgents\\textDifficulty.py\u001b[0m in \u001b[0;36msimilarEase\u001b[1;34m(easyOP, easyComm, CommentText, commentName)\u001b[0m\n\u001b[0;32m     29\u001b[0m         \u001b[0mtest\u001b[0m \u001b[1;33m=\u001b[0m \u001b[0mabs\u001b[0m\u001b[1;33m(\u001b[0m\u001b[0measyOP\u001b[0m \u001b[1;33m-\u001b[0m \u001b[0measyComm\u001b[0m\u001b[1;33m[\u001b[0m\u001b[0mi\u001b[0m\u001b[1;33m]\u001b[0m\u001b[1;33m)\u001b[0m\u001b[1;33m\u001b[0m\u001b[0m\n\u001b[0;32m     30\u001b[0m         \u001b[1;32mif\u001b[0m \u001b[0mtest\u001b[0m \u001b[1;33m<\u001b[0m\u001b[1;36m10\u001b[0m\u001b[1;33m:\u001b[0m\u001b[1;33m\u001b[0m\u001b[0m\n\u001b[1;32m---> 31\u001b[1;33m             \u001b[0msimilar\u001b[0m \u001b[1;33m=\u001b[0m\u001b[0mnp\u001b[0m\u001b[1;33m.\u001b[0m\u001b[0mappend\u001b[0m\u001b[1;33m(\u001b[0m\u001b[0msimilar\u001b[0m\u001b[1;33m,\u001b[0m\u001b[0measyComm\u001b[0m\u001b[1;33m[\u001b[0m\u001b[0mi\u001b[0m\u001b[1;33m]\u001b[0m\u001b[1;33m)\u001b[0m\u001b[1;33m\u001b[0m\u001b[0m\n\u001b[0m\u001b[0;32m     32\u001b[0m             \u001b[0msaveCloseComm\u001b[0m \u001b[1;33m=\u001b[0m \u001b[0mnp\u001b[0m\u001b[1;33m.\u001b[0m\u001b[0mappend\u001b[0m\u001b[1;33m(\u001b[0m\u001b[0msaveCloseComm\u001b[0m\u001b[1;33m,\u001b[0m\u001b[0mi\u001b[0m\u001b[1;33m)\u001b[0m\u001b[1;33m\u001b[0m\u001b[0m\n\u001b[0;32m     33\u001b[0m \u001b[1;33m\u001b[0m\u001b[0m\n",
      "\u001b[1;31mNameError\u001b[0m: name 'np' is not defined"
     ]
    }
   ],
   "source": [
    "kinOP = flesch_kincaid_OP(OPtxt)\n",
    "kinComm= flesch_kincaid_comm(CommentText)\n",
    "easyOP = flesch_ease_OP(OPtxt)\n",
    "easyComm = flesch_ease_comm(CommentText)\n",
    "\n",
    "#for some reason doesnt work but does below\n",
    "#(similar, saveCloseComm) = similarEase(easyOP, easyComm, CommentText, commentName)\n",
    "#print(similar)"
   ]
  },
  {
   "cell_type": "code",
   "execution_count": 7,
   "metadata": {},
   "outputs": [],
   "source": [
    "from textDifficulty import *\n",
    "import numpy as np\n",
    "def similarEase(easyOP, easyComm, CommentText, commentName, OPname):\n",
    "    similar = []\n",
    "    saveCloseComm = []\n",
    "\n",
    "    for i in range(len(easyComm)):\n",
    "        test = abs(easyOP - easyComm[i])\n",
    "        if test <10:\n",
    "            similar =np.append(similar,easyComm[i])\n",
    "            saveCloseComm = np.append(saveCloseComm,i)\n",
    "            \n",
    "    return (similar, saveCloseComm)\n",
    "\n",
    "(similar, locsimilar) = similarEase(easyOP, easyComm, CommentText, commentName, OPname)"
   ]
  },
  {
   "cell_type": "code",
   "execution_count": 12,
   "metadata": {},
   "outputs": [
    {
     "name": "stdout",
     "output_type": "stream",
     "text": [
      "(57.43, 58.69, 58.69, 59.13, 60.82, 61.33, 61.67, 61.67, 61.67, 61.67, 61.67, 61.67, 62.34, 62.54, 62.58, 63.19, 64.04, 64.04, 64.41, 64.71, 64.71, 64.71, 65.22, 65.73, 65.89, 66.54, 67.08, 67.42, 67.76, 68.26, 68.3, 68.47, 68.77, 69.11, 69.11, 69.11, 69.21, 69.28, 69.62, 69.82, 70.8, 71.14, 71.51, 71.82, 72.53, 72.87, 72.97, 73.51, 73.85, 74.19, 74.35, 74.35, 74.35, 74.35, 74.9, 75.71, 76.22, 76.22, 76.56, 76.62)\n",
      "(25.0, 15.0, 123.0, 22.0, 101.0, 37.0, 85.0, 102.0, 117.0, 118.0, 120.0, 125.0, 81.0, 91.0, 74.0, 50.0, 23.0, 124.0, 33.0, 12.0, 62.0, 103.0, 8.0, 27.0, 4.0, 2.0, 69.0, 66.0, 98.0, 0.0, 5.0, 31.0, 47.0, 11.0, 52.0, 60.0, 1.0, 77.0, 40.0, 57.0, 61.0, 82.0, 95.0, 21.0, 34.0, 87.0, 3.0, 9.0, 119.0, 106.0, 13.0, 32.0, 35.0, 54.0, 38.0, 79.0, 58.0, 113.0, 89.0, 59.0)\n"
     ]
    }
   ],
   "source": [
    "#sort the list of similar\n",
    "similar, locsimilar = zip(*sorted(zip(similar, locsimilar)))\n",
    "print(similar)\n",
    "print(locsimilar)"
   ]
  },
  {
   "cell_type": "code",
   "execution_count": 9,
   "metadata": {},
   "outputs": [],
   "source": [
    "similar, locsimilar = zip(*sorted(zip(similar, locsimilar)))"
   ]
  },
  {
   "cell_type": "code",
   "execution_count": 11,
   "metadata": {},
   "outputs": [
    {
     "name": "stdout",
     "output_type": "stream",
     "text": [
      "58.69\n",
      "123.0\n"
     ]
    }
   ],
   "source": []
  },
  {
   "cell_type": "code",
   "execution_count": null,
   "metadata": {},
   "outputs": [],
   "source": []
  }
 ],
 "metadata": {
  "kernelspec": {
   "display_name": "Python 3",
   "language": "python",
   "name": "python3"
  },
  "language_info": {
   "codemirror_mode": {
    "name": "ipython",
    "version": 3
   },
   "file_extension": ".py",
   "mimetype": "text/x-python",
   "name": "python",
   "nbconvert_exporter": "python",
   "pygments_lexer": "ipython3",
   "version": "3.6.5"
  }
 },
 "nbformat": 4,
 "nbformat_minor": 2
}
