{
 "cells": [
  {
   "cell_type": "code",
   "execution_count": 1,
   "metadata": {},
   "outputs": [],
   "source": [
    "from scraper import *\n",
    "#import pandas as pd\n",
    "#OPname, OPtxt, CommentText, commentName, URL, TOPIC, deltalink, deltabot= search(\"people\")\n",
    "\n",
    "\n"
   ]
  },
  {
   "cell_type": "code",
   "execution_count": 2,
   "metadata": {
    "scrolled": true
   },
   "outputs": [
    {
     "name": "stdout",
     "output_type": "stream",
     "text": [
      "0) found a delta in: https://old.reddit.com/r/changemyview/comments/9rb54h/cmv_the_concept_of_gender_does_not_serve_a_useful/\n",
      "1) found a delta in: https://old.reddit.com/r/changemyview/comments/9rckpx/cmv_one_should_feel_more_compelled_to_criticize/\n",
      "2) found a delta in: https://old.reddit.com/r/changemyview/comments/9rdst9/cmv_apple_uses_planned_obsolescence_to_force/\n",
      "3) no delta found in: CMV: Apple uses planned obsolescence to force users to get a new iPhone.\n",
      "4) found a delta in: https://old.reddit.com/r/changemyview/comments/9rd0b2/cmv_transgender_rights_is_a_low_priority_issue/\n",
      "5) no delta found in: CMV: Transgender rights is a low priority issue and the left should divert its political capital elsewhere for now\n",
      "6) no delta found in: CMV: Multi-million dollar companies do not take political stances for reasons other than profit\n",
      "7) no delta found in: CMV: Monetization ruined YouTube\n",
      "8) found a delta in: https://old.reddit.com/r/changemyview/comments/9r3lls/cmv_when_someone_gets_upset_about_the_suffering/\n",
      "9) found a delta in: https://old.reddit.com/r/changemyview/comments/9rhsov/cmv_your_birth_wasnt_an_accident_and_it_wasnt/\n",
      "10) found a delta in: https://old.reddit.com/r/changemyview/comments/9r9yk3/cmv_inconsistent_treatment_of_tv_personalities/\n",
      "11) found a delta in: https://old.reddit.com/r/changemyview/comments/9rhmb2/cmv_objective_quality_does_not_exist_in_art/\n",
      "12) no delta found in: CMV: “Objective quality” does not exist in art.\n",
      "13) found a delta in: https://old.reddit.com/r/changemyview/comments/9rhgjd/cmv_dressing_up_as_a_different_race_is_fine_so/\n",
      "14) found a delta in: https://old.reddit.com/r/changemyview/comments/9reh37/cmv_the_mainstream_movement_for_trans_rights_is/\n",
      "15) no delta found in: CMV: The mainstream movement for trans rights is rife with misogyny.\n",
      "16) no delta found in: CMV: Using the same words to describe sex and gender is the reason for a lot of the modern debate about gender issues.\n",
      "17) found a delta in: https://old.reddit.com/r/changemyview/comments/9ra21p/cmv_political_debates_hosted_by_news_stations/\n",
      "18) found a delta in: https://old.reddit.com/r/changemyview/comments/9re2c4/cmv_marvel_shouldnt_try_to_introduce_the_xmen_to/\n",
      "19) no delta found in: CMV: Marvel shouldn't try to introduce the X-Men to the MCU\n",
      "20) no delta found in: CMV: It is incorrect to assume that mental illness causes gun violence.\n",
      "21) found a delta in: https://old.reddit.com/r/changemyview/comments/9rbitl/cmv_people_in_favour_of_housing_refugees_should/\n",
      "22) no delta found in: CMV: People in Favour of Housing Refugees, Should Be Required to Provide Housing for Refugees\n",
      "23) no delta found in: CMV: Hedge funds and finance managers should never be used for investing. Index funds and bonds are where it's at.\n",
      "24) no delta found in: CMV: Hedge funds and finance managers should never be used for investing. Index funds and bonds are where it's at.\n",
      "25) found a delta in: https://old.reddit.com/r/changemyview/comments/9rdk8f/cmv_im_not_opting_in_to_be_an_organ_donor/\n",
      "26) no delta found in: CMV: There should never be a prison sentence longer than 30 years given to anyone, ever, for any reason\n",
      "27) no delta found in: CMV: The DualShock 4 Controller is clearly superior to the Xbox One Controller\n",
      "28) no delta found in: CMV: Taxes and open borders are inherently capitalist\n",
      "29) no delta found in: CMV: Expanding the Earned Income Tax Credit is better than implementing a universal basic income\n",
      "30) found a delta in: https://old.reddit.com/r/changemyview/comments/9rbafa/cmv_the_windows_10_metro_interface_is_an/\n",
      "31) no delta found in: CMV: Gender is best thought of as a model of reality\n",
      "32) no delta found in: CMV: minimum wage should be abolished\n",
      "33) found a delta in: https://old.reddit.com/r/changemyview/comments/9r1sy9/cmv_modifying_skin_color_ie_blackface_for/\n",
      "34) found a delta in: https://old.reddit.com/r/changemyview/comments/9re2w2/cmv_accusations_of_contemporary_widespread_police/\n",
      "35) found a delta in: https://old.reddit.com/r/changemyview/comments/9qw9t8/cmv_not_being_being_willing_to_be_an_organ_donor/\n",
      "36) no delta found in: CMV: US immigration is among the most beneficial, its policies are among the most strict and the debate is by far the most fucked\n",
      "37) no delta found in: CMV: Zero Tolerance Policies Against Bullying Are Foolish\n",
      "38) found a delta in: https://old.reddit.com/r/changemyview/comments/9r9d42/cmvall_political_views_are_nonsense/\n",
      "39) no delta found in: CMV: We as a society unnecessarily put too much emphasis on a person's gender, and it is unhealthy.\n",
      "40) no delta found in: CMV: A married gay couple consisting of a South-American Catholic man and a New England Jewish white man travelling by car through the southern US should act closeted\n",
      "41) found a delta in: https://old.reddit.com/r/changemyview/comments/9r0z7t/cmv_it_should_be_a_law_that_all_bathroom_doors/\n",
      "42) no delta found in: CMV: the male members of the Breakfast Club and their circumcision status, two were circumcised and one was not\n",
      "43) no delta found in: CMV: Capitalasim is similar to democracy, Environmental destruction is due to consumer morals and values.\n",
      "44) found a delta in: https://old.reddit.com/r/changemyview/comments/9r2h3m/cmv_president_trump_and_his_surrogates_have/\n",
      "45) no delta found in: CMV: There shouldn't be a death penalty for any crime but there should be a death option.\n",
      "46) no delta found in: CMV: There is no position against Universal Health Care that isn't a result of miseducation or immorality.\n",
      "47) found a delta in: https://old.reddit.com/r/changemyview/comments/9r89m7/cmv_carpeted_flooring_is_superior_to_hard/\n",
      "48) found a delta in: https://old.reddit.com/r/changemyview/comments/9rctrj/cmv_parents_should_be_allowed_to_act_as/\n",
      "49) found a delta in: https://old.reddit.com/r/changemyview/comments/9rctrj/cmv_parents_should_be_allowed_to_act_as/\n",
      "50) found a delta in: https://old.reddit.com/r/changemyview/comments/9rgqfh/cmv_the_pipe_bombs_were_fake_and_a_ruse_to_get/\n",
      "51) no delta found in: CMV: We should criminalize being fat\n",
      "52) no delta found in: CMV: Capitalism is incompatible with healthcare.\n",
      "53) no delta found in: CMV: Voting Republican is bad for the environment\n",
      "54) no delta found in: CMV: Black privellige and racism is a growing issue, and is seen as acceptable\n",
      "55) no delta found in: CMV:The relative progressiveness and acceptance that most diasporic Judaism supports is the result of historical marginalization, not fundamental differences from other Abrahamic religions.\n",
      "56) no delta found in: CMV: It should be ok for white people to darken their skin on Halloween\n",
      "57) no delta found in: CMV: Prescribed Anti-Depressants should not be frown upon.\n",
      "58) found a delta in: https://old.reddit.com/r/changemyview/comments/9r0y56/cmv_asylum_seekers_in_the_caravan_should_seek/\n",
      "59) found a delta in: https://old.reddit.com/r/changemyview/comments/9qnuek/cmv_a_coding_course_offering_a_flat_500_discount/\n",
      "60) found a delta in: https://old.reddit.com/r/changemyview/comments/9r3q77/cmv_closing_with_your_obedient_servant_is/\n",
      "61) found a delta in: https://old.reddit.com/r/changemyview/comments/9rctee/cmv_marriage_is_a_bad_deal_for_men_and_i_plan_to/\n",
      "62) no delta found in: CMV: The white poppy is disrespectful to the British and commonwealth soldiers that fought and died in the First World War sold up to and during the remembrance period.\n",
      "63) found a delta in: https://old.reddit.com/r/changemyview/comments/9r2qtg/cmv_the_gaming_has_become_toxic_and_has_lost_the/\n",
      "64) found a delta in: https://old.reddit.com/r/changemyview/comments/9qze4r/cmv_republicans_do_not_care_about_your_health/\n",
      "65) found a delta in: https://old.reddit.com/r/changemyview/comments/9r9tqa/cmv_denouncing_society_as_sexist_is_in_itself/\n",
      "66) found a delta in: https://old.reddit.com/r/changemyview/comments/9rbdis/cmv_the_bomb_packages_sent_to_leaders_of_the/\n",
      "67) found a delta in: https://old.reddit.com/r/changemyview/comments/9r0x2l/cmv_crime_is_a_legitimate_transaction/\n",
      "68) found a delta in: https://old.reddit.com/r/changemyview/comments/9r7af2/cmv_princes_playing_on_while_my_guitar_gently/\n",
      "69) found a delta in: https://old.reddit.com/r/changemyview/comments/9r5f9x/cmv_themes_in_works_of_fiction_are_not_adequately/\n",
      "70) found a delta in: https://old.reddit.com/r/changemyview/comments/9r323n/cmv_people_are_way_too_dumb_and_stubborn_to_be/\n"
     ]
    },
    {
     "name": "stdout",
     "output_type": "stream",
     "text": [
      "71) found a delta in: https://old.reddit.com/r/changemyview/comments/9qrata/cmv_harvard_getting_sued_over_discriminatory/\n",
      "72) found a delta in: https://old.reddit.com/r/changemyview/comments/9r8wfg/cmv_most_atheists_are_stubborn_and_wont_accept/\n",
      "73) found a delta in: https://old.reddit.com/r/changemyview/comments/9r0dol/cmv_hocus_pocus_is_a_terrible_movie_and_not_kid/\n",
      "74) found a delta in: https://old.reddit.com/r/changemyview/comments/9r0dol/cmv_hocus_pocus_is_a_terrible_movie_and_not_kid/\n",
      "75) found a delta in: https://old.reddit.com/r/changemyview/comments/9r1h1x/cmvi_feel_my_governments_advertising_campaign_for/\n",
      "76) no delta found in: CMV: There is nothing wrong with the n-word (nationalist)\n",
      "77) found a delta in: https://old.reddit.com/r/changemyview/comments/9r17nc/cmv_incels_are_not_a_cult_and_presenting_them_as/\n",
      "78) found a delta in: https://old.reddit.com/r/changemyview/comments/9r42fc/cmv_women_should_not_be_paid_as_much_as_men_in/\n",
      "79) no delta found in: CMV: reddit should tell you when a post is removed\n",
      "80) found a delta in: https://old.reddit.com/r/changemyview/comments/9qwk8t/cmv_equality_of_opportunity_is_unachievable/\n",
      "81) no delta found in: CMV: The House should adopt a rule that adds extra representatives to ensure that the composition of the House mirrors the popular vote.\n",
      "82) no delta found in: CMV: Those who transistion their gender are directly supporting toxic patriarchal gender roles\n",
      "83) found a delta in: https://old.reddit.com/r/changemyview/comments/9qzl7f/cmv_there_are_not_any_good_alternatives_to_our/\n",
      "84) found a delta in: https://old.reddit.com/r/changemyview/comments/9qrzno/cmv_if_you_are_a_single_issuer_voter_on_a_hotly/\n",
      "85) no delta found in: CMV: The world is racist\n",
      "86) found a delta in: https://old.reddit.com/r/changemyview/comments/9qrni5/cmv_when_talking_about_victims_of_the_holocaust/\n",
      "87) no delta found in: CMV: Someone like Trump couldn't happen in the Democratic Party\n",
      "88) no delta found in: CMV: Moderators \"locking\" a post on Reddit serves no purpose other than to censor and stop free speech\n",
      "89) no delta found in: CMV: In A League Of Their Own, Kit knocks the ball out of Dottie’s hand fair and square, NOT because Dottie intentionally dropped it.\n",
      "90) no delta found in: CMV: If you fail to vote, you have no right to complain about public policy. Just shut up.\n",
      "91) no delta found in: CMV: The Boob/Butt meme is degrading to women and creepy.\n",
      "92) found a delta in: https://old.reddit.com/r/changemyview/comments/9qrfub/cmv_gender_equality_as_a_of_the_workers_in_fields/\n",
      "93) found a delta in: https://old.reddit.com/r/changemyview/comments/9qg5q3/cmv_it_shouldnt_be_taboo_to_look_at_cleavage_if/\n",
      "94) no delta found in: CMV: Older generations act far more entitled than Millennials\n",
      "95) found a delta in: https://old.reddit.com/r/changemyview/comments/9r1tsr/cmv_the_division_between_americans_due_to/\n",
      "96) found a delta in: https://old.reddit.com/r/changemyview/comments/9qsqcd/cmv_architecture_is_dead/\n",
      "97) found a delta in: https://old.reddit.com/r/changemyview/comments/9quk8z/cmv_logical_proof_empirical_evidence_anecdotal/\n",
      "98) found a delta in: https://old.reddit.com/r/changemyview/comments/9qvkut/cmv_if_someone_will_not_reciprocate_your_rights/\n",
      "99) found a delta in: https://old.reddit.com/r/changemyview/comments/9qvkut/cmv_if_someone_will_not_reciprocate_your_rights/\n"
     ]
    }
   ],
   "source": [
    "my_manual_data = makeDF(range(0,100,1))\n"
   ]
  },
  {
   "cell_type": "code",
   "execution_count": 32,
   "metadata": {},
   "outputs": [
    {
     "name": "stdout",
     "output_type": "stream",
     "text": [
      "58.37465466812467\n"
     ]
    }
   ],
   "source": [
    "import numpy as np\n",
    "\n",
    "acc2 = []\n",
    "for i in range(len(my_manual_data)):\n",
    "    OPease = flesch_ease_OP(my_manual_data[i][1])\n",
    "    COMease = flesch_ease_comm(my_manual_data[i][2])\n",
    "    Dease = flesch_ease_comm(my_manual_data[i][3])\n",
    "    similar, loc = similarEase(OPease, COMease, \"\", \"unknown\")\n",
    "    for x in range(len(similar)):\n",
    "        similar[x] = abs(similar[x] - OPease)\n",
    "    similar.sort()\n",
    "    for x in range(len(Dease)):\n",
    "        Dease[x] = abs(Dease[x]-OPease)\n",
    "        if len(similar)>10:\n",
    "            if Dease[x] <= similar[9]:\n",
    "                accuracy +=1\n",
    "    for x in range(len(COMease)):\n",
    "        COMease[x] = abs(COMease[x]-OPease)\n",
    "    \n",
    "    \n",
    "    COMease.sort()\n",
    "    save_best = len(COMease)\n",
    "    for x in range(len(Dease)):\n",
    "        for i in range(len(COMease)):\n",
    "            if Dease[x]< COMease[i]:\n",
    "                if i <= save_best:\n",
    "                    save_best = i\n",
    "                else:\n",
    "                    break\n",
    "    acc2.append(100-(save_best/len(COMease))*100)\n",
    "\n",
    "\n",
    "print(np.mean(acc2))\n"
   ]
  },
  {
   "cell_type": "code",
   "execution_count": 25,
   "metadata": {},
   "outputs": [
    {
     "name": "stdout",
     "output_type": "stream",
     "text": [
      "44\n"
     ]
    },
    {
     "data": {
      "image/png": "[encoded data removed]",
      "text/plain": [
       "<Figure size 432x288 with 1 Axes>"
      ]
     },
     "metadata": {},
     "output_type": "display_data"
    },
    {
     "name": "stdout",
     "output_type": "stream",
     "text": [
      "58.37465466812467 24.947118276956598\n"
     ]
    }
   ],
   "source": [
    "import numpy as np\n",
    "import matplotlib.pyplot as plt\n",
    "y = []\n",
    "x = acc2\n",
    "avg = np.mean(acc2)\n",
    "avgarr = []\n",
    "stdev = np.std(acc2)\n",
    "stdevarrup = []\n",
    "stdevarrdown =[]\n",
    "print(len(acc2))\n",
    "for i in range(len(acc2)):\n",
    "    y.append(i)\n",
    "    avgarr.append(avg)\n",
    "    stdevarrup.append(avg+stdev)\n",
    "    stdevarrdown.append(avg-stdev)\n",
    "plt.scatter(y, x)\n",
    "plt.plot(y,avgarr, color='r')\n",
    "plt.plot(y,stdevarrdown, color='y', alpha=0.5)\n",
    "plt.plot(y,stdevarrup, color='y', alpha=0.5)\n",
    "plt.title(\"Accuracy prediction based on Flesch-ease score\")\n",
    "plt.show()\n",
    "\n",
    "print(avg,stdev)"
   ]
  },
  {
   "cell_type": "code",
   "execution_count": null,
   "metadata": {},
   "outputs": [],
   "source": [
    "OPname, OPtxt, CommentText, commentName, URL, TOPIC, deltalink, deltabot= urlSearch(186)\n",
    "print(TOPIC)\n",
    "print(URL)"
   ]
  },
  {
   "cell_type": "code",
   "execution_count": null,
   "metadata": {},
   "outputs": [],
   "source": [
    "#OPtext, CommentText, TOPIC, deltaText\n",
    "def makeDF(post_range, filename):\n",
    "    my_data_log = []\n",
    "    for num in post_range:\n",
    "        if num != 20:\n",
    "            OPname, OPtxt, CommentText, commentName, URL, TOPIC, deltalink, deltabot= urlSearch(num)\n",
    "            if deltalink != None and len(deltalink) >0:\n",
    "                print(str(num) + \") found a delta in: \"+ URL)\n",
    "                deltaNames, deltapost, delta_urls = getDeltaNames(deltalink, deltabot, CommentText)\n",
    "                #print(deltaComments)\n",
    "                #deltapost = find_delta_txt(deltaNames, deltaComments, CommentText, commentName)\n",
    "                easyOP = flesch_ease_OP(OPtxt)\n",
    "                \n",
    "                easyComm = []\n",
    "                for x in range(len(deltapost)):\n",
    "                    easyComm.append(flesch_ease_comm(CommentText))\n",
    "                my_data_log.append([OPname, OPtxt, commentName,CommentText,  URL, TOPIC, deltalink, deltaNames, deltapost, easyOP, easyComm])\n",
    "            else:\n",
    "                  print(str(num) + \") no delta found in: \"+ TOPIC)\n",
    "    filename= 'cmv_'+str(filename)+'.csv'\n",
    "    pd.DataFrame(my_data_log, columns=['op_name','op_text','comment_name', 'comment_text', 'url', 'topic', 'delta_link', 'delta_names', 'delta_text', 'op_easy_score', 'delta_easy_score']).to_csv(filename)\n",
    "    return(my_data_log)"
   ]
  }
 ],
 "metadata": {
  "kernelspec": {
   "display_name": "Python 3",
   "language": "python",
   "name": "python3"
  },
  "language_info": {
   "codemirror_mode": {
    "name": "ipython",
    "version": 3
   },
   "file_extension": ".py",
   "mimetype": "text/x-python",
   "name": "python",
   "nbconvert_exporter": "python",
   "pygments_lexer": "ipython3",
   "version": "3.6.5"
  }
 },
 "nbformat": 4,
 "nbformat_minor": 2
}
