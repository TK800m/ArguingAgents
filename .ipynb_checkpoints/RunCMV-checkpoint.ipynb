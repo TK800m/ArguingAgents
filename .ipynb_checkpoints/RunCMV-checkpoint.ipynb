{
 "cells": [
  {
   "cell_type": "code",
   "execution_count": 14,
   "metadata": {},
   "outputs": [],
   "source": [
    "from CMVscraper_script_delta import *\n",
    "import pandas as pd\n",
    "my_data= []\n",
    "\n",
    "#OPname, OPtxt, CommentText, commentName, URL, TOPIC, deltalink, deltabot= search(\"people\")\n",
    "\n",
    "\n",
    "def makeDF(post_range, filename):\n",
    "    my_data_log = []\n",
    "    for num in post_range:\n",
    "        if num != 20:\n",
    "            OPname, OPtxt, CommentText, commentName, URL, TOPIC, deltalink, deltabot= urlSearch(num)\n",
    "            if deltalink != None and len(deltalink) >0:\n",
    "                print(str(num) + \") found a delta in: \"+ URL)\n",
    "                deltaNames, deltapost, delta_urls = getDeltaNames(deltalink, deltabot, CommentText)\n",
    "                #print(deltaComments)\n",
    "                #deltapost = find_delta_txt(deltaNames, deltaComments, CommentText, commentName)\n",
    "                easyOP = flesch_ease_OP(OPtxt)\n",
    "                \n",
    "                easyComm = []\n",
    "                for x in range(len(deltapost)):\n",
    "                    easyComm.append(flesch_ease_comm(CommentText))\n",
    "                my_data_log.append([OPname, OPtxt, commentName,CommentText,  URL, TOPIC, deltalink, deltaNames, deltapost, easyOP, easyComm])\n",
    "            else:\n",
    "                  print(str(num) + \") no delta found in: \"+ TOPIC)\n",
    "    filename= 'cmv_'+str(filename)+'.csv'\n",
    "    pd.DataFrame(my_data_log, columns=['op_name','op_text','comment_name', 'comment_text', 'url', 'topic', 'delta_link', 'delta_names', 'delta_text', 'op_easy_score', 'delta_easy_score']).to_csv(filename)\n",
    "    return(my_data_log)"
   ]
  },
  {
   "cell_type": "code",
   "execution_count": 15,
   "metadata": {},
   "outputs": [],
   "source": [
    "def makeDF(post_range):\n",
    "    my_data_log = []\n",
    "    for num in post_range:\n",
    "        if num != 20:\n",
    "            OPname, OPtxt, CommentText, commentName, URL, TOPIC, deltalink, deltabot= urlSearch(num)\n",
    "            if deltalink != None and len(deltalink) >0:\n",
    "                print(str(num) + \") found a delta in: \"+ URL)\n",
    "                deltaNames, deltapost, delta_urls = getDeltaNames(deltalink, deltabot, CommentText)\n",
    "                #print(deltaComments)\n",
    "                #deltapost = find_delta_txt(deltaNames, deltaComments, CommentText, commentName)\n",
    "                easyOP = flesch_ease_OP(OPtxt)\n",
    "                \n",
    "                easyComm = []\n",
    "                for x in range(len(deltapost)):\n",
    "                    easyComm.append(flesch_ease_comm(CommentText))\n",
    "                my_data_log.append([OPname, OPtxt, commentName,CommentText,  URL, TOPIC, deltalink, deltaNames, deltapost, easyOP, easyComm])\n",
    "            else:\n",
    "                  print(str(num) + \") no delta found in: \"+ TOPIC)\n",
    "    return(my_data_log)"
   ]
  },
  {
   "cell_type": "code",
   "execution_count": 16,
   "metadata": {
    "scrolled": true
   },
   "outputs": [
    {
     "name": "stdout",
     "output_type": "stream",
     "text": [
      "0) no delta found in: CMV: The minimum wage should be directly attached to housing costs with low consideration of other factors.\n",
      "1) no delta found in: CMV: Trans participation in sports often has an unfair advantage over other competitors\n",
      "2) no delta found in: CMV: Mega threads are not a good place for any type of discussion\n",
      "3) no delta found in: CMV: Victimless Crimes Shouldn't Be Illegal\n",
      "4) no delta found in: CMV: Tipping culture is bad, and workers should just be paid a living wage\n",
      "5) no delta found in: CMV: There is no such thing as free will.\n",
      "6) no delta found in: CMV: I do not think that abortion before the beginning of the third trimester (30 week) is immoral.\n",
      "7) no delta found in: CMV: There is nothing wrong with wearing a White Poppy instead of the traditional red Remembrance Poppy during Remembrance Day.\n",
      "8) no delta found in: CMV: The US standardization of automatic transmissions over manuals as a superior method is like the way the rest of the world uses the metric system while the US uses their own weird custom system.\n",
      "9) no delta found in: CMV: on abortions\n",
      "10) no delta found in: CMV: The Japanese model of extremely low immigration, low natality rates, and huge burden on the working population is the best way forward for the developed world.\n",
      "11) no delta found in: CMV: Conservatives and Libertarians adore the Electoral College precisely because they know full well that they don’t represent the views of a majority of Americans.\n",
      "12) found a delta in: https://old.reddit.com/r/changemyview/comments/9pyolh/cmv_shelby_v_holder_is_a_bigger_example_of/\n",
      "13) no delta found in: CMV: To Vote for a Republican in a National Election, Someone Must Be Either Ignorant or Immoral\n",
      "14) no delta found in: CMV: Getting a decent dye job, specifically blonde, should not be so expensive\n",
      "15) no delta found in: CMV: The free market works in most cases, health care is not one of them.\n",
      "16) found a delta in: https://old.reddit.com/r/changemyview/comments/9pzxe9/cmv_affirmative_action_should_not_be_a_thing_at/\n",
      "17) no delta found in: CMV: The Senate handled the Kavanaugh confirmation process reasonably.\n",
      "18) found a delta in: https://old.reddit.com/r/changemyview/comments/9pkcih/cmv_the_pledge_of_allegiance_is_scary_and_stupid/\n",
      "19) no delta found in: CMV: My right to be protected as an American trumps/is a bigger right than a foreign national’s “right” to enter or immigrate to the United States. The US welfare system should be inaccessible to non citizens.\n",
      "24) no delta found in: CMV: On a societal level womens abilty to exploit man on a emotional level, needs to be nerfed.\n",
      "25) no delta found in: CMV: The new sorting algorithm for popular sucks ass and needs to be reverted back.\n",
      "26) no delta found in: CMV: Refugees from the other side of the world don't *need* to go to the USA and would do better in places without such a problem with racism and xenophobia.\n",
      "27) no delta found in: CMV: Identifying someone because of their clothes related to their race and where they grow up is not racism, it is character assessment\n",
      "28) no delta found in: CMV: National Treasure is an amazing movie and a national treasure of it's own.\n",
      "29) no delta found in: CMV: It should be made illegal for parents to buy their children video games with \"mature\" age ratings\n",
      "30) no delta found in: CMV: Media coverage of Jamal Khashoggi's murder exposes the deep immorality of American foreign policy\n",
      "31) found a delta in: https://old.reddit.com/r/changemyview/comments/9pv90g/cmv_cabbage_is_superior_to_lettuce/\n",
      "32) no delta found in: CMV: Prostitution Pt 2: Sex Work and Sex Trafficking are not the same thing\n",
      "33) no delta found in: CMV: When the USA taxes American emigrants, it really is theft.\n",
      "34) no delta found in: CMV: Disagreements about the definition of \"Racism\" are due more to the ambiguity of the word \"Power\" than the contextual misuse of the word.\n",
      "35) found a delta in: https://old.reddit.com/r/changemyview/comments/9q1hi9/cmvif_corporations_are_people_they_should_be_able/\n",
      "36) found a delta in: https://old.reddit.com/r/changemyview/comments/9ptthd/cmv_george_orwell_is_the_greatest_english/\n",
      "37) no delta found in: CMV: Guns are necessary to maintain a free state, and gun control has never worked.\n",
      "38) found a delta in: https://old.reddit.com/r/changemyview/comments/9q2wiv/cmvguys_should_not_date_women_810_years_older/\n",
      "39) no delta found in: CMV: The fact that able-bodied actors are cast in 98% of disabled roles is comparable to white actors playing people of colour in blackface.\n",
      "41) no delta found in: CMV: Plea deals distort justice and undermine the 6th amendment\n",
      "42) found a delta in: https://old.reddit.com/r/changemyview/comments/9pzsun/cmv_millennials_can_afford_houses/\n",
      "43) no delta found in: CMV: Emotion is not “real”\n",
      "44) no delta found in: CMV: As long as you're not being disruptive or harming the land, you should legally be able to camp on public National Forest and BLM land indefinitely.\n",
      "45) no delta found in: CMV: Burrata beats mozzarella every time\n",
      "46) found a delta in: https://old.reddit.com/r/changemyview/comments/9pu3nh/cmv_i_hated_my_academic_life/\n",
      "47) no delta found in: CMV: The abundance of data available to the general public about airliners and military jets pose serious security risks\n",
      "48) found a delta in: https://old.reddit.com/r/changemyview/comments/9pyupa/cmv_the_houses_of_the_us_congress_should_not_be/\n",
      "49) found a delta in: https://old.reddit.com/r/changemyview/comments/9pyupa/cmv_the_houses_of_the_us_congress_should_not_be/\n",
      "50) no delta found in: CMV: Referring to “Frankenstein’s monster” as “Frankenstein” is perfectly valid\n",
      "51) no delta found in: CMV: I think people in the U.S. are afraid of math.\n",
      "52) found a delta in: https://old.reddit.com/r/changemyview/comments/9pnlvh/cmv_people_are_going_to_do_it_anyway_is_a_bad/\n",
      "53) no delta found in: CMV: [UK] Letting Agent Fees should not be banned outright.\n",
      "54) no delta found in: CMV: The United States is going through another Gilded Age.\n",
      "55) found a delta in: https://old.reddit.com/r/changemyview/comments/9pb1fp/cmv_elizabeth_warrens_decision_to_release_her_dna/\n",
      "56) no delta found in: CMV: Being dead is no different from not having been conceived yet. Therefore we have all experienced the state that the \"afterlife\" has to offer and there is no mystery.\n",
      "57) no delta found in: CMV: I think all video games should have options to change your controls\n",
      "58) found a delta in: https://old.reddit.com/r/changemyview/comments/9ppm9u/cmv_legislatures_should_always_respect_the_will/\n",
      "59) found a delta in: https://old.reddit.com/r/changemyview/comments/9pz80g/cmv_cisgender_people_who_dont_meet_the_proper/\n",
      "60) found a delta in: https://old.reddit.com/r/changemyview/comments/9plwrs/cmv_an_ai_doomsday_scenario_will_not_happen/\n",
      "61) no delta found in: CMV: You can prove things in science\n",
      "62) no delta found in: CMV: No Mans Sky was never a bad game, and the community rushed it out.\n",
      "63) found a delta in: https://old.reddit.com/r/changemyview/comments/9pkrtf/cmv_hair_should_not_be_gendered/\n",
      "64) found a delta in: https://old.reddit.com/r/changemyview/comments/9pisur/cmv_zipup_onesies_should_have_the_zipper_rest_at/\n",
      "65) found a delta in: https://old.reddit.com/r/changemyview/comments/9pisur/cmv_zipup_onesies_should_have_the_zipper_rest_at/\n",
      "66) no delta found in: CMV: Nothing I can do as a cyclist will ever make drivers stop hating me.\n",
      "67) found a delta in: https://old.reddit.com/r/changemyview/comments/9pr1q6/cmv_the_state_should_start_regulating_procreation/\n",
      "68) no delta found in: CMV: Any benefits I've received from being a white male are primarily from non-white women and men. It seems like white privilege and the benefits of the patriarchy come from everyone except white men. I feel specially qualified to say this, because I'm not actually white, but people think I am.\n",
      "69) found a delta in: https://old.reddit.com/r/changemyview/comments/9pr61n/cmvpeople_who_use_the_word_nani_when_they_arent/\n",
      "70) no delta found in: CMV: The U.S. military and the defense industry is the largest and most useless (and dangerous) makework program in history.\n",
      "71) found a delta in: https://old.reddit.com/r/changemyview/comments/9p1ev6/cmv_people_should_stop_assuming_that_someone_in_a/\n"
     ]
    },
    {
     "name": "stdout",
     "output_type": "stream",
     "text": [
      "72) no delta found in: CMV: Elon Musk and SpaceX have zero chance of beating NASA to Mars.\n",
      "73) no delta found in: CMV: The way we construct the term 'race' is ill defined and filled with double standards\n",
      "74) no delta found in: CMV: The way we construct the term 'race' is ill defined and filled with double standards\n",
      "75) found a delta in: https://old.reddit.com/r/changemyview/comments/9pboti/cmv_i_hate_furries_because_the_furry_fandom_is_a/\n",
      "76) found a delta in: https://old.reddit.com/r/changemyview/comments/9pb55h/cmv_2018_uci_masters_champion_dr_rachel_mckinnon/\n",
      "77) found a delta in: https://old.reddit.com/r/changemyview/comments/9pa925/cmv_the_issue_of_abortion_from_a_morality/\n",
      "78) found a delta in: https://old.reddit.com/r/changemyview/comments/9pm63i/cmv_the_minimum_wage_should_be_abolished_it_is/\n",
      "79) found a delta in: https://old.reddit.com/r/changemyview/comments/9pm63i/cmv_the_minimum_wage_should_be_abolished_it_is/\n",
      "80) no delta found in: CMV: Music in pornography is distracting and unenjoyable\n",
      "81) no delta found in: CMV: The song I love It by Kanye West and Lil pump is a feminist song.\n",
      "82) no delta found in: CMV: Social Conservatism is just a manifestation of the \"End of History Illusion\"\n",
      "83) no delta found in: CMV: It's better to have no freedom of speech than to be given the allusion of freedom of speech.\n",
      "84) no delta found in: CMV:If the goal is to liberalize and secularize countries like Egypt and Saudi Arabia the west should not rush to isolate but rather slowly push them that way.\n",
      "85) found a delta in: https://old.reddit.com/r/changemyview/comments/9pblci/cmv_the_teenager_who_baked_her_grandfathers_ashes/\n",
      "86) found a delta in: https://old.reddit.com/r/changemyview/comments/9pb41n/cmv_health_insurrance_should_be_illegal_in_the_us/\n",
      "87) no delta found in: CMV: Pushing the \"Racism = Prejudice + Power\" definition hurts any conversation on racism thus has no conversational utiltiy and should be dropped.\n"
     ]
    },
    {
     "ename": "AttributeError",
     "evalue": "'NoneType' object has no attribute 'text'",
     "output_type": "error",
     "traceback": [
      "\u001b[1;31m---------------------------------------------------------------------------\u001b[0m",
      "\u001b[1;31mAttributeError\u001b[0m                            Traceback (most recent call last)",
      "\u001b[1;32m<ipython-input-16-8b55cb9fd9a1>\u001b[0m in \u001b[0;36m<module>\u001b[1;34m()\u001b[0m\n\u001b[1;32m----> 1\u001b[1;33m \u001b[0mmy_manual_data\u001b[0m \u001b[1;33m=\u001b[0m \u001b[0mmakeDF\u001b[0m\u001b[1;33m(\u001b[0m\u001b[0marr\u001b[0m\u001b[1;33m)\u001b[0m\u001b[1;33m\u001b[0m\u001b[0m\n\u001b[0m",
      "\u001b[1;32m<ipython-input-15-dc60d9bac169>\u001b[0m in \u001b[0;36mmakeDF\u001b[1;34m(post_range)\u001b[0m\n\u001b[0;32m      3\u001b[0m     \u001b[1;32mfor\u001b[0m \u001b[0mnum\u001b[0m \u001b[1;32min\u001b[0m \u001b[0mpost_range\u001b[0m\u001b[1;33m:\u001b[0m\u001b[1;33m\u001b[0m\u001b[0m\n\u001b[0;32m      4\u001b[0m         \u001b[1;32mif\u001b[0m \u001b[0mnum\u001b[0m \u001b[1;33m!=\u001b[0m \u001b[1;36m20\u001b[0m\u001b[1;33m:\u001b[0m\u001b[1;33m\u001b[0m\u001b[0m\n\u001b[1;32m----> 5\u001b[1;33m             \u001b[0mOPname\u001b[0m\u001b[1;33m,\u001b[0m \u001b[0mOPtxt\u001b[0m\u001b[1;33m,\u001b[0m \u001b[0mCommentText\u001b[0m\u001b[1;33m,\u001b[0m \u001b[0mcommentName\u001b[0m\u001b[1;33m,\u001b[0m \u001b[0mURL\u001b[0m\u001b[1;33m,\u001b[0m \u001b[0mTOPIC\u001b[0m\u001b[1;33m,\u001b[0m \u001b[0mdeltalink\u001b[0m\u001b[1;33m,\u001b[0m \u001b[0mdeltabot\u001b[0m\u001b[1;33m=\u001b[0m \u001b[0murlSearch\u001b[0m\u001b[1;33m(\u001b[0m\u001b[0mnum\u001b[0m\u001b[1;33m)\u001b[0m\u001b[1;33m\u001b[0m\u001b[0m\n\u001b[0m\u001b[0;32m      6\u001b[0m             \u001b[1;32mif\u001b[0m \u001b[0mdeltalink\u001b[0m \u001b[1;33m!=\u001b[0m \u001b[1;32mNone\u001b[0m \u001b[1;32mand\u001b[0m \u001b[0mlen\u001b[0m\u001b[1;33m(\u001b[0m\u001b[0mdeltalink\u001b[0m\u001b[1;33m)\u001b[0m \u001b[1;33m>\u001b[0m\u001b[1;36m0\u001b[0m\u001b[1;33m:\u001b[0m\u001b[1;33m\u001b[0m\u001b[0m\n\u001b[0;32m      7\u001b[0m                 \u001b[0mprint\u001b[0m\u001b[1;33m(\u001b[0m\u001b[0mstr\u001b[0m\u001b[1;33m(\u001b[0m\u001b[0mnum\u001b[0m\u001b[1;33m)\u001b[0m \u001b[1;33m+\u001b[0m \u001b[1;34m\") found a delta in: \"\u001b[0m\u001b[1;33m+\u001b[0m \u001b[0mURL\u001b[0m\u001b[1;33m)\u001b[0m\u001b[1;33m\u001b[0m\u001b[0m\n",
      "\u001b[1;32m~\\Documents\\GitHub\\ArguingAgents\\CMVscraper_script_delta.py\u001b[0m in \u001b[0;36murlSearch\u001b[1;34m(query)\u001b[0m\n\u001b[0;32m     90\u001b[0m     \u001b[0mTOPIC\u001b[0m \u001b[1;33m=\u001b[0m \u001b[0mtopics\u001b[0m\u001b[1;33m[\u001b[0m\u001b[0mitem\u001b[0m\u001b[1;33m]\u001b[0m\u001b[1;33m\u001b[0m\u001b[0m\n\u001b[0;32m     91\u001b[0m     \u001b[0mOPtxt\u001b[0m\u001b[1;33m,\u001b[0m \u001b[0mOPwords\u001b[0m\u001b[1;33m,\u001b[0m \u001b[0mOPname\u001b[0m \u001b[1;33m=\u001b[0m \u001b[0mgetOPtext\u001b[0m\u001b[1;33m(\u001b[0m\u001b[0mURL\u001b[0m\u001b[1;33m)\u001b[0m\u001b[1;33m\u001b[0m\u001b[0m\n\u001b[1;32m---> 92\u001b[1;33m     \u001b[0mcomments\u001b[0m\u001b[1;33m,\u001b[0m \u001b[0mcommentTXT\u001b[0m\u001b[1;33m,\u001b[0m \u001b[0mNames\u001b[0m\u001b[1;33m,\u001b[0m \u001b[0mdeltalink\u001b[0m\u001b[1;33m,\u001b[0m \u001b[0mdeltabot\u001b[0m \u001b[1;33m=\u001b[0m \u001b[0mgetComments\u001b[0m\u001b[1;33m(\u001b[0m\u001b[0mURL\u001b[0m\u001b[1;33m)\u001b[0m\u001b[1;33m\u001b[0m\u001b[0m\n\u001b[0m\u001b[0;32m     93\u001b[0m     \u001b[1;32mreturn\u001b[0m\u001b[1;33m(\u001b[0m\u001b[0mOPname\u001b[0m\u001b[1;33m,\u001b[0m \u001b[0mOPtxt\u001b[0m\u001b[1;33m,\u001b[0m \u001b[0mcommentTXT\u001b[0m\u001b[1;33m,\u001b[0m \u001b[0mNames\u001b[0m\u001b[1;33m,\u001b[0m \u001b[0mURL\u001b[0m\u001b[1;33m,\u001b[0m \u001b[0mTOPIC\u001b[0m\u001b[1;33m,\u001b[0m \u001b[0mdeltalink\u001b[0m\u001b[1;33m,\u001b[0m \u001b[0mdeltabot\u001b[0m\u001b[1;33m)\u001b[0m\u001b[1;33m\u001b[0m\u001b[0m\n\u001b[0;32m     94\u001b[0m \u001b[1;33m\u001b[0m\u001b[0m\n",
      "\u001b[1;32m~\\Documents\\GitHub\\ArguingAgents\\CMVscraper_script_delta.py\u001b[0m in \u001b[0;36mgetComments\u001b[1;34m(url)\u001b[0m\n\u001b[0;32m     57\u001b[0m         \u001b[1;32mif\u001b[0m \u001b[0mcomment\u001b[0m\u001b[1;33m.\u001b[0m\u001b[0mfind\u001b[0m\u001b[1;33m(\u001b[0m\u001b[1;34m'form'\u001b[0m\u001b[1;33m)\u001b[0m\u001b[1;33m:\u001b[0m\u001b[1;33m\u001b[0m\u001b[0m\n\u001b[0;32m     58\u001b[0m             \u001b[0mlink\u001b[0m \u001b[1;33m=\u001b[0m \u001b[0mcomment\u001b[0m\u001b[1;33m.\u001b[0m\u001b[0mfind\u001b[0m\u001b[1;33m(\u001b[0m\u001b[1;34m'a'\u001b[0m\u001b[1;33m,\u001b[0m\u001b[0mattrs\u001b[0m\u001b[1;33m=\u001b[0m\u001b[1;33m{\u001b[0m\u001b[1;34m'class'\u001b[0m\u001b[1;33m:\u001b[0m\u001b[1;34m'bylink'\u001b[0m\u001b[1;33m}\u001b[0m\u001b[1;33m)\u001b[0m\u001b[1;33m[\u001b[0m\u001b[1;34m'href'\u001b[0m\u001b[1;33m]\u001b[0m\u001b[1;33m\u001b[0m\u001b[0m\n\u001b[1;32m---> 59\u001b[1;33m             \u001b[1;32mif\u001b[0m \u001b[0mcomment\u001b[0m\u001b[1;33m.\u001b[0m\u001b[0mfind\u001b[0m\u001b[1;33m(\u001b[0m\u001b[1;34m'a'\u001b[0m\u001b[1;33m,\u001b[0m\u001b[0mattrs\u001b[0m\u001b[1;33m=\u001b[0m\u001b[1;33m{\u001b[0m\u001b[1;34m'class'\u001b[0m\u001b[1;33m:\u001b[0m\u001b[1;34m'author'\u001b[0m\u001b[1;33m}\u001b[0m\u001b[1;33m)\u001b[0m\u001b[1;33m.\u001b[0m\u001b[0mtext\u001b[0m \u001b[1;33m!=\u001b[0m \u001b[1;32mNone\u001b[0m\u001b[1;33m:\u001b[0m\u001b[1;33m\u001b[0m\u001b[0m\n\u001b[0m\u001b[0;32m     60\u001b[0m                 \u001b[0mcommenter\u001b[0m \u001b[1;33m=\u001b[0m \u001b[0mcomment\u001b[0m\u001b[1;33m.\u001b[0m\u001b[0mfind\u001b[0m\u001b[1;33m(\u001b[0m\u001b[1;34m'a'\u001b[0m\u001b[1;33m,\u001b[0m\u001b[0mattrs\u001b[0m\u001b[1;33m=\u001b[0m\u001b[1;33m{\u001b[0m\u001b[1;34m'class'\u001b[0m\u001b[1;33m:\u001b[0m\u001b[1;34m'author'\u001b[0m\u001b[1;33m}\u001b[0m\u001b[1;33m)\u001b[0m\u001b[1;33m.\u001b[0m\u001b[0mtext\u001b[0m\u001b[1;33m\u001b[0m\u001b[0m\n\u001b[0;32m     61\u001b[0m             \u001b[1;32melse\u001b[0m\u001b[1;33m:\u001b[0m\u001b[1;33m\u001b[0m\u001b[0m\n",
      "\u001b[1;31mAttributeError\u001b[0m: 'NoneType' object has no attribute 'text'"
     ]
    }
   ],
   "source": [
    "my_manual_data = makeDF(arr)\n"
   ]
  },
  {
   "cell_type": "code",
   "execution_count": null,
   "metadata": {},
   "outputs": [],
   "source": [
    "filename= 'cmv_0_to_170.csv'\n",
    "pd.DataFrame(my_manual_data, columns=['op_name','op_text','comment_name', 'comment_text', 'url', 'topic', 'delta_link', 'delta_names', 'delta_text', 'op_easy_score', 'delta_easy_score']).to_csv(filename)\n",
    "#my_data.append(my_manual_data)\n",
    "\n",
    "\n",
    "# not 20 to 23, 40,88,89,93,94,103,104,135,136\n",
    "#my_data = makeDF(range(0,50, 1),'0_to_50')\n",
    "#my_data2 = makeDF(range(50,100, 1), '51_to_100')\n",
    "#my_data3 = makeDF(range(101,150, 1), '101_to_150')\n",
    "print(len(my_data))\n",
    "#print(my_data2[0][7])\n",
    "#print(my_data2[0][8][2])"
   ]
  },
  {
   "cell_type": "code",
   "execution_count": null,
   "metadata": {},
   "outputs": [],
   "source": [
    "arr =[12,18,31,35,36,38,42,46,48,49,52,55,58,59,60,63,64,65,67,69,71,75,76,77,78,79,85,86]"
   ]
  },
  {
   "cell_type": "code",
   "execution_count": null,
   "metadata": {},
   "outputs": [],
   "source": [
    "this = []\n",
    "for i in range(len(my_data)):\n",
    "    for j in range(len(my_data[i])):\n",
    "        this.append(my_data[i][j])\n",
    "filename= 'cmv_0_to_170.csv'\n",
    "print(len(this))\n",
    "pd.DataFrame(this, columns=['op_name','op_text','comment_name', 'comment_text', 'url', 'topic', 'delta_link', 'delta_names', 'delta_text', 'op_easy_score', 'delta_easy_score']).to_csv(filename)"
   ]
  },
  {
   "cell_type": "code",
   "execution_count": 9,
   "metadata": {},
   "outputs": [
    {
     "name": "stdout",
     "output_type": "stream",
     "text": [
      "[0, 1, 2, 3, 4, 5, 6, 7, 8, 9, 10, 11, 12, 13, 14, 15, 16, 17, 18, 19, 24, 25, 26, 27, 28, 29, 30, 31, 32, 33, 34, 35, 36, 37, 38, 39, 41, 42, 43, 44, 45, 46, 47, 48, 49, 50, 51, 52, 53, 54, 55, 56, 57, 58, 59, 60, 61, 62, 63, 64, 65, 66, 67, 68, 69, 70, 71, 72, 73, 74, 75, 76, 77, 78, 79, 80, 81, 82, 83, 84, 85, 86, 87, 90, 91, 92, 95, 96, 97, 98, 99, 100, 101, 102, 105, 106, 107, 108, 109, 110, 111, 112, 113, 114, 115, 116, 117, 118, 119, 120, 121, 122, 123, 124, 125, 126, 127, 128, 129, 130, 131, 132, 133, 134]\n"
     ]
    }
   ],
   "source": [
    "arr +=[i for i in range(90,93)]+[i for i in range(95,103)]+[i for i in range(105,135)]\n",
    "#[OPname, OPtxt, commentName,CommentText,  URL, TOPIC, deltalink, deltaNames, deltapost, easyOP, easyComm]\n",
    "#for i in range(len(my_data)):\n",
    "#    print(my_data[i][4]) \n",
    "#    print(my_data[i][5])\n",
    "#    print(my_data[i][7])\n",
    "#    print(my_data[i][8])\n",
    "print(arr)"
   ]
  },
  {
   "cell_type": "raw",
   "metadata": {},
   "source": []
  },
  {
   "cell_type": "code",
   "execution_count": null,
   "metadata": {},
   "outputs": [],
   "source": [
    "def getDeltaNames(deltalink, deltabot, CommentText):\n",
    "    if deltabot == True:\n",
    "        deltaTXT = CommentText[0]\n",
    "        deltaW = deltaTXT.split()\n",
    "        deltaNumber = int(deltaTXT.split()[4])\n",
    "        #print(deltaW)\n",
    "        #print(deltaNumber)\n",
    "        #print(deltalink[0])\n",
    "\n",
    "    from bs4 import BeautifulSoup\n",
    "\n",
    "    if deltalink != None:\n",
    "\n",
    "        url = deltalink[0]\n",
    "        store = []\n",
    "\n",
    "        comment_area = souper(url).find('div',attrs={'class':'commentarea'})\n",
    "        comments = comment_area.find_all('div', attrs={'class':'entry unvoted'})\n",
    "        for comment in comments: \n",
    "                if comment.find('form'):\n",
    "                    delta = comment.find('div', {'class': 'md'})\n",
    "                    if delta.find('a', {'href': True}, text='here')!= None:\n",
    "                        store.append(delta.find('a', {'href': True}, text='here'))\n",
    "\n",
    "        deltaurl = str(store[0])\n",
    "        #print(deltaurl)\n",
    "        remove_letters = len(deltaurl)\n",
    "        for i in range(len(deltaurl)):\n",
    "            if deltaurl[i] == \">\":\n",
    "                remove_letters-=i - 1\n",
    "                break\n",
    "\n",
    "        #print(remove_letters)\n",
    "\n",
    "        deltaurl = \"https://old.reddit.com\"+ deltaurl[9:-remove_letters]\n",
    "\n",
    "        #print(deltaurl)\n",
    "        #print(store)\n",
    "\n",
    "        store = []\n",
    "        main_table = souper(deltaurl).find(\"div\",attrs={'id':'siteTable'})\n",
    "        entries = main_table.find_all(\"div\",attrs={'class':'entry unvoted'})\n",
    "        #print(main_table)\n",
    "        #print(entries)\n",
    "        for entry in entries:\n",
    "            if entry.find('form'):\n",
    "                #print(entry.find('form'))\n",
    "                delta = entry.find('div', {'class': 'md'})\n",
    "                #print(delta)\n",
    "                allNames = delta.find_all('a', {'href': True})\n",
    "                comment_a_tags = delta.find_all('a',attrs={'href':True})\n",
    "                delta_urls = []\n",
    "                for a_tag in comment_a_tags:\n",
    "                    delta_url = a_tag['href']\n",
    "                    delta_urls.append(delta_url)\n",
    "        print(delta_urls)\n",
    "        deltanames = []\n",
    "        deltacomment = []\n",
    "        for i in range(4,4+deltaNumber*2,2):\n",
    "            #print(i)\n",
    "            deltanames.append(delta_urls[i])\n",
    "            deltacomment.append(\"https://old.reddit.com\"+delta_urls[i+1])\n",
    "            \n",
    "        deltanames, deltacomment = getdeltatext(deltacomment)\n",
    "        #print(deltanames)\n",
    "        #print(deltacomment)\n",
    "        return(deltanames, deltacomment, delta_urls)\n",
    "\n",
    "def getdeltatext(url):\n",
    "    name = []\n",
    "    text = []\n",
    "    for i in range(len(url)):\n",
    "        comment_area = souper(url[i]).find('div',attrs={'class':'commentarea'})\n",
    "        comments = comment_area.find_all('div', attrs={'class':'entry unvoted'})\n",
    "        textComm = ''\n",
    "        names = ''\n",
    "        for comment in comments: \n",
    "            if comment.find('form'):\n",
    "                commenter = comment.find('a',attrs={'class':'author'}).text\n",
    "                comment_text = comment.find('div',attrs={'class':'md'}).text\n",
    "                textComm = comment_text\n",
    "                names = commenter\n",
    "                if textComm != '' and names!= '':\n",
    "                    name.append(names)\n",
    "                    text.append(textComm)\n",
    "                    break\n",
    "    return(name, text)\n"
   ]
  },
  {
   "cell_type": "code",
   "execution_count": null,
   "metadata": {},
   "outputs": [],
   "source": [
    "OPname, OPtxt, CommentText, commentName, URL, TOPIC, deltalink, deltabot= urlSearch(15)\n",
    "if deltalink != None and len(deltalink) >0:\n",
    "    print(\"found a delta in: \"+ URL)\n",
    "    deltaNames, deltaComments, delta_urls = getDeltaNames(deltalink, deltabot, CommentText)\n",
    "    print(deltaComments[0])"
   ]
  },
  {
   "cell_type": "code",
   "execution_count": null,
   "metadata": {},
   "outputs": [],
   "source": [
    "print(deltaNames[1])\n",
    "print(deltaComments[1])"
   ]
  },
  {
   "cell_type": "code",
   "execution_count": null,
   "metadata": {},
   "outputs": [],
   "source": [
    "kinOP = flesch_kincaid_OP(OPtxt)\n",
    "kinComm= flesch_kincaid_comm(CommentText)\n",
    "easyOP = flesch_ease_OP(OPtxt)\n",
    "easyComm = flesch_ease_comm(CommentText)\n",
    "\n",
    "#for some reason doesnt work but does below\n",
    "(similar, locsimilar) = similarEase(easyOP, easyComm, CommentText, commentName)\n",
    "print(similar)"
   ]
  },
  {
   "cell_type": "markdown",
   "metadata": {},
   "source": [
    "(similar, locsimilar) = similarEase(easyOP, easyComm, CommentText, commentName, OPname)\n",
    "detlat"
   ]
  },
  {
   "cell_type": "code",
   "execution_count": null,
   "metadata": {},
   "outputs": [],
   "source": [
    "#sort the list of similar\n",
    "similar, locsimilar = zip(*sorted(zip(similar, locsimilar)))\n",
    "print(similar)\n",
    "print(locsimilar)"
   ]
  },
  {
   "cell_type": "code",
   "execution_count": null,
   "metadata": {},
   "outputs": [],
   "source": [
    "deltas_txt = []\n",
    "op_txt = []\n",
    "for i in range(5):\n",
    "    OPname, OPtxt, CommentText, commentName, URL, TOPIC, deltalink, deltabot= urlSearch(i)\n",
    "    \n",
    "    if deltalink != None and len(deltalink) >0:\n",
    "        op_txt.append(OPtxt)\n",
    "        deltaNames, deltaComments = getDeltaNames(deltalink, deltabot, CommentText)\n",
    "        deltas_txt.append(find_delta_txt(deltaNames, deltaComments, CommentText, commentName))\n"
   ]
  },
  {
   "cell_type": "markdown",
   "metadata": {},
   "source": [
    "##### op_easy = flesch_ease_comm(op_txt)\n",
    "delta_easy = flesch_ease_comm(deltas_txt[4])\n",
    "\n",
    "print(delta_easy)"
   ]
  },
  {
   "cell_type": "code",
   "execution_count": null,
   "metadata": {},
   "outputs": [],
   "source": [
    "# def urlSearch(query):\n",
    "#     import math\n",
    "#     page_number = math.floor(query/25)\n",
    "#     item = query-(page_number*25)-1\n",
    "#     url =  \"https://old.reddit.com/r/changemyview/\"\n",
    "#     if page_number <1:\n",
    "#         url = url\n",
    "#     else:\n",
    "#         for i in range(page_number):\n",
    "#             url = get_next_page(url)\n",
    "#     ##two vectors of topics and urls\n",
    "#     topics, urls = linksAndTopics(url)\n",
    "    \n",
    "#     URL = urls[item]\n",
    "#     ##return all data\n",
    "#     TOPIC = topics[item]\n",
    "#     OPtxt, OPwords, OPname = getOPtext(URL)\n",
    "#     comments, commentTXT, Names, deltalink, deltabot = getComments(URL)\n",
    "#     return(OPname, OPtxt, commentTXT, Names, URL, TOPIC, deltalink, deltabot)  \n",
    "\n",
    "# def get_next_page(url):\n",
    "#     url = souper(url).find_all(\"span\",attrs={'class':\"next-button\"})\n",
    "#     url = str(url).split('>')[1].split(\"\\\"\")[1]\n",
    "#     return url\n",
    "#deltapost = find_delta_txt(deltaNames, deltaComments, CommentText, commentName)"
   ]
  },
  {
   "cell_type": "code",
   "execution_count": null,
   "metadata": {},
   "outputs": [],
   "source": [
    "OPname, OPtxt, CommentText, commentName, URL, TOPIC, deltalink, deltabot= urlSearch(186)\n",
    "print(TOPIC)\n",
    "print(URL)"
   ]
  },
  {
   "cell_type": "code",
   "execution_count": null,
   "metadata": {},
   "outputs": [],
   "source": [
    "df.to_csv(file_name, encoding='utf-8', index=False)"
   ]
  },
  {
   "cell_type": "code",
   "execution_count": null,
   "metadata": {},
   "outputs": [],
   "source": []
  }
 ],
 "metadata": {
  "kernelspec": {
   "display_name": "Python 3",
   "language": "python",
   "name": "python3"
  }
 },
 "nbformat": 4,
 "nbformat_minor": 2
}
