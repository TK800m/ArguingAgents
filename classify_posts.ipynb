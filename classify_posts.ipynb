{
 "cells": [
  {
   "cell_type": "code",
   "execution_count": 1,
   "metadata": {},
   "outputs": [
    {
     "name": "stderr",
     "output_type": "stream",
     "text": [
      "c:\\users\\paul\\appdata\\local\\programs\\python\\python36\\lib\\site-packages\\gensim\\utils.py:1212: UserWarning: detected Windows; aliasing chunkize to chunkize_serial\n",
      "  warnings.warn(\"detected Windows; aliasing chunkize to chunkize_serial\")\n",
      "Using TensorFlow backend.\n"
     ]
    }
   ],
   "source": [
    "import gensim\n",
    "import keras\n",
    "import numpy as np\n",
    "from CMVscraper_script_delta import *\n",
    "from detect_and_score import *"
   ]
  },
  {
   "cell_type": "markdown",
   "metadata": {},
   "source": [
    "Load Google's word2vec model"
   ]
  },
  {
   "cell_type": "code",
   "execution_count": 2,
   "metadata": {},
   "outputs": [],
   "source": [
    "word2vec = gensim.models.KeyedVectors.load_word2vec_format ('models/GoogleNews-vectors-negative300.bin', binary=True)  "
   ]
  },
  {
   "cell_type": "code",
   "execution_count": 3,
   "metadata": {},
   "outputs": [],
   "source": [
    "#word2vec.similarity(\"cat\", \"dog\")"
   ]
  },
  {
   "cell_type": "markdown",
   "metadata": {},
   "source": [
    "Load in our own Keras LSTM models"
   ]
  },
  {
   "cell_type": "code",
   "execution_count": 4,
   "metadata": {},
   "outputs": [],
   "source": [
    "detect_model = keras.models.load_model(\"models/bilstm_cos.h5\")"
   ]
  },
  {
   "cell_type": "code",
   "execution_count": 5,
   "metadata": {},
   "outputs": [],
   "source": [
    "#model2 = keras.models.load_model(\"models/bilstm_evidence.h5\")"
   ]
  },
  {
   "cell_type": "code",
   "execution_count": 6,
   "metadata": {},
   "outputs": [],
   "source": [
    "score_model = keras.models.load_model(\"models/argument_quality.h5\")"
   ]
  },
  {
   "cell_type": "code",
   "execution_count": 9,
   "metadata": {},
   "outputs": [
    {
     "ename": "TypeError",
     "evalue": "'NoneType' object is not iterable",
     "output_type": "error",
     "traceback": [
      "\u001b[1;31m---------------------------------------------------------------------------\u001b[0m",
      "\u001b[1;31mTypeError\u001b[0m                                 Traceback (most recent call last)",
      "\u001b[1;32m<ipython-input-9-04dfc2adcd0d>\u001b[0m in \u001b[0;36m<module>\u001b[1;34m()\u001b[0m\n\u001b[0;32m      1\u001b[0m \u001b[0mOPname\u001b[0m\u001b[1;33m,\u001b[0m \u001b[0mOPtxt\u001b[0m\u001b[1;33m,\u001b[0m \u001b[0mCommentText\u001b[0m\u001b[1;33m,\u001b[0m \u001b[0mcommentName\u001b[0m\u001b[1;33m,\u001b[0m \u001b[0mURL\u001b[0m\u001b[1;33m,\u001b[0m \u001b[0mTOPIC\u001b[0m\u001b[1;33m,\u001b[0m \u001b[0mdeltalink\u001b[0m\u001b[1;33m,\u001b[0m \u001b[0mdeltabot\u001b[0m \u001b[1;33m=\u001b[0m \u001b[0msearch\u001b[0m\u001b[1;33m(\u001b[0m\u001b[1;34m\"Twitch\"\u001b[0m\u001b[1;33m)\u001b[0m\u001b[1;33m\u001b[0m\u001b[0m\n\u001b[0;32m      2\u001b[0m \u001b[1;31m#OPname, OPtxt, CommentText, commentName, URL, TOPIC, deltalink, deltabot = urlSearch(20)\u001b[0m\u001b[1;33m\u001b[0m\u001b[1;33m\u001b[0m\u001b[0m\n\u001b[1;32m----> 3\u001b[1;33m \u001b[0mdeltaNames\u001b[0m\u001b[1;33m,\u001b[0m \u001b[0mdeltaComments\u001b[0m \u001b[1;33m=\u001b[0m \u001b[0mgetDeltaNames\u001b[0m\u001b[1;33m(\u001b[0m\u001b[0mdeltalink\u001b[0m\u001b[1;33m,\u001b[0m \u001b[0mdeltabot\u001b[0m\u001b[1;33m,\u001b[0m \u001b[0mCommentText\u001b[0m\u001b[1;33m)\u001b[0m\u001b[1;33m\u001b[0m\u001b[0m\n\u001b[0m\u001b[0;32m      4\u001b[0m \u001b[0mdelta_post\u001b[0m \u001b[1;33m=\u001b[0m \u001b[0mfind_delta_txt\u001b[0m\u001b[1;33m(\u001b[0m\u001b[0mdeltaNames\u001b[0m\u001b[1;33m,\u001b[0m \u001b[0mdeltaComments\u001b[0m\u001b[1;33m,\u001b[0m \u001b[0mCommentText\u001b[0m\u001b[1;33m,\u001b[0m \u001b[0mcommentName\u001b[0m\u001b[1;33m)\u001b[0m\u001b[1;33m\u001b[0m\u001b[0m\n",
      "\u001b[1;31mTypeError\u001b[0m: 'NoneType' object is not iterable"
     ]
    }
   ],
   "source": [
    "OPname, OPtxt, CommentText, commentName, URL, TOPIC, deltalink, deltabot = search(\"Twitch\")\n",
    "#OPname, OPtxt, CommentText, commentName, URL, TOPIC, deltalink, deltabot = urlSearch(20)\n",
    "deltaNames, deltaComments = getDeltaNames(deltalink, deltabot, CommentText)\n",
    "delta_post = find_delta_txt(deltaNames, deltaComments, CommentText, commentName)"
   ]
  },
  {
   "cell_type": "code",
   "execution_count": null,
   "metadata": {},
   "outputs": [],
   "source": [
    "topic = TOPIC.split(\":\")[1]\n",
    "topic"
   ]
  },
  {
   "cell_type": "code",
   "execution_count": null,
   "metadata": {},
   "outputs": [],
   "source": [
    "OP_post = OPtxt\n",
    "OP_post"
   ]
  },
  {
   "cell_type": "code",
   "execution_count": null,
   "metadata": {},
   "outputs": [],
   "source": [
    "OP_arguments = detect_and_score(detect_model, score_model, OP_post, topic, word2vec)\n",
    "comment_arguments = detect_and_score(detect_model, score_model, CommentText[1], topic, word2vec)\n",
    "delta_arguments = detect_and_score(detect_model, score_model, delta_post[0], topic, word2vec)"
   ]
  },
  {
   "cell_type": "code",
   "execution_count": null,
   "metadata": {},
   "outputs": [],
   "source": [
    "calculate_score(OP_arguments)"
   ]
  },
  {
   "cell_type": "code",
   "execution_count": null,
   "metadata": {},
   "outputs": [],
   "source": [
    "calculate_score(comment_arguments)"
   ]
  },
  {
   "cell_type": "code",
   "execution_count": null,
   "metadata": {},
   "outputs": [],
   "source": [
    "calculate_score(delta_arguments)"
   ]
  },
  {
   "cell_type": "code",
   "execution_count": null,
   "metadata": {},
   "outputs": [],
   "source": [
    "delta_post[0]"
   ]
  },
  {
   "cell_type": "code",
   "execution_count": null,
   "metadata": {},
   "outputs": [],
   "source": []
  },
  {
   "cell_type": "code",
   "execution_count": null,
   "metadata": {},
   "outputs": [],
   "source": []
  },
  {
   "cell_type": "code",
   "execution_count": null,
   "metadata": {},
   "outputs": [],
   "source": []
  }
 ],
 "metadata": {
  "kernelspec": {
   "display_name": "Python 3",
   "language": "python",
   "name": "python3"
  },
  "language_info": {
   "codemirror_mode": {
    "name": "ipython",
    "version": 3
   },
   "file_extension": ".py",
   "mimetype": "text/x-python",
   "name": "python",
   "nbconvert_exporter": "python",
   "pygments_lexer": "ipython3",
   "version": "3.6.2"
  }
 },
 "nbformat": 4,
 "nbformat_minor": 2
}
